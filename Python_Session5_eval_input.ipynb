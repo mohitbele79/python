{
 "cells": [
  {
   "cell_type": "markdown",
   "id": "c243d45b-b047-4d7d-9928-03fc04c33a6a",
   "metadata": {},
   "source": [
    "# eval_input"
   ]
  },
  {
   "cell_type": "markdown",
   "id": "bfe60e1b-47f7-4699-8669-490e818bed65",
   "metadata": {},
   "source": [
    "- input is as function that take the 'random input from the user'.\n",
    "- input function by defual data type is 'str'\n",
    "- when ever we perform any math opration we need required to convert the \"str -----> float, int, bool\".\n",
    "- when we give the particular data type to input function and user are Enter anther data type input then it throw error.\n",
    "- for the solving this error problem use of \"eval\" is bast practice .\n",
    "- \"eval\" means evaluation it take the data type according to the user enter input.  "
   ]
  },
  {
   "cell_type": "code",
   "execution_count": 3,
   "id": "981480ef-8dc8-4991-b38c-b2f2e774e916",
   "metadata": {},
   "outputs": [
    {
     "data": {
      "text/plain": [
       "300"
      ]
     },
     "execution_count": 3,
     "metadata": {},
     "output_type": "execute_result"
    }
   ],
   "source": [
    "num1=100\n",
    "num2=200\n",
    "add=num1+num2\n",
    "add"
   ]
  },
  {
   "cell_type": "code",
   "execution_count": 4,
   "id": "8d37f4b5-b414-4d09-92e9-816447e7550e",
   "metadata": {},
   "outputs": [
    {
     "name": "stdin",
     "output_type": "stream",
     "text": [
      " 5\n"
     ]
    },
    {
     "data": {
      "text/plain": [
       "'5'"
      ]
     },
     "execution_count": 4,
     "metadata": {},
     "output_type": "execute_result"
    }
   ],
   "source": [
    "input()"
   ]
  },
  {
   "cell_type": "code",
   "execution_count": 5,
   "id": "8f57dfb5-baaa-490b-b34f-6970600a8e9d",
   "metadata": {},
   "outputs": [
    {
     "name": "stdin",
     "output_type": "stream",
     "text": [
      " 55\n",
      " 212\n",
      " 5\n"
     ]
    },
    {
     "data": {
      "text/plain": [
       "'5'"
      ]
     },
     "execution_count": 5,
     "metadata": {},
     "output_type": "execute_result"
    }
   ],
   "source": [
    "input()\n",
    "input()\n",
    "input()"
   ]
  },
  {
   "cell_type": "code",
   "execution_count": 6,
   "id": "09a5dd0c-530c-4bf5-ba63-173f0d372a4b",
   "metadata": {},
   "outputs": [
    {
     "name": "stdin",
     "output_type": "stream",
     "text": [
      "Enter the value 1  :  54\n",
      "Enter the value 2  :  54\n"
     ]
    }
   ],
   "source": [
    "num=input('Enter the value 1  : ')\n",
    "num1=input('Enter the value 2  : ')"
   ]
  },
  {
   "cell_type": "code",
   "execution_count": 7,
   "id": "bbcfb71f-68f8-4168-81bd-916c4b1b1f46",
   "metadata": {},
   "outputs": [
    {
     "data": {
      "text/plain": [
       "'54'"
      ]
     },
     "execution_count": 7,
     "metadata": {},
     "output_type": "execute_result"
    }
   ],
   "source": [
    "num\n"
   ]
  },
  {
   "cell_type": "code",
   "execution_count": 5,
   "id": "e9bc0207-96ac-40e7-8391-82ffd15d34c4",
   "metadata": {},
   "outputs": [
    {
     "data": {
      "text/plain": [
       "'400'"
      ]
     },
     "execution_count": 5,
     "metadata": {},
     "output_type": "execute_result"
    }
   ],
   "source": [
    "num1\n"
   ]
  },
  {
   "cell_type": "code",
   "execution_count": 12,
   "id": "920d6a7f-19fd-41c2-9c48-28d51d15008a",
   "metadata": {},
   "outputs": [
    {
     "name": "stdin",
     "output_type": "stream",
     "text": [
      "Enter the value :  5\n"
     ]
    }
   ],
   "source": [
    "num1=int(input('Enter the value : '))"
   ]
  },
  {
   "cell_type": "code",
   "execution_count": 11,
   "id": "5ab7efb0-6379-4776-bd71-fc640ed10bd3",
   "metadata": {},
   "outputs": [
    {
     "name": "stdin",
     "output_type": "stream",
     "text": [
      "Enter the value of :  5252.5555\n"
     ]
    }
   ],
   "source": [
    "num2=float(input('Enter the value of : '))"
   ]
  },
  {
   "cell_type": "code",
   "execution_count": 13,
   "id": "98c2ffa4-e140-42d4-b99f-ac32505929f3",
   "metadata": {},
   "outputs": [
    {
     "name": "stdin",
     "output_type": "stream",
     "text": [
      "Enter the value of :  555.2222\n"
     ]
    }
   ],
   "source": [
    "num3=eval(input('Enter the value of : '))"
   ]
  },
  {
   "cell_type": "code",
   "execution_count": 14,
   "id": "0555d6f7-668a-4df3-945d-08017cdef0cc",
   "metadata": {},
   "outputs": [
    {
     "data": {
      "text/plain": [
       "float"
      ]
     },
     "execution_count": 14,
     "metadata": {},
     "output_type": "execute_result"
    }
   ],
   "source": [
    "type(num3)"
   ]
  },
  {
   "cell_type": "code",
   "execution_count": 8,
   "id": "6b5fbe79-b87b-4f24-ae62-04a4ff1ddb53",
   "metadata": {},
   "outputs": [
    {
     "name": "stdin",
     "output_type": "stream",
     "text": [
      "Enter the valur in int only 12.5\n"
     ]
    },
    {
     "ename": "ValueError",
     "evalue": "invalid literal for int() with base 10: '12.5'",
     "output_type": "error",
     "traceback": [
      "\u001b[1;31m---------------------------------------------------------------------------\u001b[0m",
      "\u001b[1;31mValueError\u001b[0m                                Traceback (most recent call last)",
      "Cell \u001b[1;32mIn[8], line 1\u001b[0m\n\u001b[1;32m----> 1\u001b[0m a\u001b[38;5;241m=\u001b[39m\u001b[38;5;28mint\u001b[39m(\u001b[38;5;28minput\u001b[39m(\u001b[38;5;124m\"\u001b[39m\u001b[38;5;124mEnter the valur in int only\u001b[39m\u001b[38;5;124m\"\u001b[39m))\n\u001b[0;32m      2\u001b[0m a\n",
      "\u001b[1;31mValueError\u001b[0m: invalid literal for int() with base 10: '12.5'"
     ]
    }
   ],
   "source": [
    "a=int(input(\"Enter the valur in int only\"))\n",
    "a"
   ]
  },
  {
   "cell_type": "code",
   "execution_count": 10,
   "id": "a0a11ed4-4805-404a-95a2-5fa5e34fe2b8",
   "metadata": {},
   "outputs": [
    {
     "name": "stdin",
     "output_type": "stream",
     "text": [
      "Enter the value in float only :  100\n"
     ]
    },
    {
     "data": {
      "text/plain": [
       "100.0"
      ]
     },
     "execution_count": 10,
     "metadata": {},
     "output_type": "execute_result"
    }
   ],
   "source": [
    "b=float(input('Enter the value in float only : '))\n",
    "b"
   ]
  },
  {
   "cell_type": "code",
   "execution_count": 11,
   "id": "d631833f-f1c8-455b-8ad8-ab8a1480115f",
   "metadata": {},
   "outputs": [
    {
     "name": "stdin",
     "output_type": "stream",
     "text": [
      "Enter only boolean value:  True\n"
     ]
    },
    {
     "data": {
      "text/plain": [
       "True"
      ]
     },
     "execution_count": 11,
     "metadata": {},
     "output_type": "execute_result"
    }
   ],
   "source": [
    "c=bool(input('Enter only boolean value: '))\n",
    "c"
   ]
  },
  {
   "cell_type": "code",
   "execution_count": 12,
   "id": "9b3b5e3b-db1e-4e6f-b9ec-37646ce1fc82",
   "metadata": {},
   "outputs": [
    {
     "name": "stdin",
     "output_type": "stream",
     "text": [
      "Enter only boolean value:  1\n"
     ]
    },
    {
     "data": {
      "text/plain": [
       "True"
      ]
     },
     "execution_count": 12,
     "metadata": {},
     "output_type": "execute_result"
    }
   ],
   "source": [
    "d=bool(input('Enter only boolean value: '))\n",
    "d"
   ]
  },
  {
   "cell_type": "code",
   "execution_count": 13,
   "id": "c21f3a89-8dcd-4917-9de3-4237e95f4483",
   "metadata": {},
   "outputs": [
    {
     "name": "stdin",
     "output_type": "stream",
     "text": [
      "Enter only boolean value:  0\n"
     ]
    },
    {
     "data": {
      "text/plain": [
       "True"
      ]
     },
     "execution_count": 13,
     "metadata": {},
     "output_type": "execute_result"
    }
   ],
   "source": [
    "e=bool(input('Enter only boolean value: '))\n",
    "e\n"
   ]
  },
  {
   "cell_type": "code",
   "execution_count": 14,
   "id": "60ce4918-825d-482b-949c-85fa93be228d",
   "metadata": {},
   "outputs": [
    {
     "name": "stdin",
     "output_type": "stream",
     "text": [
      "Enter only boolean value:  \n"
     ]
    },
    {
     "data": {
      "text/plain": [
       "False"
      ]
     },
     "execution_count": 14,
     "metadata": {},
     "output_type": "execute_result"
    }
   ],
   "source": [
    "f=bool(input('Enter only boolean value: '))\n",
    "f"
   ]
  },
  {
   "cell_type": "code",
   "execution_count": 15,
   "id": "a00bce7e-2039-4c7a-8bb4-a3af2f159dba",
   "metadata": {},
   "outputs": [
    {
     "name": "stdin",
     "output_type": "stream",
     "text": [
      "Enter the Value :  1000\n"
     ]
    },
    {
     "data": {
      "text/plain": [
       "1000"
      ]
     },
     "execution_count": 15,
     "metadata": {},
     "output_type": "execute_result"
    }
   ],
   "source": [
    "num=eval(input('Enter the Value : '))\n",
    "num"
   ]
  },
  {
   "cell_type": "code",
   "execution_count": 16,
   "id": "b8a95170-e63d-42b1-a59b-8aa8a8301d44",
   "metadata": {},
   "outputs": [
    {
     "name": "stdout",
     "output_type": "stream",
     "text": [
      "<class 'int'>\n"
     ]
    }
   ],
   "source": [
    "print(type(num))"
   ]
  },
  {
   "cell_type": "code",
   "execution_count": null,
   "id": "330e6c83-ef99-45f6-9294-ad147823a620",
   "metadata": {},
   "outputs": [],
   "source": []
  }
 ],
 "metadata": {
  "kernelspec": {
   "display_name": "Python 3 (ipykernel)",
   "language": "python",
   "name": "python3"
  },
  "language_info": {
   "codemirror_mode": {
    "name": "ipython",
    "version": 3
   },
   "file_extension": ".py",
   "mimetype": "text/x-python",
   "name": "python",
   "nbconvert_exporter": "python",
   "pygments_lexer": "ipython3",
   "version": "3.11.7"
  }
 },
 "nbformat": 4,
 "nbformat_minor": 5
}
