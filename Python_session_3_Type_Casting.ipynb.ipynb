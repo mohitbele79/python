{
 "cells": [
  {
   "cell_type": "markdown",
   "id": "bcdbd4b7-8290-4ca3-8f7a-a4e3d3cb8b2a",
   "metadata": {},
   "source": [
    "## Type Casting"
   ]
  },
  {
   "cell_type": "markdown",
   "id": "5529efea-09b2-4ef1-a583-27516072279b",
   "metadata": {},
   "source": [
    "# General Syntax,\n",
    "#           New_Variable=Data_Type(Old_Variable)\n",
    "\n",
    "          - Data_Type = in which we can convert the Old_Variable type.\n",
    "          - old_Variable = variable convert into anther type.\n",
    "          - New_Variable = Converted value store into that variable.   "
   ]
  },
  {
   "cell_type": "code",
   "execution_count": 1,
   "id": "82e3b2c4-79db-458e-8077-030bed4f3014",
   "metadata": {},
   "outputs": [
    {
     "data": {
      "text/plain": [
       "100.0"
      ]
     },
     "execution_count": 1,
     "metadata": {},
     "output_type": "execute_result"
    }
   ],
   "source": [
    "num=100\n",
    "a=float(num)\n",
    "a"
   ]
  },
  {
   "cell_type": "code",
   "execution_count": null,
   "id": "b69602e0-340a-42b6-9d4c-7481d9266111",
   "metadata": {},
   "outputs": [],
   "source": []
  },
  {
   "cell_type": "code",
   "execution_count": 2,
   "id": "e6a9e7e9-27f8-4c3b-9a7e-fff39b4ddfe0",
   "metadata": {},
   "outputs": [
    {
     "data": {
      "text/plain": [
       "120"
      ]
     },
     "execution_count": 2,
     "metadata": {},
     "output_type": "execute_result"
    }
   ],
   "source": [
    "b=120.25\n",
    "c=int(b)\n",
    "c"
   ]
  },
  {
   "cell_type": "code",
   "execution_count": null,
   "id": "7e3bdddc-d86d-4963-a8ea-874ae41b0f5d",
   "metadata": {},
   "outputs": [],
   "source": []
  },
  {
   "cell_type": "code",
   "execution_count": 3,
   "id": "8f975517-4cdc-47ce-ae13-5b785581bcaf",
   "metadata": {},
   "outputs": [
    {
     "name": "stdout",
     "output_type": "stream",
     "text": [
      "<class 'int'>\n",
      "<class 'float'>\n"
     ]
    }
   ],
   "source": [
    "print(type(num))\n",
    "print(type(a))"
   ]
  },
  {
   "cell_type": "markdown",
   "id": "9e85f586-654e-4b15-9985-56e27de98ce0",
   "metadata": {},
   "source": [
    "# int ----> float , str , bool.\n"
   ]
  },
  {
   "cell_type": "code",
   "execution_count": 4,
   "id": "dcb74d9b-d678-445f-838a-5f0ff7aac8e0",
   "metadata": {},
   "outputs": [
    {
     "name": "stdout",
     "output_type": "stream",
     "text": [
      "<class 'int'>\n"
     ]
    }
   ],
   "source": [
    "a=1000\n",
    "print(type(a))"
   ]
  },
  {
   "cell_type": "code",
   "execution_count": 5,
   "id": "9ae4b62e-91db-4c14-a7c4-acee34a3289d",
   "metadata": {},
   "outputs": [
    {
     "name": "stdout",
     "output_type": "stream",
     "text": [
      "1000.0\n",
      "<class 'float'>\n"
     ]
    }
   ],
   "source": [
    "b=float(a)\n",
    "print(b)\n",
    "print(type(b))"
   ]
  },
  {
   "cell_type": "code",
   "execution_count": 6,
   "id": "3d9f7508-7d93-4eb7-a154-3505e6897124",
   "metadata": {},
   "outputs": [
    {
     "name": "stdout",
     "output_type": "stream",
     "text": [
      "<class 'str'>\n"
     ]
    },
    {
     "data": {
      "text/plain": [
       "'1000'"
      ]
     },
     "execution_count": 6,
     "metadata": {},
     "output_type": "execute_result"
    }
   ],
   "source": [
    "c=str(a)\n",
    "print(type(c))\n",
    "c"
   ]
  },
  {
   "cell_type": "code",
   "execution_count": 7,
   "id": "01406b33-b2ee-43d0-8335-a728d7857132",
   "metadata": {},
   "outputs": [
    {
     "name": "stdout",
     "output_type": "stream",
     "text": [
      "<class 'bool'>\n"
     ]
    },
    {
     "data": {
      "text/plain": [
       "True"
      ]
     },
     "execution_count": 7,
     "metadata": {},
     "output_type": "execute_result"
    }
   ],
   "source": [
    "d=bool(a)\n",
    "print(type(d))\n",
    "d"
   ]
  },
  {
   "cell_type": "markdown",
   "id": "bd19c274-bed3-4758-bbbf-befc0bdb9947",
   "metadata": {},
   "source": [
    "# float----> int, str , bool"
   ]
  },
  {
   "cell_type": "code",
   "execution_count": 8,
   "id": "1f6e3366-4995-41a6-bee5-4a0b3dc15167",
   "metadata": {},
   "outputs": [
    {
     "name": "stdout",
     "output_type": "stream",
     "text": [
      "<class 'float'>\n"
     ]
    }
   ],
   "source": [
    "num2=100.25\n",
    "print(type(num2))"
   ]
  },
  {
   "cell_type": "code",
   "execution_count": 9,
   "id": "a76c93b0-f9cb-49b9-83c0-6bb471cd0357",
   "metadata": {},
   "outputs": [
    {
     "name": "stdout",
     "output_type": "stream",
     "text": [
      "<class 'int'>\n"
     ]
    },
    {
     "data": {
      "text/plain": [
       "100"
      ]
     },
     "execution_count": 9,
     "metadata": {},
     "output_type": "execute_result"
    }
   ],
   "source": [
    "ab=int(num2)\n",
    "print(type(ab))\n",
    "ab"
   ]
  },
  {
   "cell_type": "code",
   "execution_count": 10,
   "id": "4cb23269-a09f-4625-97ae-98b970a2cedc",
   "metadata": {},
   "outputs": [
    {
     "name": "stdout",
     "output_type": "stream",
     "text": [
      "<class 'str'>\n"
     ]
    },
    {
     "data": {
      "text/plain": [
       "'100.25'"
      ]
     },
     "execution_count": 10,
     "metadata": {},
     "output_type": "execute_result"
    }
   ],
   "source": [
    "ac=str(num2)\n",
    "print(type(ac))\n",
    "ac"
   ]
  },
  {
   "cell_type": "code",
   "execution_count": 11,
   "id": "6857fe64-681d-4c9e-bd27-4ca31f78e333",
   "metadata": {},
   "outputs": [
    {
     "name": "stdout",
     "output_type": "stream",
     "text": [
      "<class 'bool'>\n"
     ]
    },
    {
     "data": {
      "text/plain": [
       "True"
      ]
     },
     "execution_count": 11,
     "metadata": {},
     "output_type": "execute_result"
    }
   ],
   "source": [
    "ad=bool(num2)\n",
    "print(type(ad))\n",
    "ad"
   ]
  },
  {
   "cell_type": "markdown",
   "id": "0c0944df-c7a8-495e-9292-73a847a58a6b",
   "metadata": {},
   "source": [
    "# str-----> int, float,bool"
   ]
  },
  {
   "cell_type": "code",
   "execution_count": 12,
   "id": "dac56c6d-218d-414f-aaf9-9abedfb05879",
   "metadata": {},
   "outputs": [
    {
     "name": "stdout",
     "output_type": "stream",
     "text": [
      "<class 'str'>\n"
     ]
    },
    {
     "data": {
      "text/plain": [
       "'mohit'"
      ]
     },
     "execution_count": 12,
     "metadata": {},
     "output_type": "execute_result"
    }
   ],
   "source": [
    "# case-1:\n",
    "num3='mohit'\n",
    "print(type(num3))\n",
    "num3"
   ]
  },
  {
   "cell_type": "code",
   "execution_count": 13,
   "id": "c16ca92f-8ded-4052-b36d-06b825e6d1e2",
   "metadata": {},
   "outputs": [
    {
     "ename": "ValueError",
     "evalue": "invalid literal for int() with base 10: 'mohit'",
     "output_type": "error",
     "traceback": [
      "\u001b[1;31m---------------------------------------------------------------------------\u001b[0m",
      "\u001b[1;31mValueError\u001b[0m                                Traceback (most recent call last)",
      "Cell \u001b[1;32mIn[13], line 1\u001b[0m\n\u001b[1;32m----> 1\u001b[0m ba\u001b[38;5;241m=\u001b[39m\u001b[38;5;28mint\u001b[39m(num3)\n\u001b[0;32m      2\u001b[0m \u001b[38;5;28mprint\u001b[39m(\u001b[38;5;28mtype\u001b[39m(ba)) \n\u001b[0;32m      3\u001b[0m ba\n",
      "\u001b[1;31mValueError\u001b[0m: invalid literal for int() with base 10: 'mohit'"
     ]
    }
   ],
   "source": [
    "ba=int(num3)\n",
    "print(type(ba)) \n",
    "ba\n",
    "# note :- string not convert into the int"
   ]
  },
  {
   "cell_type": "code",
   "execution_count": 14,
   "id": "fb52dca4-6a80-4da8-b0e4-a776bc0d9b01",
   "metadata": {},
   "outputs": [
    {
     "ename": "ValueError",
     "evalue": "could not convert string to float: 'mohit'",
     "output_type": "error",
     "traceback": [
      "\u001b[1;31m---------------------------------------------------------------------------\u001b[0m",
      "\u001b[1;31mValueError\u001b[0m                                Traceback (most recent call last)",
      "Cell \u001b[1;32mIn[14], line 1\u001b[0m\n\u001b[1;32m----> 1\u001b[0m bb\u001b[38;5;241m=\u001b[39m\u001b[38;5;28mfloat\u001b[39m(num3)\n\u001b[0;32m      2\u001b[0m \u001b[38;5;28mprint\u001b[39m(\u001b[38;5;28mtype\u001b[39m(bb))\n\u001b[0;32m      3\u001b[0m bb\n",
      "\u001b[1;31mValueError\u001b[0m: could not convert string to float: 'mohit'"
     ]
    }
   ],
   "source": [
    "bb=float(num3)\n",
    "print(type(bb))\n",
    "bb\n",
    "# note :- string is not conver into float also.\n"
   ]
  },
  {
   "cell_type": "code",
   "execution_count": 15,
   "id": "01be06dd-bb1a-4179-8220-3fff7e22bc14",
   "metadata": {},
   "outputs": [
    {
     "name": "stdout",
     "output_type": "stream",
     "text": [
      "<class 'bool'>\n"
     ]
    },
    {
     "data": {
      "text/plain": [
       "True"
      ]
     },
     "execution_count": 15,
     "metadata": {},
     "output_type": "execute_result"
    }
   ],
   "source": [
    "nv=bool(num3)\n",
    "print(type(nv))\n",
    "nv\n",
    "# string is only convet into bool only 'string' == True and '' == False.\n"
   ]
  },
  {
   "cell_type": "code",
   "execution_count": 16,
   "id": "7054bb99-8d46-4915-9b52-6d5e62d1af4f",
   "metadata": {},
   "outputs": [],
   "source": [
    "# case - 1:\n",
    "str = 'apple'\n",
    "# case - 2:\n",
    "str1 ='10'\n",
    "# case - 3:\n",
    "str2 ='10.5'"
   ]
  },
  {
   "cell_type": "code",
   "execution_count": 17,
   "id": "5f035140-edca-4ab4-8b5c-2b42e71a38e1",
   "metadata": {},
   "outputs": [
    {
     "ename": "ValueError",
     "evalue": "invalid literal for int() with base 10: 'apple'",
     "output_type": "error",
     "traceback": [
      "\u001b[1;31m---------------------------------------------------------------------------\u001b[0m",
      "\u001b[1;31mValueError\u001b[0m                                Traceback (most recent call last)",
      "Cell \u001b[1;32mIn[17], line 1\u001b[0m\n\u001b[1;32m----> 1\u001b[0m a1\u001b[38;5;241m=\u001b[39m\u001b[38;5;28mint\u001b[39m(\u001b[38;5;28mstr\u001b[39m) \u001b[38;5;66;03m# error\u001b[39;00m\n\u001b[0;32m      2\u001b[0m a2\u001b[38;5;241m=\u001b[39m\u001b[38;5;28mint\u001b[39m(str1) \u001b[38;5;66;03m# pass\u001b[39;00m\n\u001b[0;32m      3\u001b[0m a3\u001b[38;5;241m=\u001b[39m\u001b[38;5;28mint\u001b[39m(str2)\n",
      "\u001b[1;31mValueError\u001b[0m: invalid literal for int() with base 10: 'apple'"
     ]
    }
   ],
   "source": [
    "a1=int(str) # error\n",
    "a2=int(str1) # pass\n",
    "a3=int(str2) # error whit 10 only .5 remove"
   ]
  },
  {
   "cell_type": "code",
   "execution_count": 18,
   "id": "6e4ef545-268a-4d3b-8fc1-6d3631421304",
   "metadata": {},
   "outputs": [
    {
     "ename": "ValueError",
     "evalue": "invalid literal for int() with base 10: 'apple'",
     "output_type": "error",
     "traceback": [
      "\u001b[1;31m---------------------------------------------------------------------------\u001b[0m",
      "\u001b[1;31mValueError\u001b[0m                                Traceback (most recent call last)",
      "Cell \u001b[1;32mIn[18], line 1\u001b[0m\n\u001b[1;32m----> 1\u001b[0m a1\u001b[38;5;241m=\u001b[39m\u001b[38;5;28mint\u001b[39m(\u001b[38;5;28mstr\u001b[39m)\n",
      "\u001b[1;31mValueError\u001b[0m: invalid literal for int() with base 10: 'apple'"
     ]
    }
   ],
   "source": [
    "a1=int(str) # error"
   ]
  },
  {
   "cell_type": "code",
   "execution_count": 19,
   "id": "7ca79d5e-e3e7-46fe-be84-eb0b794ba544",
   "metadata": {},
   "outputs": [
    {
     "data": {
      "text/plain": [
       "10"
      ]
     },
     "execution_count": 19,
     "metadata": {},
     "output_type": "execute_result"
    }
   ],
   "source": [
    "a2=int(str1) # pass\n",
    "a2"
   ]
  },
  {
   "cell_type": "code",
   "execution_count": 20,
   "id": "06095b0c-680a-49db-8959-e08257370a6b",
   "metadata": {},
   "outputs": [
    {
     "ename": "ValueError",
     "evalue": "invalid literal for int() with base 10: '10.5'",
     "output_type": "error",
     "traceback": [
      "\u001b[1;31m---------------------------------------------------------------------------\u001b[0m",
      "\u001b[1;31mValueError\u001b[0m                                Traceback (most recent call last)",
      "Cell \u001b[1;32mIn[20], line 1\u001b[0m\n\u001b[1;32m----> 1\u001b[0m a3\u001b[38;5;241m=\u001b[39m\u001b[38;5;28mint\u001b[39m(str2)\n",
      "\u001b[1;31mValueError\u001b[0m: invalid literal for int() with base 10: '10.5'"
     ]
    }
   ],
   "source": [
    "a3=int(str2) # error\n"
   ]
  },
  {
   "cell_type": "code",
   "execution_count": 21,
   "id": "ebe516d3-1cb2-4072-aaed-5163e68eca15",
   "metadata": {},
   "outputs": [
    {
     "ename": "ValueError",
     "evalue": "could not convert string to float: 'apple'",
     "output_type": "error",
     "traceback": [
      "\u001b[1;31m---------------------------------------------------------------------------\u001b[0m",
      "\u001b[1;31mValueError\u001b[0m                                Traceback (most recent call last)",
      "Cell \u001b[1;32mIn[21], line 1\u001b[0m\n\u001b[1;32m----> 1\u001b[0m a4\u001b[38;5;241m=\u001b[39m\u001b[38;5;28mfloat\u001b[39m(\u001b[38;5;28mstr\u001b[39m) \u001b[38;5;66;03m# error\u001b[39;00m\n\u001b[0;32m      2\u001b[0m a5\u001b[38;5;241m=\u001b[39m\u001b[38;5;28mfloat\u001b[39m(str1) \u001b[38;5;66;03m# pass with add .0\u001b[39;00m\n\u001b[0;32m      3\u001b[0m a6\u001b[38;5;241m=\u001b[39m\u001b[38;5;28mfloat\u001b[39m(str2)\n",
      "\u001b[1;31mValueError\u001b[0m: could not convert string to float: 'apple'"
     ]
    }
   ],
   "source": [
    "a4=float(str) # error\n",
    "a5=float(str1) # pass with add .0\n",
    "a6=float(str2) # pass "
   ]
  },
  {
   "cell_type": "code",
   "execution_count": 22,
   "id": "76ae589f-fb8a-4765-bb94-45c725ed33ca",
   "metadata": {},
   "outputs": [],
   "source": [
    "a7=bool(str) # pass\n",
    "a8=bool(str1) # pass\n",
    "a9=bool(str2) # pass"
   ]
  },
  {
   "cell_type": "markdown",
   "id": "008206b9-385e-4429-a5e5-76b2a1f22890",
   "metadata": {},
   "source": [
    "# bool-----> int, float, str."
   ]
  },
  {
   "cell_type": "code",
   "execution_count": 23,
   "id": "45b54aa5-70be-4df2-a02d-b4c54e4bd3a5",
   "metadata": {},
   "outputs": [
    {
     "name": "stdout",
     "output_type": "stream",
     "text": [
      "<class 'bool'>\n"
     ]
    },
    {
     "data": {
      "text/plain": [
       "True"
      ]
     },
     "execution_count": 23,
     "metadata": {},
     "output_type": "execute_result"
    }
   ],
   "source": [
    "num4=True\n",
    "print(type(num4))\n",
    "num4\n"
   ]
  },
  {
   "cell_type": "code",
   "execution_count": 24,
   "id": "efad58a5-5357-4966-900c-d028a12e689e",
   "metadata": {},
   "outputs": [
    {
     "name": "stdout",
     "output_type": "stream",
     "text": [
      "<class 'int'>\n"
     ]
    },
    {
     "data": {
      "text/plain": [
       "1"
      ]
     },
     "execution_count": 24,
     "metadata": {},
     "output_type": "execute_result"
    }
   ],
   "source": [
    "cc=int(num4)\n",
    "print(type(cc))\n",
    "cc\n",
    "# bool convert int into only form of True = 1 and False = 0."
   ]
  },
  {
   "cell_type": "code",
   "execution_count": 25,
   "id": "38d81227-148c-4916-b529-2747cc99362b",
   "metadata": {},
   "outputs": [
    {
     "name": "stdout",
     "output_type": "stream",
     "text": [
      "<class 'float'>\n"
     ]
    },
    {
     "data": {
      "text/plain": [
       "1.0"
      ]
     },
     "execution_count": 25,
     "metadata": {},
     "output_type": "execute_result"
    }
   ],
   "source": [
    "ca=float(num4)\n",
    "print(type(ca))\n",
    "ca\n",
    "# bool is also convert into float value in the form of True = 1.0 and False = 0.0."
   ]
  },
  {
   "cell_type": "code",
   "execution_count": 26,
   "id": "1f645e12-e648-483d-adde-08d8362f3f44",
   "metadata": {},
   "outputs": [
    {
     "ename": "TypeError",
     "evalue": "'str' object is not callable",
     "output_type": "error",
     "traceback": [
      "\u001b[1;31m---------------------------------------------------------------------------\u001b[0m",
      "\u001b[1;31mTypeError\u001b[0m                                 Traceback (most recent call last)",
      "Cell \u001b[1;32mIn[26], line 2\u001b[0m\n\u001b[0;32m      1\u001b[0m num4\u001b[38;5;241m=\u001b[39m\u001b[38;5;28;01mTrue\u001b[39;00m\n\u001b[1;32m----> 2\u001b[0m \u001b[38;5;28mstr\u001b[39m(num4)\n",
      "\u001b[1;31mTypeError\u001b[0m: 'str' object is not callable"
     ]
    }
   ],
   "source": [
    "num4=True\n",
    "str(num4)"
   ]
  },
  {
   "cell_type": "code",
   "execution_count": 27,
   "id": "c5301126-9a98-4834-b27d-3892e9b1c770",
   "metadata": {},
   "outputs": [
    {
     "ename": "TypeError",
     "evalue": "'str' object is not callable",
     "output_type": "error",
     "traceback": [
      "\u001b[1;31m---------------------------------------------------------------------------\u001b[0m",
      "\u001b[1;31mTypeError\u001b[0m                                 Traceback (most recent call last)",
      "Cell \u001b[1;32mIn[27], line 2\u001b[0m\n\u001b[0;32m      1\u001b[0m num4\u001b[38;5;241m=\u001b[39m\u001b[38;5;28;01mTrue\u001b[39;00m\n\u001b[1;32m----> 2\u001b[0m cd\u001b[38;5;241m=\u001b[39m\u001b[38;5;28mstr\u001b[39m(num4)\n\u001b[0;32m      3\u001b[0m \u001b[38;5;28mprint\u001b[39m(\u001b[38;5;28mtype\u001b[39m(cd))\n\u001b[0;32m      4\u001b[0m cd\n",
      "\u001b[1;31mTypeError\u001b[0m: 'str' object is not callable"
     ]
    }
   ],
   "source": [
    "num4=True\n",
    "cd=str(num4)\n",
    "print(type(cd))\n",
    "cd\n",
    "# bool is converted in to string also."
   ]
  },
  {
   "cell_type": "code",
   "execution_count": 28,
   "id": "a71fe6e9-e86d-422c-a851-e4196e165c4e",
   "metadata": {},
   "outputs": [
    {
     "ename": "TypeError",
     "evalue": "'str' object is not callable",
     "output_type": "error",
     "traceback": [
      "\u001b[1;31m---------------------------------------------------------------------------\u001b[0m",
      "\u001b[1;31mTypeError\u001b[0m                                 Traceback (most recent call last)",
      "Cell \u001b[1;32mIn[28], line 1\u001b[0m\n\u001b[1;32m----> 1\u001b[0m cd\u001b[38;5;241m=\u001b[39m\u001b[38;5;28mstr\u001b[39m(\u001b[38;5;28;01mTrue\u001b[39;00m)\n",
      "\u001b[1;31mTypeError\u001b[0m: 'str' object is not callable"
     ]
    }
   ],
   "source": [
    "cd=str(True)"
   ]
  },
  {
   "cell_type": "code",
   "execution_count": 29,
   "id": "0bbd4391-c634-48b6-8451-6b4ee7c5093e",
   "metadata": {},
   "outputs": [
    {
     "data": {
      "text/plain": [
       "0"
      ]
     },
     "execution_count": 29,
     "metadata": {},
     "output_type": "execute_result"
    }
   ],
   "source": [
    "int(False)"
   ]
  },
  {
   "cell_type": "code",
   "execution_count": 30,
   "id": "99bc2814-1a71-485c-9c9e-b9cb278a11c3",
   "metadata": {},
   "outputs": [
    {
     "data": {
      "text/plain": [
       "0.0"
      ]
     },
     "execution_count": 30,
     "metadata": {},
     "output_type": "execute_result"
    }
   ],
   "source": [
    "float(False)"
   ]
  },
  {
   "cell_type": "code",
   "execution_count": 31,
   "id": "c43fa786-a338-435b-add3-02e7207445e4",
   "metadata": {},
   "outputs": [
    {
     "ename": "TypeError",
     "evalue": "'str' object is not callable",
     "output_type": "error",
     "traceback": [
      "\u001b[1;31m---------------------------------------------------------------------------\u001b[0m",
      "\u001b[1;31mTypeError\u001b[0m                                 Traceback (most recent call last)",
      "Cell \u001b[1;32mIn[31], line 1\u001b[0m\n\u001b[1;32m----> 1\u001b[0m \u001b[38;5;28mstr\u001b[39m(\u001b[38;5;28;01mFalse\u001b[39;00m)\n",
      "\u001b[1;31mTypeError\u001b[0m: 'str' object is not callable"
     ]
    }
   ],
   "source": [
    "\n",
    "\n",
    "str(False)"
   ]
  },
  {
   "cell_type": "code",
   "execution_count": 32,
   "id": "b93e0bae-1d75-4b1f-8ea9-57eedd5fb24e",
   "metadata": {},
   "outputs": [
    {
     "data": {
      "text/plain": [
       "1"
      ]
     },
     "execution_count": 32,
     "metadata": {},
     "output_type": "execute_result"
    }
   ],
   "source": [
    "int(True)"
   ]
  },
  {
   "cell_type": "code",
   "execution_count": 33,
   "id": "7aeccc99-e70c-4b80-8fcb-f93af211d3e6",
   "metadata": {},
   "outputs": [
    {
     "data": {
      "text/plain": [
       "1.0"
      ]
     },
     "execution_count": 33,
     "metadata": {},
     "output_type": "execute_result"
    }
   ],
   "source": [
    "float(True)"
   ]
  },
  {
   "cell_type": "code",
   "execution_count": 34,
   "id": "cb70be1b-31e7-4524-bc18-38ac6c8127f4",
   "metadata": {},
   "outputs": [
    {
     "ename": "TypeError",
     "evalue": "'str' object is not callable",
     "output_type": "error",
     "traceback": [
      "\u001b[1;31m---------------------------------------------------------------------------\u001b[0m",
      "\u001b[1;31mTypeError\u001b[0m                                 Traceback (most recent call last)",
      "Cell \u001b[1;32mIn[34], line 1\u001b[0m\n\u001b[1;32m----> 1\u001b[0m \u001b[38;5;28mstr\u001b[39m(\u001b[38;5;28;01mTrue\u001b[39;00m)\n",
      "\u001b[1;31mTypeError\u001b[0m: 'str' object is not callable"
     ]
    }
   ],
   "source": [
    "str(True)"
   ]
  },
  {
   "cell_type": "code",
   "execution_count": 35,
   "id": "b8b2f1d2-a919-489f-bf99-3671e4b114e0",
   "metadata": {},
   "outputs": [
    {
     "data": {
      "text/plain": [
       "True"
      ]
     },
     "execution_count": 35,
     "metadata": {},
     "output_type": "execute_result"
    }
   ],
   "source": [
    "bool(0.00100)"
   ]
  },
  {
   "cell_type": "markdown",
   "id": "24df284e-d062-4c77-83cb-4680224ac41d",
   "metadata": {},
   "source": [
    "# int -----> float ,str ,bool"
   ]
  },
  {
   "cell_type": "code",
   "execution_count": 2,
   "id": "6a8f16ea-d6ea-4405-965f-49c59da14079",
   "metadata": {},
   "outputs": [
    {
     "name": "stdout",
     "output_type": "stream",
     "text": [
      "<class 'int'>\n"
     ]
    }
   ],
   "source": [
    "a=100\n",
    "print(type(a))"
   ]
  },
  {
   "cell_type": "code",
   "execution_count": 3,
   "id": "59511c1d-d142-4c9b-b13d-54dd8ec43fa8",
   "metadata": {},
   "outputs": [
    {
     "name": "stdout",
     "output_type": "stream",
     "text": [
      "100.0\n",
      "<class 'float'>\n"
     ]
    }
   ],
   "source": [
    "ib=float(a)\n",
    "print(ib)\n",
    "print(type(ib))\n"
   ]
  },
  {
   "cell_type": "code",
   "execution_count": 4,
   "id": "95f9e349-8a72-4b63-996a-31219eed1aa4",
   "metadata": {},
   "outputs": [
    {
     "name": "stdout",
     "output_type": "stream",
     "text": [
      "100\n",
      "<class 'str'>\n"
     ]
    },
    {
     "data": {
      "text/plain": [
       "'100'"
      ]
     },
     "execution_count": 4,
     "metadata": {},
     "output_type": "execute_result"
    }
   ],
   "source": [
    "ic=str(a)\n",
    "print(ic)\n",
    "print(type(ic))\n",
    "ic"
   ]
  },
  {
   "cell_type": "code",
   "execution_count": 5,
   "id": "994e4848-04e1-4f61-9040-fef4d282af07",
   "metadata": {},
   "outputs": [
    {
     "name": "stdout",
     "output_type": "stream",
     "text": [
      "True\n",
      "<class 'bool'>\n"
     ]
    }
   ],
   "source": [
    "id=bool(a)\n",
    "print(id)\n",
    "print(type(id))"
   ]
  },
  {
   "cell_type": "markdown",
   "id": "5c83dc9c-d7a5-4d84-a5b0-3629b26c628b",
   "metadata": {},
   "source": [
    "# float -----> int ,str ,bool"
   ]
  },
  {
   "cell_type": "code",
   "execution_count": 6,
   "id": "4e3e66ea-ff9e-432d-a22f-31e15556ba60",
   "metadata": {},
   "outputs": [
    {
     "name": "stdout",
     "output_type": "stream",
     "text": [
      "<class 'float'>\n"
     ]
    }
   ],
   "source": [
    "fa=100.25\n",
    "print(type(fa\n",
    "          ))"
   ]
  },
  {
   "cell_type": "code",
   "execution_count": 8,
   "id": "4ae6f75e-c14b-44d1-b8be-80454b8f1f22",
   "metadata": {},
   "outputs": [
    {
     "name": "stdout",
     "output_type": "stream",
     "text": [
      "100\n",
      "<class 'int'>\n"
     ]
    }
   ],
   "source": [
    "fb=int(fa)\n",
    "print(fb)\n",
    "print(type(fb))"
   ]
  },
  {
   "cell_type": "code",
   "execution_count": 9,
   "id": "96d15b0a-8497-4315-a946-f2a9806a1023",
   "metadata": {},
   "outputs": [
    {
     "name": "stdout",
     "output_type": "stream",
     "text": [
      "100.25\n",
      "<class 'str'>\n"
     ]
    },
    {
     "data": {
      "text/plain": [
       "'100.25'"
      ]
     },
     "execution_count": 9,
     "metadata": {},
     "output_type": "execute_result"
    }
   ],
   "source": [
    "fc=str(fa)\n",
    "print(fc)\n",
    "print(type(fc))\n",
    "fc"
   ]
  },
  {
   "cell_type": "code",
   "execution_count": 10,
   "id": "4d926fd5-0f1d-4d58-b469-6ef3fa6235a6",
   "metadata": {},
   "outputs": [
    {
     "name": "stdout",
     "output_type": "stream",
     "text": [
      "True\n",
      "<class 'bool'>\n"
     ]
    }
   ],
   "source": [
    "fd=bool(fa)\n",
    "print(fd)\n",
    "print(type(fd))"
   ]
  },
  {
   "cell_type": "markdown",
   "id": "86cdcd5b-b160-4e5b-acc1-61dd07eddecb",
   "metadata": {},
   "source": [
    "# str -----> int ,float ,bool"
   ]
  },
  {
   "cell_type": "code",
   "execution_count": 11,
   "id": "d6885a77-8141-43ef-acad-ea57bfd3a666",
   "metadata": {},
   "outputs": [],
   "source": [
    "# Case - 1\n",
    "str='100'\n",
    "# Case - 2\n",
    "str1='100.25'\n",
    "# Case - 3\n",
    "str2='apple'"
   ]
  },
  {
   "cell_type": "markdown",
   "id": "6237c3d9-f617-4cb4-b79d-f035e557f048",
   "metadata": {},
   "source": [
    "# str -----> int"
   ]
  },
  {
   "cell_type": "code",
   "execution_count": 14,
   "id": "f5e76bb0-f2ac-430a-92fc-009d59611914",
   "metadata": {},
   "outputs": [
    {
     "name": "stdout",
     "output_type": "stream",
     "text": [
      "100\n",
      "<class 'int'>\n"
     ]
    }
   ],
   "source": [
    "# case-1\n",
    "sia=int(str)\n",
    "print(sia)\n",
    "print(type(sia))"
   ]
  },
  {
   "cell_type": "code",
   "execution_count": 15,
   "id": "e6e0bf17-2245-4b64-b794-63d2df597046",
   "metadata": {},
   "outputs": [
    {
     "ename": "ValueError",
     "evalue": "invalid literal for int() with base 10: '100.25'",
     "output_type": "error",
     "traceback": [
      "\u001b[1;31m---------------------------------------------------------------------------\u001b[0m",
      "\u001b[1;31mValueError\u001b[0m                                Traceback (most recent call last)",
      "Cell \u001b[1;32mIn[15], line 2\u001b[0m\n\u001b[0;32m      1\u001b[0m \u001b[38;5;66;03m# case-2\u001b[39;00m\n\u001b[1;32m----> 2\u001b[0m sib\u001b[38;5;241m=\u001b[39m\u001b[38;5;28mint\u001b[39m(str1)\n\u001b[0;32m      3\u001b[0m \u001b[38;5;28mprint\u001b[39m(sib)\n\u001b[0;32m      4\u001b[0m \u001b[38;5;28mprint\u001b[39m(\u001b[38;5;28mtype\u001b[39m(sib))\n",
      "\u001b[1;31mValueError\u001b[0m: invalid literal for int() with base 10: '100.25'"
     ]
    }
   ],
   "source": [
    "# case-2\n",
    "sib=int(str1)\n",
    "print(sib)\n",
    "print(type(sib))"
   ]
  },
  {
   "cell_type": "code",
   "execution_count": 16,
   "id": "962229ee-9dd5-4d89-8ca2-097b7c610858",
   "metadata": {},
   "outputs": [
    {
     "ename": "TypeError",
     "evalue": "'str' object is not callable",
     "output_type": "error",
     "traceback": [
      "\u001b[1;31m---------------------------------------------------------------------------\u001b[0m",
      "\u001b[1;31mTypeError\u001b[0m                                 Traceback (most recent call last)",
      "Cell \u001b[1;32mIn[16], line 2\u001b[0m\n\u001b[0;32m      1\u001b[0m \u001b[38;5;66;03m# case-3\u001b[39;00m\n\u001b[1;32m----> 2\u001b[0m sic\u001b[38;5;241m=\u001b[39m\u001b[38;5;28mstr\u001b[39m(str2)\n\u001b[0;32m      3\u001b[0m \u001b[38;5;28mprint\u001b[39m(sic)\n\u001b[0;32m      4\u001b[0m \u001b[38;5;28mprint\u001b[39m(\u001b[38;5;28mtype\u001b[39m(sic))\n",
      "\u001b[1;31mTypeError\u001b[0m: 'str' object is not callable"
     ]
    }
   ],
   "source": [
    "# case-3\n",
    "sic=str(str2)\n",
    "print(sic)\n",
    "print(type(sic))"
   ]
  },
  {
   "cell_type": "markdown",
   "id": "19e49d8a-668e-4753-89b8-a9f260aabd55",
   "metadata": {},
   "source": [
    "# str -----> float "
   ]
  },
  {
   "cell_type": "code",
   "execution_count": 18,
   "id": "55db9a19-fded-423d-93e9-2a87ba1ab480",
   "metadata": {},
   "outputs": [],
   "source": [
    "# Case - 1\n",
    "str='100'\n",
    "# Case - 2\n",
    "str1='100.25'\n",
    "# Case - 3\n",
    "str2='apple'"
   ]
  },
  {
   "cell_type": "code",
   "execution_count": 19,
   "id": "ad49d052-0daf-4b00-b73a-2b786bfba381",
   "metadata": {},
   "outputs": [
    {
     "name": "stdout",
     "output_type": "stream",
     "text": [
      "100.0\n",
      "<class 'float'>\n"
     ]
    }
   ],
   "source": [
    "# case-1\n",
    "sfb=float(str)\n",
    "print(sfb)\n",
    "print(type(sfb))"
   ]
  },
  {
   "cell_type": "code",
   "execution_count": 20,
   "id": "534cd5e0-a1dc-4eda-937b-f5720fbe8fc5",
   "metadata": {},
   "outputs": [
    {
     "name": "stdout",
     "output_type": "stream",
     "text": [
      "100.0\n",
      "<class 'float'>\n"
     ]
    }
   ],
   "source": [
    "# case-2\n",
    "sfc=float(str1)\n",
    "print(sfb)\n",
    "print(type(sfb))"
   ]
  },
  {
   "cell_type": "code",
   "execution_count": 21,
   "id": "8ed3803e-2e28-4187-9614-b3dedf7c61a8",
   "metadata": {},
   "outputs": [
    {
     "ename": "ValueError",
     "evalue": "could not convert string to float: 'apple'",
     "output_type": "error",
     "traceback": [
      "\u001b[1;31m---------------------------------------------------------------------------\u001b[0m",
      "\u001b[1;31mValueError\u001b[0m                                Traceback (most recent call last)",
      "Cell \u001b[1;32mIn[21], line 1\u001b[0m\n\u001b[1;32m----> 1\u001b[0m sfd\u001b[38;5;241m=\u001b[39m\u001b[38;5;28mfloat\u001b[39m(str2)\n\u001b[0;32m      2\u001b[0m \u001b[38;5;28mprint\u001b[39m(sfd)\n\u001b[0;32m      3\u001b[0m \u001b[38;5;28mprint\u001b[39m(\u001b[38;5;28mtype\u001b[39m(sfd))\n",
      "\u001b[1;31mValueError\u001b[0m: could not convert string to float: 'apple'"
     ]
    }
   ],
   "source": [
    "sfd=float(str2)\n",
    "print(sfd)\n",
    "print(type(sfd))"
   ]
  },
  {
   "cell_type": "markdown",
   "id": "7a4a62c9-0026-4351-9457-6ed274f042a0",
   "metadata": {},
   "source": [
    "# str -----> bool "
   ]
  },
  {
   "cell_type": "code",
   "execution_count": 23,
   "id": "bdae66b8-58e0-41de-8c01-97848aa78ce4",
   "metadata": {},
   "outputs": [
    {
     "name": "stdout",
     "output_type": "stream",
     "text": [
      "True\n",
      "<class 'bool'>\n"
     ]
    }
   ],
   "source": [
    "sbb=bool(str)\n",
    "print(sbb)\n",
    "print(type(sbb))"
   ]
  },
  {
   "cell_type": "code",
   "execution_count": 25,
   "id": "6ad1b584-09f3-45a4-a6ae-6f5f4f27408a",
   "metadata": {},
   "outputs": [
    {
     "name": "stdout",
     "output_type": "stream",
     "text": [
      "True\n",
      "<class 'bool'>\n"
     ]
    }
   ],
   "source": [
    "sbc=bool(str1)\n",
    "print(sbc)\n",
    "print(type(sbc))"
   ]
  },
  {
   "cell_type": "code",
   "execution_count": 26,
   "id": "aba4f86e-958b-48bb-b6d3-c0e6783a5e5a",
   "metadata": {},
   "outputs": [
    {
     "name": "stdout",
     "output_type": "stream",
     "text": [
      "True\n",
      "<class 'bool'>\n"
     ]
    }
   ],
   "source": [
    "sbd=bool(str2)\n",
    "print(sbd)\n",
    "print(type(sbd))"
   ]
  },
  {
   "cell_type": "markdown",
   "id": "ef60642a-6663-4225-a3e7-d608717be8e6",
   "metadata": {},
   "source": [
    "# bool -----> int, float ,str"
   ]
  },
  {
   "cell_type": "code",
   "execution_count": 2,
   "id": "1e832775-afab-4aea-a0a8-6e822cffd678",
   "metadata": {},
   "outputs": [],
   "source": [
    "ba=True\n",
    "bb=False"
   ]
  },
  {
   "cell_type": "code",
   "execution_count": 31,
   "id": "febf2d28-a303-45b7-8459-5790308d4625",
   "metadata": {},
   "outputs": [
    {
     "name": "stdout",
     "output_type": "stream",
     "text": [
      "1\n",
      "<class 'int'>\n"
     ]
    }
   ],
   "source": [
    "bct=int(ba)\n",
    "print(bct)\n",
    "print(type(bct))"
   ]
  },
  {
   "cell_type": "code",
   "execution_count": 32,
   "id": "ea064142-76dc-4294-8f6a-d65af546e0bc",
   "metadata": {},
   "outputs": [
    {
     "name": "stdout",
     "output_type": "stream",
     "text": [
      "0\n",
      "<class 'int'>\n"
     ]
    }
   ],
   "source": [
    "bcf=int(bb)\n",
    "print(bcf)\n",
    "print(type(bcf))"
   ]
  },
  {
   "cell_type": "code",
   "execution_count": 33,
   "id": "f89118f0-3368-49e9-b08d-74573fb57882",
   "metadata": {},
   "outputs": [
    {
     "name": "stdout",
     "output_type": "stream",
     "text": [
      "1.0\n",
      "<class 'float'>\n"
     ]
    }
   ],
   "source": [
    "bdt=float(ba)\n",
    "print(bdt)\n",
    "print(type(bdt))"
   ]
  },
  {
   "cell_type": "code",
   "execution_count": 35,
   "id": "f8ed4141-5fd1-452e-862b-c5c458e189be",
   "metadata": {},
   "outputs": [
    {
     "name": "stdout",
     "output_type": "stream",
     "text": [
      "0.0\n",
      "<class 'float'>\n"
     ]
    }
   ],
   "source": [
    "bdf=float(bb)\n",
    "print(bdf)\n",
    "print(type(bdf))"
   ]
  },
  {
   "cell_type": "code",
   "execution_count": 6,
   "id": "6444cc91-3321-4cc2-807d-388a560a667b",
   "metadata": {},
   "outputs": [
    {
     "name": "stdout",
     "output_type": "stream",
     "text": [
      "True\n",
      "<class 'str'>\n"
     ]
    },
    {
     "data": {
      "text/plain": [
       "'True'"
      ]
     },
     "execution_count": 6,
     "metadata": {},
     "output_type": "execute_result"
    }
   ],
   "source": [
    "bet=str(ba)\n",
    "print(bet)\n",
    "print(type(bet))\n",
    "bet"
   ]
  },
  {
   "cell_type": "code",
   "execution_count": 5,
   "id": "a69f7dbf-e073-4e93-be80-8e29ff499440",
   "metadata": {},
   "outputs": [
    {
     "name": "stdout",
     "output_type": "stream",
     "text": [
      "False\n",
      "<class 'str'>\n"
     ]
    },
    {
     "data": {
      "text/plain": [
       "'False'"
      ]
     },
     "execution_count": 5,
     "metadata": {},
     "output_type": "execute_result"
    }
   ],
   "source": [
    "bef=str(bb)\n",
    "print(bef)\n",
    "print(type(bef))\n",
    "bef"
   ]
  },
  {
   "cell_type": "code",
   "execution_count": 7,
   "id": "5255e0cf-43b2-409f-86b8-317f73a8804d",
   "metadata": {},
   "outputs": [
    {
     "data": {
      "text/plain": [
       "False"
      ]
     },
     "execution_count": 7,
     "metadata": {},
     "output_type": "execute_result"
    }
   ],
   "source": [
    "bool('')"
   ]
  },
  {
   "cell_type": "code",
   "execution_count": 8,
   "id": "4a78918c-f1a2-4233-a925-a06401290042",
   "metadata": {},
   "outputs": [
    {
     "data": {
      "text/plain": [
       "False"
      ]
     },
     "execution_count": 8,
     "metadata": {},
     "output_type": "execute_result"
    }
   ],
   "source": [
    "bool(0)"
   ]
  },
  {
   "cell_type": "code",
   "execution_count": null,
   "id": "3f6fa947-66c9-4ff1-83f0-c123a9f1006b",
   "metadata": {},
   "outputs": [],
   "source": []
  }
 ],
 "metadata": {
  "kernelspec": {
   "display_name": "Python 3 (ipykernel)",
   "language": "python",
   "name": "python3"
  },
  "language_info": {
   "codemirror_mode": {
    "name": "ipython",
    "version": 3
   },
   "file_extension": ".py",
   "mimetype": "text/x-python",
   "name": "python",
   "nbconvert_exporter": "python",
   "pygments_lexer": "ipython3",
   "version": "3.11.7"
  }
 },
 "nbformat": 4,
 "nbformat_minor": 5
}
