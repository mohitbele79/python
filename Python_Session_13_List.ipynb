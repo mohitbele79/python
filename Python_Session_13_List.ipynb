{
 "cells": [
  {
   "cell_type": "code",
   "execution_count": 2,
   "id": "71cc5aee-2ef9-4660-83a3-8e4d1f224538",
   "metadata": {},
   "outputs": [],
   "source": [
    "l1=[1,2,3,4]\n",
    "l2=['A','B','C','D']\n",
    "l3=[1,2,3,4,'A','B','C','D']\n",
    "l4=[1,2,3,'Apple','Ball','Cat',True,False]\n",
    "name='naresh it'\n",
    "\n",
    "l5=[name]\n",
    "l6=[100,100,100]\n",
    "l7=[100,'Apple',['A',2]]\n"
   ]
  },
  {
   "cell_type": "markdown",
   "id": "54183754-3f0b-4cae-a26e-7c8fe9ae52e4",
   "metadata": {},
   "source": [
    "# len()"
   ]
  },
  {
   "cell_type": "code",
   "execution_count": 5,
   "id": "24c47fc9-cdb8-4146-bd28-7dc6933635f6",
   "metadata": {},
   "outputs": [
    {
     "name": "stdout",
     "output_type": "stream",
     "text": [
      "the len l1 4\n",
      "the len l2 4\n",
      "the len l3 8\n",
      "the len l4 8\n",
      "the len l5 1\n",
      "the len l6 3\n",
      "the len l7 3\n"
     ]
    }
   ],
   "source": [
    "print('the len l1',len(l1))\n",
    "print('the len l2',len(l2))\n",
    "print('the len l3',len(l3))\n",
    "print('the len l4',len(l4))\n",
    "print('the len l5',len(l5))\n",
    "print('the len l6',len(l6))\n",
    "print('the len l7',len(l7))\n"
   ]
  },
  {
   "cell_type": "markdown",
   "id": "57a811bc-e1f5-404d-b014-1973fa8c44ad",
   "metadata": {},
   "source": [
    "# max()"
   ]
  },
  {
   "cell_type": "code",
   "execution_count": 11,
   "id": "93d91a77-ee51-4a08-9294-7ff0c5d4d3d1",
   "metadata": {},
   "outputs": [
    {
     "name": "stdout",
     "output_type": "stream",
     "text": [
      "the max l1 4\n",
      "the max l2 D\n",
      "the max l5 naresh it\n",
      "the max l6 100\n"
     ]
    }
   ],
   "source": [
    "print('the max l1',max(l1))\n",
    "print('the max l2',max(l2))\n",
    "\n",
    "\n",
    "print('the max l5',max(l5))\n",
    "print('the max l6',max(l6))\n"
   ]
  },
  {
   "cell_type": "code",
   "execution_count": 12,
   "id": "013ec81c-41c5-4507-a1c0-88285cab28cd",
   "metadata": {},
   "outputs": [
    {
     "ename": "TypeError",
     "evalue": "'>' not supported between instances of 'str' and 'int'",
     "output_type": "error",
     "traceback": [
      "\u001b[1;31m---------------------------------------------------------------------------\u001b[0m",
      "\u001b[1;31mTypeError\u001b[0m                                 Traceback (most recent call last)",
      "Cell \u001b[1;32mIn[12], line 1\u001b[0m\n\u001b[1;32m----> 1\u001b[0m \u001b[38;5;28mprint\u001b[39m(\u001b[38;5;124m'\u001b[39m\u001b[38;5;124mthe max l3\u001b[39m\u001b[38;5;124m'\u001b[39m,\u001b[38;5;28mmax\u001b[39m(l3))\n",
      "\u001b[1;31mTypeError\u001b[0m: '>' not supported between instances of 'str' and 'int'"
     ]
    }
   ],
   "source": [
    "print('the max l3',max(l3))"
   ]
  },
  {
   "cell_type": "code",
   "execution_count": 13,
   "id": "be0eb22b-5649-4898-8bed-a8ec2a158c52",
   "metadata": {},
   "outputs": [
    {
     "ename": "TypeError",
     "evalue": "'>' not supported between instances of 'str' and 'int'",
     "output_type": "error",
     "traceback": [
      "\u001b[1;31m---------------------------------------------------------------------------\u001b[0m",
      "\u001b[1;31mTypeError\u001b[0m                                 Traceback (most recent call last)",
      "Cell \u001b[1;32mIn[13], line 1\u001b[0m\n\u001b[1;32m----> 1\u001b[0m \u001b[38;5;28mprint\u001b[39m(\u001b[38;5;124m'\u001b[39m\u001b[38;5;124mthe max l4\u001b[39m\u001b[38;5;124m'\u001b[39m,\u001b[38;5;28mmax\u001b[39m(l4))\n",
      "\u001b[1;31mTypeError\u001b[0m: '>' not supported between instances of 'str' and 'int'"
     ]
    }
   ],
   "source": [
    "print('the max l4',max(l4))"
   ]
  },
  {
   "cell_type": "code",
   "execution_count": 14,
   "id": "be65d22f-7609-4b99-bee3-22c9a9038ce2",
   "metadata": {},
   "outputs": [
    {
     "ename": "TypeError",
     "evalue": "'>' not supported between instances of 'str' and 'int'",
     "output_type": "error",
     "traceback": [
      "\u001b[1;31m---------------------------------------------------------------------------\u001b[0m",
      "\u001b[1;31mTypeError\u001b[0m                                 Traceback (most recent call last)",
      "Cell \u001b[1;32mIn[14], line 1\u001b[0m\n\u001b[1;32m----> 1\u001b[0m \u001b[38;5;28mprint\u001b[39m(\u001b[38;5;124m'\u001b[39m\u001b[38;5;124mthe max l7\u001b[39m\u001b[38;5;124m'\u001b[39m,\u001b[38;5;28mmax\u001b[39m(l7))\n",
      "\u001b[1;31mTypeError\u001b[0m: '>' not supported between instances of 'str' and 'int'"
     ]
    }
   ],
   "source": [
    "print('the max l7',max(l7))"
   ]
  },
  {
   "cell_type": "markdown",
   "id": "7bbaf8b8-d9ba-4221-b15d-8225d6d45453",
   "metadata": {},
   "source": [
    "# min()"
   ]
  },
  {
   "cell_type": "code",
   "execution_count": 15,
   "id": "16badf9f-91e7-4163-8a94-242585650d74",
   "metadata": {},
   "outputs": [
    {
     "name": "stdout",
     "output_type": "stream",
     "text": [
      "the min l1 1\n",
      "the min l2 A\n",
      "the min l5 naresh it\n",
      "the min l6 100\n"
     ]
    }
   ],
   "source": [
    "print('the min l1',min(l1))\n",
    "print('the min l2',min(l2))\n",
    "\n",
    "\n",
    "print('the min l5',min(l5))\n",
    "print('the min l6',min(l6))"
   ]
  },
  {
   "cell_type": "code",
   "execution_count": 16,
   "id": "03039475-42c1-432a-970f-441962363bb5",
   "metadata": {},
   "outputs": [
    {
     "ename": "TypeError",
     "evalue": "'<' not supported between instances of 'str' and 'int'",
     "output_type": "error",
     "traceback": [
      "\u001b[1;31m---------------------------------------------------------------------------\u001b[0m",
      "\u001b[1;31mTypeError\u001b[0m                                 Traceback (most recent call last)",
      "Cell \u001b[1;32mIn[16], line 1\u001b[0m\n\u001b[1;32m----> 1\u001b[0m \u001b[38;5;28mprint\u001b[39m(\u001b[38;5;124m'\u001b[39m\u001b[38;5;124mthe min l3\u001b[39m\u001b[38;5;124m'\u001b[39m,\u001b[38;5;28mmin\u001b[39m(l3))\n",
      "\u001b[1;31mTypeError\u001b[0m: '<' not supported between instances of 'str' and 'int'"
     ]
    }
   ],
   "source": [
    "print('the min l3',min(l3))"
   ]
  },
  {
   "cell_type": "code",
   "execution_count": 17,
   "id": "51b08957-bb77-4bbe-957a-f282abc6f207",
   "metadata": {},
   "outputs": [
    {
     "ename": "TypeError",
     "evalue": "'<' not supported between instances of 'str' and 'int'",
     "output_type": "error",
     "traceback": [
      "\u001b[1;31m---------------------------------------------------------------------------\u001b[0m",
      "\u001b[1;31mTypeError\u001b[0m                                 Traceback (most recent call last)",
      "Cell \u001b[1;32mIn[17], line 1\u001b[0m\n\u001b[1;32m----> 1\u001b[0m \u001b[38;5;28mprint\u001b[39m(\u001b[38;5;124m'\u001b[39m\u001b[38;5;124mthe min l4\u001b[39m\u001b[38;5;124m'\u001b[39m,\u001b[38;5;28mmin\u001b[39m(l4))\n",
      "\u001b[1;31mTypeError\u001b[0m: '<' not supported between instances of 'str' and 'int'"
     ]
    }
   ],
   "source": [
    "print('the min l4',min(l4))"
   ]
  },
  {
   "cell_type": "code",
   "execution_count": 18,
   "id": "cdd50822-a4ef-4d77-96fb-45bf94501d83",
   "metadata": {},
   "outputs": [
    {
     "ename": "TypeError",
     "evalue": "'<' not supported between instances of 'str' and 'int'",
     "output_type": "error",
     "traceback": [
      "\u001b[1;31m---------------------------------------------------------------------------\u001b[0m",
      "\u001b[1;31mTypeError\u001b[0m                                 Traceback (most recent call last)",
      "Cell \u001b[1;32mIn[18], line 1\u001b[0m\n\u001b[1;32m----> 1\u001b[0m \u001b[38;5;28mprint\u001b[39m(\u001b[38;5;124m'\u001b[39m\u001b[38;5;124mthe min l7\u001b[39m\u001b[38;5;124m'\u001b[39m,\u001b[38;5;28mmin\u001b[39m(l7))\n",
      "\u001b[1;31mTypeError\u001b[0m: '<' not supported between instances of 'str' and 'int'"
     ]
    }
   ],
   "source": [
    "print('the min l7',min(l7))"
   ]
  },
  {
   "cell_type": "markdown",
   "id": "364e189f-1e42-40ee-8235-77f6d36d3f42",
   "metadata": {},
   "source": [
    "# sorted()"
   ]
  },
  {
   "cell_type": "code",
   "execution_count": 19,
   "id": "01ac0658-a68d-4e6c-b3d4-0dafcaf20b4c",
   "metadata": {},
   "outputs": [
    {
     "data": {
      "text/plain": [
       "[1, 2, 3, 4]"
      ]
     },
     "execution_count": 19,
     "metadata": {},
     "output_type": "execute_result"
    }
   ],
   "source": [
    "sorted(l1)"
   ]
  },
  {
   "cell_type": "code",
   "execution_count": 21,
   "id": "0d88489f-0056-44ea-932b-a7d19b495e68",
   "metadata": {},
   "outputs": [
    {
     "data": {
      "text/plain": [
       "['A', 'B', 'C', 'D']"
      ]
     },
     "execution_count": 21,
     "metadata": {},
     "output_type": "execute_result"
    }
   ],
   "source": [
    "sorted(l2)"
   ]
  },
  {
   "cell_type": "code",
   "execution_count": 22,
   "id": "3a58ced6-c72d-40c4-b577-8e5144037501",
   "metadata": {},
   "outputs": [
    {
     "ename": "TypeError",
     "evalue": "'<' not supported between instances of 'str' and 'int'",
     "output_type": "error",
     "traceback": [
      "\u001b[1;31m---------------------------------------------------------------------------\u001b[0m",
      "\u001b[1;31mTypeError\u001b[0m                                 Traceback (most recent call last)",
      "Cell \u001b[1;32mIn[22], line 1\u001b[0m\n\u001b[1;32m----> 1\u001b[0m \u001b[38;5;28msorted\u001b[39m(l3)\n",
      "\u001b[1;31mTypeError\u001b[0m: '<' not supported between instances of 'str' and 'int'"
     ]
    }
   ],
   "source": [
    "sorted(l3)"
   ]
  },
  {
   "cell_type": "code",
   "execution_count": 23,
   "id": "5637cef7-e05e-4e77-85a8-ba95000eecce",
   "metadata": {},
   "outputs": [
    {
     "ename": "TypeError",
     "evalue": "'<' not supported between instances of 'str' and 'int'",
     "output_type": "error",
     "traceback": [
      "\u001b[1;31m---------------------------------------------------------------------------\u001b[0m",
      "\u001b[1;31mTypeError\u001b[0m                                 Traceback (most recent call last)",
      "Cell \u001b[1;32mIn[23], line 1\u001b[0m\n\u001b[1;32m----> 1\u001b[0m \u001b[38;5;28msorted\u001b[39m(l4)\n",
      "\u001b[1;31mTypeError\u001b[0m: '<' not supported between instances of 'str' and 'int'"
     ]
    }
   ],
   "source": [
    "sorted(l4)"
   ]
  },
  {
   "cell_type": "code",
   "execution_count": 24,
   "id": "87c4782c-446d-447f-9ddd-05c874773dae",
   "metadata": {},
   "outputs": [
    {
     "data": {
      "text/plain": [
       "['naresh it']"
      ]
     },
     "execution_count": 24,
     "metadata": {},
     "output_type": "execute_result"
    }
   ],
   "source": [
    "sorted(l5)"
   ]
  },
  {
   "cell_type": "code",
   "execution_count": 25,
   "id": "1169a910-9d9a-4f1e-883b-4fba475e4491",
   "metadata": {},
   "outputs": [
    {
     "data": {
      "text/plain": [
       "[100, 100, 100]"
      ]
     },
     "execution_count": 25,
     "metadata": {},
     "output_type": "execute_result"
    }
   ],
   "source": [
    "sorted(l6)"
   ]
  },
  {
   "cell_type": "code",
   "execution_count": 26,
   "id": "1df75e92-2230-4f62-9480-f81cd719b6ba",
   "metadata": {},
   "outputs": [
    {
     "ename": "TypeError",
     "evalue": "'<' not supported between instances of 'str' and 'int'",
     "output_type": "error",
     "traceback": [
      "\u001b[1;31m---------------------------------------------------------------------------\u001b[0m",
      "\u001b[1;31mTypeError\u001b[0m                                 Traceback (most recent call last)",
      "Cell \u001b[1;32mIn[26], line 1\u001b[0m\n\u001b[1;32m----> 1\u001b[0m \u001b[38;5;28msorted\u001b[39m(l7)\n",
      "\u001b[1;31mTypeError\u001b[0m: '<' not supported between instances of 'str' and 'int'"
     ]
    }
   ],
   "source": [
    "sorted(l7)"
   ]
  },
  {
   "cell_type": "code",
   "execution_count": 27,
   "id": "3f4e1f56-24c6-4a54-a777-81cfd157a70e",
   "metadata": {},
   "outputs": [],
   "source": [
    "# reversed()"
   ]
  },
  {
   "cell_type": "code",
   "execution_count": 29,
   "id": "e3e8579a-4f98-4e61-b21c-159d468ed585",
   "metadata": {},
   "outputs": [
    {
     "name": "stdout",
     "output_type": "stream",
     "text": [
      "4\n",
      "3\n",
      "2\n",
      "1\n"
     ]
    }
   ],
   "source": [
    "for i in reversed(l1):\n",
    "    print(i)"
   ]
  },
  {
   "cell_type": "code",
   "execution_count": 30,
   "id": "d69ff803-778d-49d7-b944-ddb84871482f",
   "metadata": {},
   "outputs": [
    {
     "name": "stdout",
     "output_type": "stream",
     "text": [
      "D\n",
      "C\n",
      "B\n",
      "A\n"
     ]
    }
   ],
   "source": [
    "for i in reversed(l2):\n",
    "    print(i)"
   ]
  },
  {
   "cell_type": "code",
   "execution_count": 31,
   "id": "d87021cc-4e5c-43fa-9655-5cf1f698d9b5",
   "metadata": {},
   "outputs": [
    {
     "name": "stdout",
     "output_type": "stream",
     "text": [
      "D\n",
      "C\n",
      "B\n",
      "A\n",
      "4\n",
      "3\n",
      "2\n",
      "1\n"
     ]
    }
   ],
   "source": [
    "for i in reversed(l3):\n",
    "    print(i)"
   ]
  },
  {
   "cell_type": "code",
   "execution_count": 32,
   "id": "05cf7690-29a6-4fcb-86c2-74ca4e21ff1f",
   "metadata": {},
   "outputs": [
    {
     "name": "stdout",
     "output_type": "stream",
     "text": [
      "False\n",
      "True\n",
      "Cat\n",
      "Ball\n",
      "Apple\n",
      "3\n",
      "2\n",
      "1\n"
     ]
    }
   ],
   "source": [
    "for i in reversed(l4):\n",
    "    print(i)"
   ]
  },
  {
   "cell_type": "code",
   "execution_count": 33,
   "id": "10aa9a43-14d0-4f98-aecf-59d843997ffa",
   "metadata": {},
   "outputs": [
    {
     "name": "stdout",
     "output_type": "stream",
     "text": [
      "naresh it\n"
     ]
    }
   ],
   "source": [
    "for i in reversed(l5):\n",
    "    print(i)"
   ]
  },
  {
   "cell_type": "code",
   "execution_count": 34,
   "id": "2b6b8803-efcf-4734-80bd-daa09d3cbce6",
   "metadata": {},
   "outputs": [
    {
     "name": "stdout",
     "output_type": "stream",
     "text": [
      "100\n",
      "100\n",
      "100\n"
     ]
    }
   ],
   "source": [
    "for i in reversed(l6):\n",
    "    print(i)"
   ]
  },
  {
   "cell_type": "code",
   "execution_count": 35,
   "id": "7e65368b-33be-4110-be05-1774f26b7d6a",
   "metadata": {},
   "outputs": [
    {
     "name": "stdout",
     "output_type": "stream",
     "text": [
      "['A', 2]\n",
      "Apple\n",
      "100\n"
     ]
    }
   ],
   "source": [
    "for i in reversed(l7):\n",
    "    print(i)"
   ]
  },
  {
   "cell_type": "code",
   "execution_count": 37,
   "id": "52543093-7362-473d-827b-4e9830ba90dd",
   "metadata": {},
   "outputs": [
    {
     "data": {
      "text/plain": [
       "[4, 3, 2, 1]"
      ]
     },
     "execution_count": 37,
     "metadata": {},
     "output_type": "execute_result"
    }
   ],
   "source": [
    "list(reversed(l1))"
   ]
  },
  {
   "cell_type": "code",
   "execution_count": 38,
   "id": "96b765d8-926c-4696-8c65-2d6eb82aa19c",
   "metadata": {},
   "outputs": [
    {
     "data": {
      "text/plain": [
       "['D', 'C', 'B', 'A']"
      ]
     },
     "execution_count": 38,
     "metadata": {},
     "output_type": "execute_result"
    }
   ],
   "source": [
    "list(reversed(l2))"
   ]
  },
  {
   "cell_type": "code",
   "execution_count": 39,
   "id": "81af231a-1c79-473a-ac9f-70044c66b1ab",
   "metadata": {},
   "outputs": [
    {
     "data": {
      "text/plain": [
       "['D', 'C', 'B', 'A', 4, 3, 2, 1]"
      ]
     },
     "execution_count": 39,
     "metadata": {},
     "output_type": "execute_result"
    }
   ],
   "source": [
    "list(reversed(l3))"
   ]
  },
  {
   "cell_type": "code",
   "execution_count": 40,
   "id": "8e57eafb-a7ed-4316-98d4-7219389737e1",
   "metadata": {},
   "outputs": [
    {
     "data": {
      "text/plain": [
       "[False, True, 'Cat', 'Ball', 'Apple', 3, 2, 1]"
      ]
     },
     "execution_count": 40,
     "metadata": {},
     "output_type": "execute_result"
    }
   ],
   "source": [
    "list(reversed(l4))"
   ]
  },
  {
   "cell_type": "code",
   "execution_count": 41,
   "id": "ec156931-2d67-43fe-904e-67efa4882776",
   "metadata": {},
   "outputs": [
    {
     "data": {
      "text/plain": [
       "['naresh it']"
      ]
     },
     "execution_count": 41,
     "metadata": {},
     "output_type": "execute_result"
    }
   ],
   "source": [
    "list(reversed(l5))"
   ]
  },
  {
   "cell_type": "code",
   "execution_count": 42,
   "id": "271e2f32-9446-4202-9192-3ce9bab64dd3",
   "metadata": {},
   "outputs": [
    {
     "data": {
      "text/plain": [
       "[100, 100, 100]"
      ]
     },
     "execution_count": 42,
     "metadata": {},
     "output_type": "execute_result"
    }
   ],
   "source": [
    "list(reversed(l6))"
   ]
  },
  {
   "cell_type": "code",
   "execution_count": 43,
   "id": "3fa7bab2-50a3-485a-97f9-cd731558950f",
   "metadata": {},
   "outputs": [
    {
     "data": {
      "text/plain": [
       "[['A', 2], 'Apple', 100]"
      ]
     },
     "execution_count": 43,
     "metadata": {},
     "output_type": "execute_result"
    }
   ],
   "source": [
    "list(reversed(l7))"
   ]
  },
  {
   "cell_type": "code",
   "execution_count": 45,
   "id": "126a324f-cd74-4d45-b22a-25ba0897d894",
   "metadata": {},
   "outputs": [],
   "source": [
    "list=['m','o','h',['i','t']]\n"
   ]
  },
  {
   "cell_type": "code",
   "execution_count": 52,
   "id": "c24915c0-1267-4ece-a812-03269b671648",
   "metadata": {},
   "outputs": [
    {
     "data": {
      "text/plain": [
       "'i'"
      ]
     },
     "execution_count": 52,
     "metadata": {},
     "output_type": "execute_result"
    }
   ],
   "source": [
    "list[3][0]"
   ]
  },
  {
   "cell_type": "markdown",
   "id": "948b4b33-65c1-4562-8e4f-16061fff62a4",
   "metadata": {},
   "source": [
    "# method"
   ]
  },
  {
   "cell_type": "code",
   "execution_count": 1,
   "id": "f24e79ba-367a-4a21-a352-64981c5f31a5",
   "metadata": {},
   "outputs": [
    {
     "data": {
      "text/plain": [
       "['__add__',\n",
       " '__class__',\n",
       " '__class_getitem__',\n",
       " '__contains__',\n",
       " '__delattr__',\n",
       " '__delitem__',\n",
       " '__dir__',\n",
       " '__doc__',\n",
       " '__eq__',\n",
       " '__format__',\n",
       " '__ge__',\n",
       " '__getattribute__',\n",
       " '__getitem__',\n",
       " '__getstate__',\n",
       " '__gt__',\n",
       " '__hash__',\n",
       " '__iadd__',\n",
       " '__imul__',\n",
       " '__init__',\n",
       " '__init_subclass__',\n",
       " '__iter__',\n",
       " '__le__',\n",
       " '__len__',\n",
       " '__lt__',\n",
       " '__mul__',\n",
       " '__ne__',\n",
       " '__new__',\n",
       " '__reduce__',\n",
       " '__reduce_ex__',\n",
       " '__repr__',\n",
       " '__reversed__',\n",
       " '__rmul__',\n",
       " '__setattr__',\n",
       " '__setitem__',\n",
       " '__sizeof__',\n",
       " '__str__',\n",
       " '__subclasshook__',\n",
       " 'append',\n",
       " 'clear',\n",
       " 'copy',\n",
       " 'count',\n",
       " 'extend',\n",
       " 'index',\n",
       " 'insert',\n",
       " 'pop',\n",
       " 'remove',\n",
       " 'reverse',\n",
       " 'sort']"
      ]
     },
     "execution_count": 1,
     "metadata": {},
     "output_type": "execute_result"
    }
   ],
   "source": [
    "\n",
    "dir([])"
   ]
  },
  {
   "cell_type": "markdown",
   "id": "86a27d20-5130-4847-ada2-de000ba17d15",
   "metadata": {},
   "source": [
    "# append()"
   ]
  },
  {
   "cell_type": "code",
   "execution_count": 2,
   "id": "2f4c7e52-e74e-425a-bc11-7c39a1478008",
   "metadata": {},
   "outputs": [
    {
     "data": {
      "text/plain": [
       "['mohit', 'bele', 5, False, True, 1]"
      ]
     },
     "execution_count": 2,
     "metadata": {},
     "output_type": "execute_result"
    }
   ],
   "source": [
    "l=[]\n",
    "l.append('mohit')\n",
    "l.append('bele')\n",
    "l.append(5)\n",
    "l.append(False)\n",
    "l.append(True)\n",
    "l.append(1)\n",
    "l"
   ]
  },
  {
   "cell_type": "code",
   "execution_count": 7,
   "id": "3262ae4a-7e75-4f88-8218-22e614110b8d",
   "metadata": {},
   "outputs": [],
   "source": [
    "list=[]\n",
    "for i in l:\n",
    "    list.append(i)"
   ]
  },
  {
   "cell_type": "code",
   "execution_count": null,
   "id": "9bce1ef0-6e96-495e-8eff-216249089c12",
   "metadata": {},
   "outputs": [],
   "source": []
  },
  {
   "cell_type": "code",
   "execution_count": 8,
   "id": "67b328b2-6373-42b0-8e6a-d19f7fbe0037",
   "metadata": {},
   "outputs": [
    {
     "data": {
      "text/plain": [
       "['mohit', 'bele', 5, False, True, 1]"
      ]
     },
     "execution_count": 8,
     "metadata": {},
     "output_type": "execute_result"
    }
   ],
   "source": [
    "list"
   ]
  },
  {
   "cell_type": "code",
   "execution_count": 22,
   "id": "b24167f2-fc0a-43cc-97ac-f275b888cda0",
   "metadata": {},
   "outputs": [
    {
     "name": "stdout",
     "output_type": "stream",
     "text": [
      "hello\n",
      "mohit\n"
     ]
    },
    {
     "data": {
      "text/plain": [
       "'hello mohit'"
      ]
     },
     "execution_count": 22,
     "metadata": {},
     "output_type": "execute_result"
    }
   ],
   "source": [
    "str='hello mohit '\n",
    "a = str.split()\n",
    "for i in range(len(a)):\n",
    "    print(a[i])\n",
    "\n",
    "' '.join(a)"
   ]
  },
  {
   "cell_type": "code",
   "execution_count": 20,
   "id": "0e9153cc-2c39-4130-98ec-b2380a3ddf0a",
   "metadata": {},
   "outputs": [
    {
     "data": {
      "text/plain": [
       "['hello', 'mohit']"
      ]
     },
     "execution_count": 20,
     "metadata": {},
     "output_type": "execute_result"
    }
   ],
   "source": [
    "a"
   ]
  },
  {
   "cell_type": "code",
   "execution_count": 24,
   "id": "da975ecc-9163-4d89-b89c-a5c3f5da2d73",
   "metadata": {},
   "outputs": [
    {
     "name": "stdout",
     "output_type": "stream",
     "text": [
      "[1, 2, 3, 4, 'hi', 'bye', 'etc']\n",
      "[1, 2, 3, 4, 'hi', 'bye', 'etc', 1234, 1245, 7546321]\n",
      "[1234, 1245, 7546321]\n"
     ]
    }
   ],
   "source": [
    "list=[1,2,3,4,'hi','bye','etc']\n",
    "print(list)\n",
    "list1=[1234,1245,7546321,]\n",
    "list.extend(list1)\n",
    "print(list)\n",
    "print(list1)"
   ]
  },
  {
   "cell_type": "code",
   "execution_count": 25,
   "id": "003cbdc6-bbc9-4e15-af8b-08f00d281797",
   "metadata": {},
   "outputs": [
    {
     "data": {
      "text/plain": [
       "[1234, 1245, 7546321, 1, 2, 3, 4, 'hi', 'bye', 'etc', 1234, 1245, 7546321]"
      ]
     },
     "execution_count": 25,
     "metadata": {},
     "output_type": "execute_result"
    }
   ],
   "source": [
    "list1+list"
   ]
  },
  {
   "cell_type": "code",
   "execution_count": 26,
   "id": "e6fae9fa-74f6-4f68-b36c-8984085f634d",
   "metadata": {},
   "outputs": [
    {
     "data": {
      "text/plain": [
       "[1, 2, 3, 4, 'hi', 'bye', 'etc', 1234, 1245, 7546321]"
      ]
     },
     "execution_count": 26,
     "metadata": {},
     "output_type": "execute_result"
    }
   ],
   "source": [
    "list"
   ]
  },
  {
   "cell_type": "code",
   "execution_count": 27,
   "id": "2f4d42a5-c492-4f8b-82ba-f853d7c973e8",
   "metadata": {},
   "outputs": [
    {
     "data": {
      "text/plain": [
       "[1234, 1245, 7546321]"
      ]
     },
     "execution_count": 27,
     "metadata": {},
     "output_type": "execute_result"
    }
   ],
   "source": [
    "list1"
   ]
  },
  {
   "cell_type": "code",
   "execution_count": null,
   "id": "bb9f2d62-6bfb-4368-9a0e-4d6676db7ad9",
   "metadata": {},
   "outputs": [],
   "source": []
  },
  {
   "cell_type": "code",
   "execution_count": 29,
   "id": "27809952-a0ad-4a11-aaf9-78e2461c2cc8",
   "metadata": {},
   "outputs": [],
   "source": [
    "list.insert(5,'hihi')"
   ]
  },
  {
   "cell_type": "code",
   "execution_count": 30,
   "id": "dd7c5729-4514-4fe4-8851-a6587bb8ad91",
   "metadata": {},
   "outputs": [
    {
     "data": {
      "text/plain": [
       "[1, 2, 3, 4, 'hi', 'hihi', 'bye', 'etc', 1234, 1245, 7546321]"
      ]
     },
     "execution_count": 30,
     "metadata": {},
     "output_type": "execute_result"
    }
   ],
   "source": [
    "list"
   ]
  },
  {
   "cell_type": "code",
   "execution_count": 31,
   "id": "427c4df7-4860-4580-a47a-7bc08842992e",
   "metadata": {},
   "outputs": [
    {
     "data": {
      "text/plain": [
       "'hihi'"
      ]
     },
     "execution_count": 31,
     "metadata": {},
     "output_type": "execute_result"
    }
   ],
   "source": [
    "list.pop(5)"
   ]
  },
  {
   "cell_type": "code",
   "execution_count": 32,
   "id": "5f14038e-9ab5-4014-b7aa-0283dcf06b46",
   "metadata": {},
   "outputs": [
    {
     "data": {
      "text/plain": [
       "[1, 2, 3, 4, 'hi', 'bye', 'etc', 1234, 1245, 7546321]"
      ]
     },
     "execution_count": 32,
     "metadata": {},
     "output_type": "execute_result"
    }
   ],
   "source": [
    "list"
   ]
  },
  {
   "cell_type": "code",
   "execution_count": 33,
   "id": "933224a5-8f55-4d62-af96-de55f3536e9a",
   "metadata": {},
   "outputs": [
    {
     "data": {
      "text/plain": [
       "'bye'"
      ]
     },
     "execution_count": 33,
     "metadata": {},
     "output_type": "execute_result"
    }
   ],
   "source": [
    "list.pop(5)"
   ]
  },
  {
   "cell_type": "code",
   "execution_count": 34,
   "id": "d3a5a8b8-05e3-43c1-99fd-ec80cc26feca",
   "metadata": {},
   "outputs": [
    {
     "data": {
      "text/plain": [
       "[1, 2, 3, 4, 'hi', 'etc', 1234, 1245, 7546321]"
      ]
     },
     "execution_count": 34,
     "metadata": {},
     "output_type": "execute_result"
    }
   ],
   "source": [
    "list"
   ]
  },
  {
   "cell_type": "code",
   "execution_count": 35,
   "id": "e30b8ea3-4244-4035-a355-ba9510676426",
   "metadata": {},
   "outputs": [],
   "source": [
    "list.append('hi')"
   ]
  },
  {
   "cell_type": "code",
   "execution_count": 36,
   "id": "bee1a885-0ff9-41d9-ad1a-403a8db72048",
   "metadata": {},
   "outputs": [
    {
     "data": {
      "text/plain": [
       "[1, 2, 3, 4, 'hi', 'etc', 1234, 1245, 7546321, 'hi']"
      ]
     },
     "execution_count": 36,
     "metadata": {},
     "output_type": "execute_result"
    }
   ],
   "source": [
    "list\n"
   ]
  },
  {
   "cell_type": "code",
   "execution_count": 37,
   "id": "79c6eda4-eacc-427d-9d53-2f763588320b",
   "metadata": {},
   "outputs": [],
   "source": [
    "list.remove('hi')"
   ]
  },
  {
   "cell_type": "code",
   "execution_count": 38,
   "id": "de266d91-37ca-4b40-bf89-b7d492c544da",
   "metadata": {},
   "outputs": [
    {
     "data": {
      "text/plain": [
       "[1, 2, 3, 4, 'etc', 1234, 1245, 7546321, 'hi']"
      ]
     },
     "execution_count": 38,
     "metadata": {},
     "output_type": "execute_result"
    }
   ],
   "source": [
    "list"
   ]
  },
  {
   "cell_type": "code",
   "execution_count": 39,
   "id": "be058702-61e4-496f-932c-f86da1e0bf6a",
   "metadata": {},
   "outputs": [],
   "source": [
    "list.remove('hi')"
   ]
  },
  {
   "cell_type": "code",
   "execution_count": 40,
   "id": "ca74bf76-58cf-4a35-acfc-1e01f24dd539",
   "metadata": {},
   "outputs": [
    {
     "data": {
      "text/plain": [
       "[1, 2, 3, 4, 'etc', 1234, 1245, 7546321]"
      ]
     },
     "execution_count": 40,
     "metadata": {},
     "output_type": "execute_result"
    }
   ],
   "source": [
    "list"
   ]
  },
  {
   "cell_type": "code",
   "execution_count": 42,
   "id": "b3a1d95d-5687-419b-9b85-e305cb3bc749",
   "metadata": {},
   "outputs": [],
   "source": [
    "del(list[5])"
   ]
  },
  {
   "cell_type": "code",
   "execution_count": 43,
   "id": "1d66b0f1-6be7-42f6-bcbd-0af214b21ca8",
   "metadata": {},
   "outputs": [
    {
     "data": {
      "text/plain": [
       "[1, 2, 3, 4, 'etc', 1245, 7546321]"
      ]
     },
     "execution_count": 43,
     "metadata": {},
     "output_type": "execute_result"
    }
   ],
   "source": [
    "list"
   ]
  },
  {
   "cell_type": "code",
   "execution_count": null,
   "id": "7db4b632-3247-4bed-87ae-78810a1e90f9",
   "metadata": {},
   "outputs": [],
   "source": []
  }
 ],
 "metadata": {
  "kernelspec": {
   "display_name": "Python 3 (ipykernel)",
   "language": "python",
   "name": "python3"
  },
  "language_info": {
   "codemirror_mode": {
    "name": "ipython",
    "version": 3
   },
   "file_extension": ".py",
   "mimetype": "text/x-python",
   "name": "python",
   "nbconvert_exporter": "python",
   "pygments_lexer": "ipython3",
   "version": "3.11.7"
  }
 },
 "nbformat": 4,
 "nbformat_minor": 5
}
