{
 "cells": [
  {
   "cell_type": "code",
   "execution_count": 1,
   "id": "ce1ff1d3-2f49-4989-836e-af072b6e71aa",
   "metadata": {},
   "outputs": [
    {
     "data": {
      "text/plain": [
       "int"
      ]
     },
     "execution_count": 1,
     "metadata": {},
     "output_type": "execute_result"
    }
   ],
   "source": [
    "n1=100\n",
    "type(n1)"
   ]
  },
  {
   "cell_type": "code",
   "execution_count": 1,
   "id": "2126c49d-6fcd-4c87-9e7a-5a6bcbde1e4c",
   "metadata": {},
   "outputs": [
    {
     "data": {
      "text/plain": [
       "int"
      ]
     },
     "execution_count": 1,
     "metadata": {},
     "output_type": "execute_result"
    }
   ],
   "source": [
    "m1=1000\n",
    "type(m1)"
   ]
  },
  {
   "cell_type": "code",
   "execution_count": 2,
   "id": "bf7e9fd6-622e-4d52-9c73-1e0dc060f97e",
   "metadata": {},
   "outputs": [
    {
     "data": {
      "text/plain": [
       "1365"
      ]
     },
     "execution_count": 2,
     "metadata": {},
     "output_type": "execute_result"
    }
   ],
   "source": [
    "0x555"
   ]
  },
  {
   "cell_type": "code",
   "execution_count": 2,
   "id": "b8369bb8-552e-48d7-9d03-d5dbdcb90d65",
   "metadata": {},
   "outputs": [
    {
     "data": {
      "text/plain": [
       "605"
      ]
     },
     "execution_count": 2,
     "metadata": {},
     "output_type": "execute_result"
    }
   ],
   "source": [
    "0x25d"
   ]
  },
  {
   "cell_type": "code",
   "execution_count": 4,
   "id": "e81034fe-2742-4855-881f-2b7b678be697",
   "metadata": {},
   "outputs": [
    {
     "data": {
      "text/plain": [
       "596"
      ]
     },
     "execution_count": 4,
     "metadata": {},
     "output_type": "execute_result"
    }
   ],
   "source": [
    "0x254"
   ]
  },
  {
   "cell_type": "code",
   "execution_count": 5,
   "id": "72a15113-527e-4737-91d8-7db3df70af1a",
   "metadata": {},
   "outputs": [
    {
     "data": {
      "text/plain": [
       "9679"
      ]
     },
     "execution_count": 5,
     "metadata": {},
     "output_type": "execute_result"
    }
   ],
   "source": [
    "0X25cf"
   ]
  },
  {
   "cell_type": "code",
   "execution_count": 2,
   "id": "1a51ffae-a180-4f0e-93ff-6cdabaca10fb",
   "metadata": {},
   "outputs": [
    {
     "data": {
      "text/plain": [
       "11"
      ]
     },
     "execution_count": 2,
     "metadata": {},
     "output_type": "execute_result"
    }
   ],
   "source": [
    "0B1011\n"
   ]
  },
  {
   "cell_type": "code",
   "execution_count": 4,
   "id": "8a61664a-cd2e-4f9c-8127-e7dbfd12b2a2",
   "metadata": {},
   "outputs": [
    {
     "data": {
      "text/plain": [
       "10"
      ]
     },
     "execution_count": 4,
     "metadata": {},
     "output_type": "execute_result"
    }
   ],
   "source": [
    "0b01010"
   ]
  },
  {
   "cell_type": "code",
   "execution_count": 6,
   "id": "bf27627e-f766-476f-a98e-80204a50823f",
   "metadata": {},
   "outputs": [
    {
     "data": {
      "text/plain": [
       "2"
      ]
     },
     "execution_count": 6,
     "metadata": {},
     "output_type": "execute_result"
    }
   ],
   "source": [
    "0b10"
   ]
  },
  {
   "cell_type": "code",
   "execution_count": 8,
   "id": "9b207d03-2c6e-41a5-ac1e-c1ee057e4ec7",
   "metadata": {},
   "outputs": [
    {
     "data": {
      "text/plain": [
       "21"
      ]
     },
     "execution_count": 8,
     "metadata": {},
     "output_type": "execute_result"
    }
   ],
   "source": [
    "0b10101"
   ]
  },
  {
   "cell_type": "code",
   "execution_count": null,
   "id": "ef83c902-dd02-4f75-85dc-c290f1646247",
   "metadata": {},
   "outputs": [],
   "source": [
    "8   4   2   1    num\n",
    "0   0   0   0     0\n",
    "0   0   0   1     1\n",
    "0   0   1   0     2\n",
    "0   0   1   1     3 \n",
    "0   1   0   0     4\n",
    "0   1   0   1     5\n",
    "0   1   1   0     6\n",
    "0   1   1   1     7 \n",
    "1   0   0   0     8 \n",
    "1   0   0   1     9\n",
    "1   0   1   0     10\n",
    "1   0   1   1     11\n",
    "1   1   0   0     12\n",
    "1   1   0   1     13\n",
    "1   1   1   0     14\n",
    "1   1   1   1     15"
   ]
  },
  {
   "cell_type": "code",
   "execution_count": 1,
   "id": "b85a5fa6-74f1-4285-84e0-121560c9d89c",
   "metadata": {},
   "outputs": [
    {
     "data": {
      "text/plain": [
       "585"
      ]
     },
     "execution_count": 1,
     "metadata": {},
     "output_type": "execute_result"
    }
   ],
   "source": [
    "0o1111"
   ]
  },
  {
   "cell_type": "code",
   "execution_count": 3,
   "id": "d6cd6ea4-8132-4c08-b25e-99e9444e07a0",
   "metadata": {},
   "outputs": [
    {
     "data": {
      "text/plain": [
       "2054353"
      ]
     },
     "execution_count": 3,
     "metadata": {},
     "output_type": "execute_result"
    }
   ],
   "source": [
    "0o7654321"
   ]
  },
  {
   "cell_type": "code",
   "execution_count": 4,
   "id": "114c3057-a131-41c2-a5e9-cead6c39a10e",
   "metadata": {},
   "outputs": [
    {
     "data": {
      "text/plain": [
       "4369"
      ]
     },
     "execution_count": 4,
     "metadata": {},
     "output_type": "execute_result"
    }
   ],
   "source": [
    "0x1111"
   ]
  },
  {
   "cell_type": "code",
   "execution_count": 5,
   "id": "adfaff70-d735-4612-b976-8585ed7fee9e",
   "metadata": {},
   "outputs": [
    {
     "data": {
      "text/plain": [
       "6740"
      ]
     },
     "execution_count": 5,
     "metadata": {},
     "output_type": "execute_result"
    }
   ],
   "source": [
    "0x1a54\n"
   ]
  },
  {
   "cell_type": "code",
   "execution_count": 3,
   "id": "3e290386-7c2f-4eb7-b33e-6d251806f9ff",
   "metadata": {},
   "outputs": [
    {
     "data": {
      "text/plain": [
       "float"
      ]
     },
     "execution_count": 3,
     "metadata": {},
     "output_type": "execute_result"
    }
   ],
   "source": [
    "n2=155.55\n",
    "type(n2)"
   ]
  },
  {
   "cell_type": "code",
   "execution_count": 9,
   "id": "9d2a2ec7-c6fa-42cd-881b-30ccde03653f",
   "metadata": {},
   "outputs": [
    {
     "data": {
      "text/plain": [
       "'C:\\\\Users\\\\Mohit Bele\\\\Desktop\\\\Naresh_IT\\\\Full_Stack_Data_Science\\\\Python_By_ Mohit_Bele'"
      ]
     },
     "execution_count": 9,
     "metadata": {},
     "output_type": "execute_result"
    }
   ],
   "source": [
    "import os\n",
    "os.getcwd()"
   ]
  },
  {
   "cell_type": "code",
   "execution_count": 4,
   "id": "21211b48-d461-496a-b393-b5c3e1e7a30a",
   "metadata": {},
   "outputs": [
    {
     "data": {
      "text/plain": [
       "(10.0, 100.0, 1000.0, 10000.0)"
      ]
     },
     "execution_count": 4,
     "metadata": {},
     "output_type": "execute_result"
    }
   ],
   "source": [
    "# importan concept which is use in DS\n",
    "1e1,1e2,1e3,1e4 #....soon"
   ]
  },
  {
   "cell_type": "code",
   "execution_count": 14,
   "id": "089af43a-9448-436f-a403-0c487901917e",
   "metadata": {},
   "outputs": [
    {
     "data": {
      "text/plain": [
       "1e+25"
      ]
     },
     "execution_count": 14,
     "metadata": {},
     "output_type": "execute_result"
    }
   ],
   "source": []
  },
  {
   "cell_type": "code",
   "execution_count": 5,
   "id": "7927591e-81c6-40e3-a87e-9063d818f1b6",
   "metadata": {},
   "outputs": [
    {
     "data": {
      "text/plain": [
       "24000.0"
      ]
     },
     "execution_count": 5,
     "metadata": {},
     "output_type": "execute_result"
    }
   ],
   "source": [
    "24e3\n",
    "#24*10^3 = 24000"
   ]
  },
  {
   "cell_type": "code",
   "execution_count": 17,
   "id": "b377c642-4735-481a-9d7a-20b82f5e89f5",
   "metadata": {},
   "outputs": [
    {
     "data": {
      "text/plain": [
       "10000.0"
      ]
     },
     "execution_count": 17,
     "metadata": {},
     "output_type": "execute_result"
    }
   ],
   "source": [
    "10e+3"
   ]
  },
  {
   "cell_type": "code",
   "execution_count": 9,
   "id": "1c5bbaee-1ee0-4ea1-9c60-70074c5ade59",
   "metadata": {},
   "outputs": [
    {
     "data": {
      "text/plain": [
       "(10.0, 100.0, 1000.0, 10000.0)"
      ]
     },
     "execution_count": 9,
     "metadata": {},
     "output_type": "execute_result"
    }
   ],
   "source": [
    "1e+1,1e+2,1e+3,1e+4"
   ]
  },
  {
   "cell_type": "code",
   "execution_count": 8,
   "id": "18ad8ae3-7e4b-4610-844d-84bd8f89d391",
   "metadata": {},
   "outputs": [
    {
     "data": {
      "text/plain": [
       "10000000000.0"
      ]
     },
     "execution_count": 8,
     "metadata": {},
     "output_type": "execute_result"
    }
   ],
   "source": [
    "1e+10"
   ]
  },
  {
   "cell_type": "code",
   "execution_count": 10,
   "id": "51bb2aa0-028d-42a1-a69a-357531a7b006",
   "metadata": {},
   "outputs": [
    {
     "data": {
      "text/plain": [
       "(0.1, 0.01, 0.001, 0.0001)"
      ]
     },
     "execution_count": 10,
     "metadata": {},
     "output_type": "execute_result"
    }
   ],
   "source": [
    "1e-1,1e-2,1e-3,1e-4"
   ]
  },
  {
   "cell_type": "code",
   "execution_count": 10,
   "id": "3a74bc37-9996-40d2-a4e9-c0c0017d8ad1",
   "metadata": {},
   "outputs": [
    {
     "data": {
      "text/plain": [
       "2.4e-24"
      ]
     },
     "execution_count": 10,
     "metadata": {},
     "output_type": "execute_result"
    }
   ],
   "source": [
    "24e-25"
   ]
  },
  {
   "cell_type": "code",
   "execution_count": 12,
   "id": "34cf68ce-f336-4a13-aefd-c363767c1780",
   "metadata": {},
   "outputs": [
    {
     "data": {
      "text/plain": [
       "2.5e-05"
      ]
     },
     "execution_count": 12,
     "metadata": {},
     "output_type": "execute_result"
    }
   ],
   "source": [
    "25e-6"
   ]
  },
  {
   "cell_type": "code",
   "execution_count": 13,
   "id": "6fc52f0c-3dde-4284-bfd8-ab60517d07d9",
   "metadata": {},
   "outputs": [
    {
     "data": {
      "text/plain": [
       "1e-05"
      ]
     },
     "execution_count": 13,
     "metadata": {},
     "output_type": "execute_result"
    }
   ],
   "source": [
    "1e-5"
   ]
  },
  {
   "cell_type": "code",
   "execution_count": 11,
   "id": "cf283c8e-7eba-4929-867a-443710d02f67",
   "metadata": {},
   "outputs": [
    {
     "data": {
      "text/plain": [
       "0.024"
      ]
     },
     "execution_count": 11,
     "metadata": {},
     "output_type": "execute_result"
    }
   ],
   "source": [
    "24e-3"
   ]
  },
  {
   "cell_type": "markdown",
   "id": "217db354-f5d6-4820-84ec-82492524447f",
   "metadata": {},
   "source": [
    "##### email_id='mohitbele79@gmail.com'\n",
    "type(email_id)"
   ]
  },
  {
   "cell_type": "code",
   "execution_count": 15,
   "id": "59d9ae7f-71c6-4b8e-be07-47e151d7249f",
   "metadata": {},
   "outputs": [],
   "source": [
    "name = 'mohit'"
   ]
  },
  {
   "cell_type": "code",
   "execution_count": 16,
   "id": "280806a2-ea6e-4462-88eb-22a98e178e5b",
   "metadata": {},
   "outputs": [
    {
     "data": {
      "text/plain": [
       "'mohit'"
      ]
     },
     "execution_count": 16,
     "metadata": {},
     "output_type": "execute_result"
    }
   ],
   "source": [
    "name\n"
   ]
  },
  {
   "cell_type": "code",
   "execution_count": 17,
   "id": "374d455f-d292-4412-826c-081696e15bf1",
   "metadata": {},
   "outputs": [
    {
     "name": "stdout",
     "output_type": "stream",
     "text": [
      "mohit\n"
     ]
    }
   ],
   "source": [
    "print( name )"
   ]
  },
  {
   "cell_type": "code",
   "execution_count": 22,
   "id": "6efcf513-a80e-4d1e-b3cc-c024a5b54f78",
   "metadata": {},
   "outputs": [],
   "source": [
    "name = \"mohit is a 'Good boy'\""
   ]
  },
  {
   "cell_type": "code",
   "execution_count": 24,
   "id": "4328a6d3-7c3f-4c22-b756-28c6e868e229",
   "metadata": {},
   "outputs": [
    {
     "name": "stdout",
     "output_type": "stream",
     "text": [
      "mohit is a 'Good boy'\n"
     ]
    }
   ],
   "source": [
    "print(name)"
   ]
  },
  {
   "cell_type": "code",
   "execution_count": 21,
   "id": "31558b07-96fe-4bdb-816e-3e193fee284c",
   "metadata": {},
   "outputs": [
    {
     "data": {
      "text/plain": [
       "'\\nmohit \\nih\\n'"
      ]
     },
     "execution_count": 21,
     "metadata": {},
     "output_type": "execute_result"
    }
   ],
   "source": [
    "\"\"\"\n",
    "mohit \n",
    "ih\n",
    "\"\"\""
   ]
  },
  {
   "cell_type": "code",
   "execution_count": 22,
   "id": "8d529269-c5e3-49ca-a09d-c58348da84c8",
   "metadata": {},
   "outputs": [
    {
     "data": {
      "text/plain": [
       "bool"
      ]
     },
     "execution_count": 22,
     "metadata": {},
     "output_type": "execute_result"
    }
   ],
   "source": [
    "value=True\n",
    "type(value)"
   ]
  },
  {
   "cell_type": "code",
   "execution_count": 21,
   "id": "021ef5a7-8a97-49bc-ad9b-1dc31a89f813",
   "metadata": {},
   "outputs": [
    {
     "name": "stdout",
     "output_type": "stream",
     "text": [
      "Return random integer in range [a, b], including both end points.\n",
      "        \n"
     ]
    }
   ],
   "source": [
    "import random\n",
    "\n",
    "print(random.randint.__doc__)"
   ]
  },
  {
   "cell_type": "code",
   "execution_count": null,
   "id": "cc1969fa-00b8-4ece-88ec-139cdfb437aa",
   "metadata": {},
   "outputs": [],
   "source": []
  }
 ],
 "metadata": {
  "kernelspec": {
   "display_name": "Python 3 (ipykernel)",
   "language": "python",
   "name": "python3"
  },
  "language_info": {
   "codemirror_mode": {
    "name": "ipython",
    "version": 3
   },
   "file_extension": ".py",
   "mimetype": "text/x-python",
   "name": "python",
   "nbconvert_exporter": "python",
   "pygments_lexer": "ipython3",
   "version": "3.11.7"
  }
 },
 "nbformat": 4,
 "nbformat_minor": 5
}
