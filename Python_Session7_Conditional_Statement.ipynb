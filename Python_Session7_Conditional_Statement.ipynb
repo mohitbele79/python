{
 "cells": [
  {
   "cell_type": "code",
   "execution_count": 3,
   "id": "4bb23517-b3cc-4e8a-bab3-850de99853d0",
   "metadata": {},
   "outputs": [
    {
     "name": "stdout",
     "output_type": "stream",
     "text": [
      "hello\n"
     ]
    }
   ],
   "source": [
    "if True: \n",
    "    print('hello')"
   ]
  },
  {
   "cell_type": "code",
   "execution_count": 5,
   "id": "7caf5b76-b161-4fa1-bda7-11cbd56acc08",
   "metadata": {},
   "outputs": [
    {
     "name": "stdout",
     "output_type": "stream",
     "text": [
      "good condition is correct\n"
     ]
    }
   ],
   "source": [
    "if 100>10:\n",
    "    print(\"good condition is correct\")\n",
    "else:\n",
    "    print(\"not goode\")\n",
    "    "
   ]
  },
  {
   "cell_type": "code",
   "execution_count": 4,
   "id": "52f34c31-5c92-4b55-9784-1ad597074866",
   "metadata": {},
   "outputs": [],
   "source": [
    "if bool(''):\n",
    "    print('')"
   ]
  },
  {
   "cell_type": "code",
   "execution_count": 8,
   "id": "45ec42f7-620b-4ceb-96dc-87a94642dcdb",
   "metadata": {},
   "outputs": [
    {
     "name": "stdin",
     "output_type": "stream",
     "text": [
      "Enter the value :  5\n"
     ]
    },
    {
     "name": "stdout",
     "output_type": "stream",
     "text": [
      "Valid\n"
     ]
    }
   ],
   "source": [
    "a=eval(input('Enter the value : '))\n",
    "if a<10:\n",
    "    print('Valid')"
   ]
  },
  {
   "cell_type": "code",
   "execution_count": 8,
   "id": "8caa5601-b906-44e7-8210-fe844eb8580e",
   "metadata": {},
   "outputs": [
    {
     "name": "stdin",
     "output_type": "stream",
     "text": [
      "Enter the TAX Amount :  2500000\n"
     ]
    },
    {
     "name": "stdout",
     "output_type": "stream",
     "text": [
      "Your pay the TAX of 35%.\n",
      "TAX AMOUNT WILL BE 875000.0\n"
     ]
    }
   ],
   "source": [
    "# Tax calculation.\n",
    "def Tax_calu(tax,tax_per):\n",
    "    Tax_amount=(tax/100)*tax_per\n",
    "    print(f'TAX AMOUNT WILL BE {Tax_amount}')\n",
    "\n",
    "tax=eval(input('Enter the TAX Amount : '))\n",
    "\n",
    "if tax<250000:\n",
    "    print('Your free from Tax Pay. ')\n",
    "elif tax<500000:\n",
    "    print('Your pay the TAX of 5%.')\n",
    "    Tax_calu(tax,5)\n",
    "elif tax<800000:\n",
    "    print('Your pay the TAX of 8%.')\n",
    "    Tax_calu(tax,8)\n",
    "elif tax<1200000:\n",
    "    print('Your pay the TAX of 12%.')\n",
    "    Tax_calu(tax,12)\n",
    "elif tax<1500000:\n",
    "    print('Your pay the TAX of 15%.')\n",
    "    Tax_calu(tax,15)\n",
    "elif tax<2000000:\n",
    "    print('Your pay the TAX of 30%.')\n",
    "    Tax_calu(tax,30)\n",
    "elif tax>2000000:\n",
    "    print('Your pay the TAX of 35%.')\n",
    "    Tax_calu(tax,35)\n",
    "else:\n",
    "    print('sonthing goes error')\n",
    "    \n"
   ]
  },
  {
   "cell_type": "code",
   "execution_count": 11,
   "id": "3f365be9-1c7a-45d6-8c5b-0688f0906909",
   "metadata": {},
   "outputs": [
    {
     "name": "stdout",
     "output_type": "stream",
     "text": [
      "10\n",
      "20\n",
      "Hi\n",
      "Hello\n",
      "bye\n",
      "bye bye\n"
     ]
    }
   ],
   "source": [
    "#case:-1\n",
    "a=10\n",
    "b=20\n",
    "print(a)\n",
    "print(b)\n",
    "if True:\n",
    "    print('Hi')\n",
    "    print('Hello')\n",
    "print('bye')\n",
    "print('bye bye')"
   ]
  },
  {
   "cell_type": "code",
   "execution_count": 12,
   "id": "e796ed8c-29e3-41dd-905f-bb50cf4b3d4b",
   "metadata": {},
   "outputs": [
    {
     "name": "stdout",
     "output_type": "stream",
     "text": [
      "10\n",
      "20\n",
      "bye\n",
      "bye bye\n"
     ]
    }
   ],
   "source": [
    "#case-2\n",
    "a=10\n",
    "b=20\n",
    "print(a)\n",
    "print(b)\n",
    "if False:\n",
    "    print('Hi')\n",
    "    print('Hello')\n",
    "print('bye')\n",
    "print('bye bye')"
   ]
  },
  {
   "cell_type": "code",
   "execution_count": 13,
   "id": "ab96a64d-e49b-4f52-89e4-1bdcdae72044",
   "metadata": {},
   "outputs": [
    {
     "name": "stdout",
     "output_type": "stream",
     "text": [
      "10\n",
      "20\n",
      "bye\n",
      "bye bye\n"
     ]
    }
   ],
   "source": [
    "# case-3\n",
    "a=10\n",
    "b=20\n",
    "print(a)\n",
    "print(b)\n",
    "if a>b:\n",
    "    print('Hi')\n",
    "    print('Hello')\n",
    "print('bye')\n",
    "print('bye bye')"
   ]
  },
  {
   "cell_type": "code",
   "execution_count": 14,
   "id": "a765a145-755d-41e1-b542-63e4c3bd43f8",
   "metadata": {},
   "outputs": [
    {
     "name": "stdout",
     "output_type": "stream",
     "text": [
      "mohit\n",
      "bele\n",
      "bye\n",
      "bye bye\n"
     ]
    }
   ],
   "source": [
    "# case-4\n",
    "a='mohit'\n",
    "b='bele'\n",
    "print(a)\n",
    "print(b)\n",
    "if a==b:\n",
    "    print('Hi')\n",
    "    print('Hello')\n",
    "print('bye')\n",
    "print('bye bye')"
   ]
  },
  {
   "cell_type": "code",
   "execution_count": 18,
   "id": "b164b5d2-395a-4652-8b99-bdaf70367384",
   "metadata": {},
   "outputs": [
    {
     "name": "stdout",
     "output_type": "stream",
     "text": [
      "mohit\n",
      "bele\n",
      "bye\n",
      "bye bye\n"
     ]
    }
   ],
   "source": [
    "# case-5\n",
    "a='mohit'\n",
    "b='bele'\n",
    "print(a)\n",
    "print(b)\n",
    "if a!=b and a==b:\n",
    "    print('Hi')\n",
    "    print('Hello')\n",
    "print('bye')\n",
    "print('bye bye')"
   ]
  },
  {
   "cell_type": "code",
   "execution_count": 19,
   "id": "621ab2a1-5b44-4ebb-b42e-54521d5a59be",
   "metadata": {},
   "outputs": [
    {
     "name": "stdout",
     "output_type": "stream",
     "text": [
      "mohit\n",
      "bele\n",
      "Hi\n",
      "Hello\n",
      "bye\n",
      "bye bye\n"
     ]
    }
   ],
   "source": [
    "# case-6\n",
    "a='mohit'\n",
    "b='bele'\n",
    "print(a)\n",
    "print(b)\n",
    "if a!=b or a==b:\n",
    "    print('Hi')\n",
    "    print('Hello')\n",
    "print('bye')\n",
    "print('bye bye')"
   ]
  },
  {
   "cell_type": "code",
   "execution_count": 23,
   "id": "3d2a1fc8-03f5-49dd-98a6-40f66eb82cf7",
   "metadata": {},
   "outputs": [
    {
     "name": "stdout",
     "output_type": "stream",
     "text": [
      "Hello! Welcome.\n"
     ]
    }
   ],
   "source": [
    "name = \"Alex\"\n",
    "age = 0\n",
    "\n",
    "if name == \"Alex\" or name == \"John\" and age >= 2:\n",
    "    print(\"Hello! Welcome.\")\n",
    "else:\n",
    "    print(\"Good Bye!!\")"
   ]
  },
  {
   "cell_type": "markdown",
   "id": "0f5faab8-db98-4cac-96eb-77a14ac6630e",
   "metadata": {},
   "source": [
    "# Write an if condition to check if a number is positive."
   ]
  },
  {
   "cell_type": "code",
   "execution_count": 26,
   "id": "72fc2a29-d8ff-44a2-b797-d1185ec0af56",
   "metadata": {},
   "outputs": [
    {
     "name": "stdin",
     "output_type": "stream",
     "text": [
      "Enter the Number :  5\n"
     ]
    },
    {
     "name": "stdout",
     "output_type": "stream",
     "text": [
      "5 is positive Number.\n"
     ]
    }
   ],
   "source": [
    "num=eval(input('Enter the Number : '))\n",
    "\n",
    "if num>0:\n",
    "    print(f'{num} is positive Number.')\n",
    "    "
   ]
  },
  {
   "cell_type": "markdown",
   "id": "eea2cf6b-a674-40c8-afb4-ed211bda0868",
   "metadata": {},
   "source": [
    "# Write an if condition to check if a number is greater than 100."
   ]
  },
  {
   "cell_type": "code",
   "execution_count": 27,
   "id": "9d3a31e3-12e0-4e3b-b586-5a78e20a5ba9",
   "metadata": {},
   "outputs": [
    {
     "name": "stdin",
     "output_type": "stream",
     "text": [
      "Enter the Number :  102\n"
     ]
    },
    {
     "name": "stdout",
     "output_type": "stream",
     "text": [
      "102 is greater than 100\n"
     ]
    }
   ],
   "source": [
    "num1=eval(input('Enter the Number : '))\n",
    "\n",
    "if num1>100:\n",
    "    print(f'{num1} is greater than 100')"
   ]
  },
  {
   "cell_type": "markdown",
   "id": "b5869592-9782-45c6-ac3d-76aa3ac9bbf0",
   "metadata": {},
   "source": [
    "# Write an if condition to check if a given character is a vowel."
   ]
  },
  {
   "cell_type": "code",
   "execution_count": 4,
   "id": "68aa350a-24cc-4580-950d-bfe31bb80549",
   "metadata": {},
   "outputs": [
    {
     "name": "stdin",
     "output_type": "stream",
     "text": [
      "Enter the Number :  M\n"
     ]
    }
   ],
   "source": [
    "vowel=input('Enter the Number : ')\n",
    "\n",
    "if vowel=='a' or vowel =='e' or vowel == 'i' or vowel == 'o' or vowel == 'u':\n",
    "    print('the give letter is Vowel.')"
   ]
  },
  {
   "cell_type": "code",
   "execution_count": 7,
   "id": "c929411d-baa3-4d0b-b0e8-be1ed5f3307f",
   "metadata": {},
   "outputs": [
    {
     "name": "stdin",
     "output_type": "stream",
     "text": [
      "Enter the Number :  o\n"
     ]
    },
    {
     "name": "stdout",
     "output_type": "stream",
     "text": [
      "the give letter is Vowel.\n"
     ]
    }
   ],
   "source": [
    "vowel=input('Enter the Number : ')\n",
    "\n",
    "if vowel in 'aeiou' :\n",
    "    print('the give letter is Vowel.')"
   ]
  },
  {
   "cell_type": "code",
   "execution_count": null,
   "id": "40bed8ea-1bef-472f-a237-7904949a2f57",
   "metadata": {},
   "outputs": [],
   "source": []
  },
  {
   "cell_type": "code",
   "execution_count": null,
   "id": "80b3a2cb-c628-401a-bdf0-e4f97f439094",
   "metadata": {},
   "outputs": [],
   "source": []
  }
 ],
 "metadata": {
  "kernelspec": {
   "display_name": "Python 3 (ipykernel)",
   "language": "python",
   "name": "python3"
  },
  "language_info": {
   "codemirror_mode": {
    "name": "ipython",
    "version": 3
   },
   "file_extension": ".py",
   "mimetype": "text/x-python",
   "name": "python",
   "nbconvert_exporter": "python",
   "pygments_lexer": "ipython3",
   "version": "3.11.7"
  }
 },
 "nbformat": 4,
 "nbformat_minor": 5
}
