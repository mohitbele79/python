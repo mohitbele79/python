{
 "cells": [
  {
   "cell_type": "markdown",
   "id": "bd2d7834-7d04-4a70-8b41-3c8c3f4dbf4b",
   "metadata": {},
   "source": [
    "## Function"
   ]
  },
  {
   "cell_type": "markdown",
   "id": "92b4cccc-cc9a-45ce-9b5f-432eaedb4327",
   "metadata": {},
   "source": [
    "### Topic\n",
    "\n",
    "- Function without Argument.\n",
    "- Function whit Argument.\n",
    "- Function default Argument.\n",
    "- Local variable vs Global Variable.\n",
    "- Global Keyword.\n",
    "- Return Statement.\n",
    "- Local unbonded error.\n",
    "- Function in Function."
   ]
  },
  {
   "cell_type": "markdown",
   "id": "f6fa5d1e-d18b-4463-8c85-a7cb182214db",
   "metadata": {},
   "source": [
    "### Function without Argument."
   ]
  },
  {
   "cell_type": "code",
   "execution_count": 3,
   "id": "7bd72bd7-f87c-4e78-a695-296ecc7a95cd",
   "metadata": {},
   "outputs": [
    {
     "name": "stdin",
     "output_type": "stream",
     "text": [
      "Enter the value of a :  4\n",
      "Enter the value of b :  5\n"
     ]
    },
    {
     "name": "stdout",
     "output_type": "stream",
     "text": [
      "The sumation of 4 + 5 = 9\n"
     ]
    }
   ],
   "source": [
    "def add():\n",
    "    a=eval(input('Enter the value of a : '))\n",
    "    b=eval(input('Enter the value of b : '))\n",
    "    print(f'The sumation of {a} + {b} = {a+b}')\n",
    "\n",
    "add()\n",
    "\n"
   ]
  },
  {
   "cell_type": "code",
   "execution_count": 5,
   "id": "89d69895-740c-4d15-8604-3085232a17c6",
   "metadata": {},
   "outputs": [
    {
     "name": "stdin",
     "output_type": "stream",
     "text": [
      "Enter the First Number :  1\n",
      "Enter the Second Number :  2\n",
      "Enter the Third NUmber :  3\n"
     ]
    },
    {
     "name": "stdout",
     "output_type": "stream",
     "text": [
      "Average of 1 , 2 and 3 is 2.0\n"
     ]
    }
   ],
   "source": [
    "# wap ask the user enter 3 numbers calculate average.\n",
    "\n",
    "\n",
    "def avg_3():\n",
    "    num1 = eval(input('Enter the First Number : '))\n",
    "    num2 = eval(input('Enter the Second Number : '))\n",
    "    num3 = eval(input('Enter the Third NUmber : '))\n",
    "    avg=(num1+num2+num3)/3\n",
    "    print(f'Average of {num1} , {num2} and {num3} is {avg}')\n",
    "\n",
    "avg_3()\n"
   ]
  },
  {
   "cell_type": "code",
   "execution_count": 8,
   "id": "3cdf7cff-da02-4860-b6e9-e4569d1e2c55",
   "metadata": {},
   "outputs": [
    {
     "name": "stdin",
     "output_type": "stream",
     "text": [
      "Enter the Radius of Circle :  10\n"
     ]
    },
    {
     "name": "stdout",
     "output_type": "stream",
     "text": [
      "The Area of Circle is : 314.0\n"
     ]
    }
   ],
   "source": [
    "# wap ask the uer enter radius values find the area of the circle\n",
    "\n",
    "def area_circle():\n",
    "    r=eval(input('Enter the Radius of Circle : '))\n",
    "    area = 3.14*r**2\n",
    "    print(f'The Area of Circle is : {area}')\n",
    "\n",
    "area_circle()"
   ]
  },
  {
   "cell_type": "code",
   "execution_count": 10,
   "id": "93dbf3bc-a4a8-41ac-9ce8-4166d37d856d",
   "metadata": {},
   "outputs": [
    {
     "name": "stdin",
     "output_type": "stream",
     "text": [
      "Enter the Bill Amount :  1000\n",
      "Enter the percent of Tip :  20\n"
     ]
    },
    {
     "name": "stdout",
     "output_type": "stream",
     "text": [
      "Tip Amount will be : 200.0\n",
      "Total Bill Amount is : 1200.0\n"
     ]
    }
   ],
   "source": []
  },
  {
   "cell_type": "code",
   "execution_count": 11,
   "id": "a7314041-1bbe-4600-b30f-e5afa98be5c2",
   "metadata": {},
   "outputs": [
    {
     "name": "stdin",
     "output_type": "stream",
     "text": [
      "Enter the Base of Traingle :  10\n",
      "Enter the Height of traingle :  25\n"
     ]
    },
    {
     "name": "stdout",
     "output_type": "stream",
     "text": [
      "Area of the Traingle is : 125.0\n"
     ]
    }
   ],
   "source": [
    "#wap ask the user enter base height calculate area of the traingle\n",
    "\n",
    "def area_tra():\n",
    "    base=eval(input('Enter the Base of Traingle : '))\n",
    "    height=eval(input('Enter the Height of traingle : '))\n",
    "    area=0.5*base*height\n",
    "    print(f'Area of the Traingle is : {area}')\n",
    "\n",
    "area_tra()"
   ]
  },
  {
   "cell_type": "code",
   "execution_count": 12,
   "id": "c9795a6d-9bc0-42e3-be8d-ecc724334047",
   "metadata": {},
   "outputs": [
    {
     "name": "stdin",
     "output_type": "stream",
     "text": [
      "Enter the Length of Rectangle :  10\n",
      "Enter the Breadth of Rectangle :  20\n"
     ]
    },
    {
     "name": "stdout",
     "output_type": "stream",
     "text": [
      "Area of the rectangle is : 200 \n"
     ]
    }
   ],
   "source": [
    "#wap ask the user enter length and breadth calculate area of the rectangle\n",
    "\n",
    "def area_rect():\n",
    "    length=eval(input('Enter the Length of Rectangle : '))\n",
    "    breadth=eval(input('Enter the Breadth of Rectangle : '))\n",
    "    area=length*breadth\n",
    "    print(f'Area of the rectangle is : {area} ')\n",
    "\n",
    "area_rect()"
   ]
  },
  {
   "cell_type": "code",
   "execution_count": 20,
   "id": "070fb4f1-4b27-4a28-bd6e-5976d7da88bd",
   "metadata": {},
   "outputs": [
    {
     "name": "stdin",
     "output_type": "stream",
     "text": [
      "Enter the Number :  5\n"
     ]
    },
    {
     "name": "stdout",
     "output_type": "stream",
     "text": [
      " 5 is Odd.\n",
      "1\n"
     ]
    }
   ],
   "source": [
    "## wap ask the user enter a number\n",
    "# find it is a even number or odd number\n",
    "\n",
    "def even_odd():\n",
    "    num=eval(input('Enter the Number : '))\n",
    "    if num%2==0:\n",
    "        print(f' {num} is Even.')\n",
    "    else:\n",
    "        print(f' {num} is Odd.')\n",
    "    \n",
    "even_odd()\n",
    "\n",
    "    "
   ]
  },
  {
   "cell_type": "code",
   "execution_count": 21,
   "id": "87dcf444-8df9-49bb-9887-52a7be1b2972",
   "metadata": {},
   "outputs": [
    {
     "name": "stdin",
     "output_type": "stream",
     "text": [
      "Enter the distance :  100\n"
     ]
    },
    {
     "name": "stdout",
     "output_type": "stream",
     "text": [
      "Your ride is chargble : \n"
     ]
    },
    {
     "name": "stdin",
     "output_type": "stream",
     "text": [
      "Enter the Charge :  2\n"
     ]
    },
    {
     "name": "stdout",
     "output_type": "stream",
     "text": [
      "Total Charge Is : 200\n"
     ]
    }
   ],
   "source": [
    "## wap ask the user enter the distance\n",
    "# if distance greater than 25km\n",
    "# then enter the charge\n",
    "# print the total cost\n",
    "#otherwise\n",
    "# print free ride\n",
    "\n",
    "def tol():\n",
    "    dis=eval(input('Enter the distance : '))\n",
    "    if dis>25:\n",
    "        print('Your ride is chargble : ')\n",
    "        charge=eval(input('Enter the Charge : '))\n",
    "        total_charge=dis*charge\n",
    "        print(f'Total Charge Is : {total_charge}')\n",
    "    else:\n",
    "        print('Your ride is free')\n",
    "\n",
    "tol()"
   ]
  },
  {
   "cell_type": "markdown",
   "id": "e0a6fd72-34d8-4b44-b806-3cf5661f2d0c",
   "metadata": {},
   "source": [
    "### Functiobn with Argument"
   ]
  },
  {
   "cell_type": "code",
   "execution_count": 25,
   "id": "81b00546-1c48-4fd5-9782-d62eb2a3c237",
   "metadata": {},
   "outputs": [
    {
     "name": "stdin",
     "output_type": "stream",
     "text": [
      "Enter the value of a :  5\n",
      "Enter the value of b :  5\n"
     ]
    },
    {
     "name": "stdout",
     "output_type": "stream",
     "text": [
      "The sumation of 5 + 5 = 10\n"
     ]
    }
   ],
   "source": [
    "def add(a,b): \n",
    "    print(f'The sumation of {a} + {b} = {a+b}')\n",
    "\n",
    "\n",
    "c=eval(input('Enter the value of a : '))\n",
    "d=eval(input('Enter the value of b : '))\n",
    "add(c,d)\n"
   ]
  },
  {
   "cell_type": "code",
   "execution_count": 26,
   "id": "133b4966-c087-4a37-ae5b-4861ce10390f",
   "metadata": {},
   "outputs": [
    {
     "name": "stdin",
     "output_type": "stream",
     "text": [
      "Enter the First Number :  5\n",
      "Enter the Second Number :  2\n",
      "Enter the Third NUmber :  4\n"
     ]
    },
    {
     "name": "stdout",
     "output_type": "stream",
     "text": [
      "Average of 5 , 2 and 4 is 3.6666666666666665\n"
     ]
    }
   ],
   "source": [
    "\n",
    "def avg_3(num1,num2,num3):\n",
    "    avg=(num1+num2+num3)/3\n",
    "    print(f'Average of {num1} , {num2} and {num3} is {avg}')\n",
    "\n",
    "num1 = eval(input('Enter the First Number : '))\n",
    "num2 = eval(input('Enter the Second Number : '))\n",
    "num3 = eval(input('Enter the Third NUmber : '))\n",
    "avg_3(num1,num2,num3)\n"
   ]
  },
  {
   "cell_type": "code",
   "execution_count": 27,
   "id": "f69d6625-2e68-4bdb-9ee4-7b1fbc8fe025",
   "metadata": {},
   "outputs": [
    {
     "name": "stdin",
     "output_type": "stream",
     "text": [
      "Enter the Radius of Circle :  5\n"
     ]
    },
    {
     "name": "stdout",
     "output_type": "stream",
     "text": [
      "The Area of Circle is : 78.5\n"
     ]
    }
   ],
   "source": [
    "# wap ask the uer enter radius values find the area of the circle\n",
    "\n",
    "def area_circle(r):\n",
    "    area = 3.14*r**2\n",
    "    print(f'The Area of Circle is : {area}')\n",
    "\n",
    "r=eval(input('Enter the Radius of Circle : '))\n",
    "area_circle(r)"
   ]
  },
  {
   "cell_type": "code",
   "execution_count": 28,
   "id": "0c5205b3-3690-42ed-b65a-d2af028fa075",
   "metadata": {},
   "outputs": [
    {
     "name": "stdin",
     "output_type": "stream",
     "text": [
      "Enter the Bill Amount :  1000\n",
      "Enter the percent of Tip :  20\n"
     ]
    },
    {
     "name": "stdout",
     "output_type": "stream",
     "text": [
      "Tip Amount will be : 200.0\n",
      "Total Bill Amount is : 1200.0\n"
     ]
    }
   ],
   "source": [
    "# wap ask the user bill amount,\n",
    "# ask the user how much tip you want pay in percentage\n",
    "# calculate totalbill\n",
    "\n",
    "def tip_clacu(bill_amount,tip_per):\n",
    "    tip_amount=(bill_amount/100)*tip_per\n",
    "    total_Amount=bill_amount+tip_amount\n",
    "    print(f'Tip Amount will be : {tip_amount}')\n",
    "    print(f'Total Bill Amount is : {total_Amount}')\n",
    "\n",
    "\n",
    "bill_amount=eval(input('Enter the Bill Amount : '))\n",
    "tip_per=eval(input('Enter the percent of Tip : '))\n",
    "\n",
    "tip_clacu(bill_amount,tip_per)"
   ]
  },
  {
   "cell_type": "code",
   "execution_count": 29,
   "id": "04e878fe-d2cc-4bd1-86ad-cad6939a6d7b",
   "metadata": {},
   "outputs": [
    {
     "name": "stdin",
     "output_type": "stream",
     "text": [
      "Enter the Base of Traingle :  10\n",
      "Enter the Height of traingle :  25\n"
     ]
    },
    {
     "name": "stdout",
     "output_type": "stream",
     "text": [
      "Area of the Traingle is : 125.0\n"
     ]
    }
   ],
   "source": [
    "#wap ask the user enter base height calculate area of the traingle\n",
    "\n",
    "def area_tra(base,height):\n",
    "    area=0.5*base*height\n",
    "    print(f'Area of the Traingle is : {area}')\n",
    "\n",
    "\n",
    "base=eval(input('Enter the Base of Traingle : '))\n",
    "height=eval(input('Enter the Height of traingle : '))\n",
    "\n",
    "area_tra(base,height)"
   ]
  },
  {
   "cell_type": "code",
   "execution_count": 30,
   "id": "76f5af02-68ca-4220-be96-cf485a2d4bfe",
   "metadata": {},
   "outputs": [
    {
     "name": "stdin",
     "output_type": "stream",
     "text": [
      "Enter the Length of Rectangle :  55\n",
      "Enter the Breadth of Rectangle :  22\n"
     ]
    },
    {
     "name": "stdout",
     "output_type": "stream",
     "text": [
      "Area of the rectangle is : 1210 \n"
     ]
    }
   ],
   "source": [
    "#wap ask the user enter length and breadth calculate area of the rectangle\n",
    "\n",
    "def area_rect(length,breadth):\n",
    "    area=length*breadth\n",
    "    print(f'Area of the rectangle is : {area} ')\n",
    "\n",
    "length=eval(input('Enter the Length of Rectangle : '))\n",
    "breadth=eval(input('Enter the Breadth of Rectangle : '))\n",
    "\n",
    "area_rect(length,breadth)"
   ]
  },
  {
   "cell_type": "code",
   "execution_count": 31,
   "id": "6fe1afe9-66f4-4f98-a278-c39ed083b4b5",
   "metadata": {},
   "outputs": [
    {
     "name": "stdin",
     "output_type": "stream",
     "text": [
      "Enter the Number :  55\n"
     ]
    },
    {
     "ename": "TypeError",
     "evalue": "even_odd() missing 1 required positional argument: 'num'",
     "output_type": "error",
     "traceback": [
      "\u001b[1;31m---------------------------------------------------------------------------\u001b[0m",
      "\u001b[1;31mTypeError\u001b[0m                                 Traceback (most recent call last)",
      "Cell \u001b[1;32mIn[31], line 13\u001b[0m\n\u001b[0;32m      9\u001b[0m         \u001b[38;5;28mprint\u001b[39m(\u001b[38;5;124mf\u001b[39m\u001b[38;5;124m'\u001b[39m\u001b[38;5;124m \u001b[39m\u001b[38;5;132;01m{\u001b[39;00mnum\u001b[38;5;132;01m}\u001b[39;00m\u001b[38;5;124m is Odd.\u001b[39m\u001b[38;5;124m'\u001b[39m)\n\u001b[0;32m     11\u001b[0m num\u001b[38;5;241m=\u001b[39m\u001b[38;5;28meval\u001b[39m(\u001b[38;5;28minput\u001b[39m(\u001b[38;5;124m'\u001b[39m\u001b[38;5;124mEnter the Number : \u001b[39m\u001b[38;5;124m'\u001b[39m))    \n\u001b[1;32m---> 13\u001b[0m even_odd()\n",
      "\u001b[1;31mTypeError\u001b[0m: even_odd() missing 1 required positional argument: 'num'"
     ]
    }
   ],
   "source": [
    "## wap ask the user enter a number\n",
    "# find it is a even number or odd number\n",
    "\n",
    "def even_odd(num):\n",
    "    num=eval(input('Enter the Number : '))\n",
    "    if num%2==0:\n",
    "        print(f' {num} is Even.')\n",
    "    else:\n",
    "        print(f' {num} is Odd.')\n",
    "\n",
    "num=eval(input('Enter the Number : '))    \n",
    "\n",
    "even_odd()\n"
   ]
  },
  {
   "cell_type": "code",
   "execution_count": 33,
   "id": "b2f5dcf4-17d2-4f6f-bdb3-32254d898adb",
   "metadata": {},
   "outputs": [
    {
     "name": "stdin",
     "output_type": "stream",
     "text": [
      "Enter the Number :  10\n"
     ]
    },
    {
     "name": "stdout",
     "output_type": "stream",
     "text": [
      " 10 is Even.\n"
     ]
    }
   ],
   "source": [
    "## wap ask the user enter a number\n",
    "# find it is a even number or odd number\n",
    "\n",
    "def even_odd(num):\n",
    "    if num%2==0:\n",
    "        print(f' {num} is Even.')\n",
    "    else:\n",
    "        print(f' {num} is Odd.')\n",
    "\n",
    "num=eval(input('Enter the Number : '))    \n",
    "\n",
    "even_odd(num)"
   ]
  },
  {
   "cell_type": "code",
   "execution_count": 38,
   "id": "e8104272-a96e-4b0f-b840-de762b585e26",
   "metadata": {},
   "outputs": [
    {
     "name": "stdin",
     "output_type": "stream",
     "text": [
      "Enter the distance :  100\n"
     ]
    },
    {
     "name": "stdout",
     "output_type": "stream",
     "text": [
      "Your ride is chargble : \n"
     ]
    },
    {
     "name": "stdin",
     "output_type": "stream",
     "text": [
      "Enter the Charge :  2\n"
     ]
    },
    {
     "name": "stdout",
     "output_type": "stream",
     "text": [
      "Total Charge Is : 200\n"
     ]
    }
   ],
   "source": [
    "def tol(disc):\n",
    "    if disc>25:\n",
    "        print('Your ride is chargble : ')\n",
    "        charge=eval(input('Enter the Charge : '))\n",
    "        total_charge=disc*charge\n",
    "        print(f'Total Charge Is : {total_charge}')\n",
    "    else:\n",
    "        print('Your ride is free')\n",
    "\n",
    "disc=eval(input('Enter the distance : '))\n",
    "\n",
    "tol(disc)"
   ]
  },
  {
   "cell_type": "markdown",
   "id": "c000f962-8d08-433b-8a95-51fec7faf027",
   "metadata": {},
   "source": [
    "### Function Default Argument"
   ]
  },
  {
   "cell_type": "code",
   "execution_count": 42,
   "id": "ef27b0b9-0f01-4ba3-9c4a-0b1d67fc49a0",
   "metadata": {},
   "outputs": [
    {
     "name": "stdin",
     "output_type": "stream",
     "text": [
      "Enter the value of a :  520\n",
      "Enter the value of b :  200\n"
     ]
    },
    {
     "ename": "TypeError",
     "evalue": "add() got an unexpected keyword argument 'd'",
     "output_type": "error",
     "traceback": [
      "\u001b[1;31m---------------------------------------------------------------------------\u001b[0m",
      "\u001b[1;31mTypeError\u001b[0m                                 Traceback (most recent call last)",
      "Cell \u001b[1;32mIn[42], line 7\u001b[0m\n\u001b[0;32m      5\u001b[0m c\u001b[38;5;241m=\u001b[39m\u001b[38;5;28meval\u001b[39m(\u001b[38;5;28minput\u001b[39m(\u001b[38;5;124m'\u001b[39m\u001b[38;5;124mEnter the value of a : \u001b[39m\u001b[38;5;124m'\u001b[39m))\n\u001b[0;32m      6\u001b[0m d\u001b[38;5;241m=\u001b[39m\u001b[38;5;28meval\u001b[39m(\u001b[38;5;28minput\u001b[39m(\u001b[38;5;124m'\u001b[39m\u001b[38;5;124mEnter the value of b : \u001b[39m\u001b[38;5;124m'\u001b[39m))\n\u001b[1;32m----> 7\u001b[0m add(c,d\u001b[38;5;241m=\u001b[39m\u001b[38;5;241m500\u001b[39m)\n",
      "\u001b[1;31mTypeError\u001b[0m: add() got an unexpected keyword argument 'd'"
     ]
    }
   ],
   "source": [
    "def add(a,b): \n",
    "    print(f'The sumation of {a} + {b} = {a+b}')\n",
    "\n",
    "\n",
    "c=eval(input('Enter the value of a : '))\n",
    "d=eval(input('Enter the value of b : '))\n",
    "add(c,d=500)"
   ]
  },
  {
   "cell_type": "code",
   "execution_count": 43,
   "id": "367baa29-5cc1-4b7a-8864-171a91cad0fa",
   "metadata": {},
   "outputs": [
    {
     "name": "stdin",
     "output_type": "stream",
     "text": [
      "Enter the value of a :  520\n",
      "Enter the value of b :  1\n"
     ]
    },
    {
     "name": "stdout",
     "output_type": "stream",
     "text": [
      "The sumation of 520 + 500 = 1020\n"
     ]
    }
   ],
   "source": [
    "def add(a,b): \n",
    "    print(f'The sumation of {a} + {b} = {a+b}')\n",
    "\n",
    "\n",
    "c=eval(input('Enter the value of a : '))\n",
    "b=eval(input('Enter the value of b : '))\n",
    "add(c,b=500)"
   ]
  },
  {
   "cell_type": "code",
   "execution_count": 45,
   "id": "07fe8f38-abec-4b00-bdde-7a6276b89747",
   "metadata": {},
   "outputs": [
    {
     "name": "stdout",
     "output_type": "stream",
     "text": [
      "The sumation of 500 + 500 = 1000\n"
     ]
    }
   ],
   "source": [
    "def add(a,b): \n",
    "    print(f'The sumation of {a} + {b} = {a+b}')\n",
    "\n",
    "\n",
    "\n",
    "add(a=500,b=500)"
   ]
  },
  {
   "cell_type": "code",
   "execution_count": 46,
   "id": "02241074-1e1f-4b1e-a9c0-af09906d639b",
   "metadata": {},
   "outputs": [
    {
     "ename": "SyntaxError",
     "evalue": "non-default argument follows default argument (1126483661.py, line 1)",
     "output_type": "error",
     "traceback": [
      "\u001b[1;36m  Cell \u001b[1;32mIn[46], line 1\u001b[1;36m\u001b[0m\n\u001b[1;33m    def avg_3(num1,num2=200,num3):\u001b[0m\n\u001b[1;37m                            ^\u001b[0m\n\u001b[1;31mSyntaxError\u001b[0m\u001b[1;31m:\u001b[0m non-default argument follows default argument\n"
     ]
    }
   ],
   "source": [
    "\n",
    "def avg_3(num1,num2=200,num3):\n",
    "    avg=(num1+num2+num3)/3\n",
    "    print(f'Average of {num1} , {num2} and {num3} is {avg}')\n",
    "\n",
    "num1 = eval(input('Enter the First Number : '))\n",
    "num2 = eval(input('Enter the Second Number : '))\n",
    "num3 = eval(input('Enter the Third NUmber : '))\n",
    "avg_3(num1,num2,num3)"
   ]
  },
  {
   "cell_type": "code",
   "execution_count": 47,
   "id": "1c042a7e-2992-4102-9e96-3a670cfe99ad",
   "metadata": {},
   "outputs": [
    {
     "name": "stdin",
     "output_type": "stream",
     "text": [
      "Enter the First Number :  65\n",
      "Enter the Second Number :  69\n",
      "Enter the Third NUmber :  44\n"
     ]
    },
    {
     "name": "stdout",
     "output_type": "stream",
     "text": [
      "Average of 65 , 69 and 44 is 59.333333333333336\n"
     ]
    }
   ],
   "source": [
    "\n",
    "def avg_3(num1,num2,num3=655):\n",
    "    avg=(num1+num2+num3)/3\n",
    "    print(f'Average of {num1} , {num2} and {num3} is {avg}')\n",
    "\n",
    "num1 = eval(input('Enter the First Number : '))\n",
    "num2 = eval(input('Enter the Second Number : '))\n",
    "num3 = eval(input('Enter the Third NUmber : '))\n",
    "avg_3(num1,num2,num3)"
   ]
  },
  {
   "cell_type": "code",
   "execution_count": 49,
   "id": "dd9b980c-2398-4564-b366-1efee687c583",
   "metadata": {},
   "outputs": [
    {
     "name": "stdout",
     "output_type": "stream",
     "text": [
      "The Area of Circle is : 314.0\n"
     ]
    }
   ],
   "source": [
    "def area_circle(r):\n",
    "    area = 3.14*r**2\n",
    "    print(f'The Area of Circle is : {area}')\n",
    "\n",
    "\n",
    "area_circle(r=10)"
   ]
  },
  {
   "cell_type": "code",
   "execution_count": 3,
   "id": "4f0ba4e2-ef62-44cb-9104-c014c2799c0a",
   "metadata": {},
   "outputs": [
    {
     "name": "stdin",
     "output_type": "stream",
     "text": [
      "Enter the Bill Amount :  1000\n",
      "Enter the percent of Tip :  90\n"
     ]
    },
    {
     "name": "stdout",
     "output_type": "stream",
     "text": [
      "Tip Amount will be : 300.0\n",
      "Total Bill Amount is : 1300.0\n"
     ]
    }
   ],
   "source": [
    "\n",
    "# wap ask the user bill amount,\n",
    "# ask the user how much tip you want pay in percentage\n",
    "# calculate totalbill\n",
    "\n",
    "def tip_clacu(bill_amount,tip_per=20):\n",
    "    \n",
    "    tip_amount=(bill_amount/100)*tip_per\n",
    "    total_Amount=bill_amount+tip_amount\n",
    "    print(f'Tip Amount will be : {tip_amount}')\n",
    "    print(f'Total Bill Amount is : {total_Amount}')\n",
    "\n",
    "\n",
    "bill_amount=eval(input('Enter the Bill Amount : '))\n",
    "tip_per=eval(input('Enter the percent of Tip : '))\n",
    "\n",
    "tip_clacu(bill_amount,)"
   ]
  },
  {
   "cell_type": "code",
   "execution_count": 8,
   "id": "67ce7f33-e611-4f66-942d-da3ccff70480",
   "metadata": {},
   "outputs": [
    {
     "name": "stdin",
     "output_type": "stream",
     "text": [
      "Enter the Base of Traingle :  10\n",
      "Enter the Height of traingle :  25\n"
     ]
    },
    {
     "name": "stdout",
     "output_type": "stream",
     "text": [
      "Area of the Traingle is : 125.0\n"
     ]
    }
   ],
   "source": [
    "#wap ask the user enter base height calculate area of the traingle\n",
    "\n",
    "def area_tra(base,height=55):\n",
    "    area=0.5*base*height\n",
    "    print(f'Area of the Traingle is : {area}')\n",
    "\n",
    "\n",
    "base=eval(input('Enter the Base of Traingle : '))\n",
    "height=eval(input('Enter the Height of traingle : '))\n",
    "\n",
    "area_tra(base,height)"
   ]
  },
  {
   "cell_type": "code",
   "execution_count": 15,
   "id": "4b7d1182-d08a-424a-a50b-aa12b8adbcfb",
   "metadata": {},
   "outputs": [
    {
     "name": "stdin",
     "output_type": "stream",
     "text": [
      "Enter the Number :  0\n"
     ]
    }
   ],
   "source": [
    "## wap ask the user enter a number\n",
    "# find it is a even number or odd number\n",
    "\n",
    "def even_odd(num= 255):\n",
    "    if num!=0:\n",
    "        if num%2==0 :\n",
    "            print(f' {num} is Even.')\n",
    "        else:\n",
    "            print(f' {num} is Odd.')\n",
    "\n",
    "num=eval(input('Enter the Number : '))    \n",
    "\n",
    "even_odd(num)"
   ]
  },
  {
   "cell_type": "code",
   "execution_count": 18,
   "id": "87da33d4-7759-4723-a510-2550db1fb85b",
   "metadata": {},
   "outputs": [
    {
     "name": "stdin",
     "output_type": "stream",
     "text": [
      "Enter the distance :  55\n"
     ]
    },
    {
     "name": "stdout",
     "output_type": "stream",
     "text": [
      "Your ride is chargble : \n",
      "Total Charge Is : 1100\n"
     ]
    }
   ],
   "source": [
    "def tol(disc,charge=20):\n",
    "    if disc>25:\n",
    "        print('Your ride is chargble : ')\n",
    "        \n",
    "        total_charge=disc*charge\n",
    "        print(f'Total Charge Is : {total_charge}')\n",
    "    else:\n",
    "        print('Your ride is free')\n",
    "\n",
    "disc=eval(input('Enter the distance : '))\n",
    "\n",
    "tol(disc)"
   ]
  },
  {
   "cell_type": "code",
   "execution_count": 9,
   "id": "c6a18879-1915-40c1-ae16-c10f04ea6343",
   "metadata": {},
   "outputs": [
    {
     "name": "stdout",
     "output_type": "stream",
     "text": [
      "7\n"
     ]
    }
   ],
   "source": [
    "def add():\n",
    "    global a ,b\n",
    "    a=2\n",
    "    b=5\n",
    "    c=a+b\n",
    "    print(c)\n",
    "\n",
    "\n",
    "add()"
   ]
  },
  {
   "cell_type": "code",
   "execution_count": 11,
   "id": "11863fc5-8f3f-49f1-a259-586ad9134045",
   "metadata": {},
   "outputs": [
    {
     "data": {
      "text/plain": [
       "2"
      ]
     },
     "execution_count": 11,
     "metadata": {},
     "output_type": "execute_result"
    }
   ],
   "source": [
    "a"
   ]
  },
  {
   "cell_type": "code",
   "execution_count": 27,
   "id": "ba1dc0fd-c5e3-4c24-a1d4-9678e7f9c9a4",
   "metadata": {},
   "outputs": [
    {
     "name": "stdout",
     "output_type": "stream",
     "text": [
      "6.0\n",
      "7\n"
     ]
    },
    {
     "data": {
      "text/plain": [
       "6.0"
      ]
     },
     "execution_count": 27,
     "metadata": {},
     "output_type": "execute_result"
    }
   ],
   "source": [
    "def avg():\n",
    "    a=5\n",
    "    b=6\n",
    "    c=7\n",
    "    avg1=(a+b+c)/3\n",
    "    print(avg1)\n",
    "    return(c,avg1)\n",
    "\n",
    "d,e=avg()\n",
    "print(d)\n",
    "e"
   ]
  },
  {
   "cell_type": "code",
   "execution_count": null,
   "id": "4f761e59-c8d7-4b50-9d8e-3762463745b4",
   "metadata": {},
   "outputs": [],
   "source": [
    "\n"
   ]
  },
  {
   "cell_type": "code",
   "execution_count": null,
   "id": "dba2cc35-f1bd-4ad1-bad1-ccb2b3e18c11",
   "metadata": {},
   "outputs": [],
   "source": []
  },
  {
   "cell_type": "code",
   "execution_count": null,
   "id": "271a869f-97cc-4ee4-8635-602291cb2e28",
   "metadata": {},
   "outputs": [],
   "source": []
  },
  {
   "cell_type": "code",
   "execution_count": null,
   "id": "729f8f0b-374f-4b1e-add7-403028d285f0",
   "metadata": {},
   "outputs": [],
   "source": []
  },
  {
   "cell_type": "code",
   "execution_count": null,
   "id": "07208b08-d59f-4f00-a4ac-ce7f5a018740",
   "metadata": {},
   "outputs": [],
   "source": []
  },
  {
   "cell_type": "code",
   "execution_count": null,
   "id": "13d57097-e7ea-4cae-9645-3af85a3f49fd",
   "metadata": {},
   "outputs": [],
   "source": []
  }
 ],
 "metadata": {
  "kernelspec": {
   "display_name": "Python 3 (ipykernel)",
   "language": "python",
   "name": "python3"
  },
  "language_info": {
   "codemirror_mode": {
    "name": "ipython",
    "version": 3
   },
   "file_extension": ".py",
   "mimetype": "text/x-python",
   "name": "python",
   "nbconvert_exporter": "python",
   "pygments_lexer": "ipython3",
   "version": "3.11.7"
  }
 },
 "nbformat": 4,
 "nbformat_minor": 5
}
