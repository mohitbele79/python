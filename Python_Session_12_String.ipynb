{
 "cells": [
  {
   "cell_type": "code",
   "execution_count": 1,
   "id": "ff1123d1-4925-4a1b-8dbd-8e4792b5444a",
   "metadata": {},
   "outputs": [
    {
     "data": {
      "text/plain": [
       "'python'"
      ]
     },
     "execution_count": 1,
     "metadata": {},
     "output_type": "execute_result"
    }
   ],
   "source": [
    "str1='python'\n",
    "str1"
   ]
  },
  {
   "cell_type": "code",
   "execution_count": 2,
   "id": "98f5223b-e2c5-44f9-a408-403279f92c52",
   "metadata": {},
   "outputs": [
    {
     "name": "stdout",
     "output_type": "stream",
     "text": [
      "python\n"
     ]
    }
   ],
   "source": [
    "print(str1)"
   ]
  },
  {
   "cell_type": "code",
   "execution_count": 3,
   "id": "0afcfc6c-a665-4adf-a999-33ffec7877a0",
   "metadata": {},
   "outputs": [
    {
     "data": {
      "text/plain": [
       "str"
      ]
     },
     "execution_count": 3,
     "metadata": {},
     "output_type": "execute_result"
    }
   ],
   "source": [
    "type(str1)"
   ]
  },
  {
   "cell_type": "code",
   "execution_count": 4,
   "id": "e793a7e5-23ca-4322-8fda-e862cebe479e",
   "metadata": {},
   "outputs": [
    {
     "name": "stdout",
     "output_type": "stream",
     "text": [
      "<class 'str'>\n"
     ]
    }
   ],
   "source": [
    "print(type(str1))"
   ]
  },
  {
   "cell_type": "code",
   "execution_count": 5,
   "id": "b1b4f006-30ec-4ae8-80e6-d17d1c2933d1",
   "metadata": {},
   "outputs": [
    {
     "data": {
      "text/plain": [
       "6"
      ]
     },
     "execution_count": 5,
     "metadata": {},
     "output_type": "execute_result"
    }
   ],
   "source": [
    "len(str1)"
   ]
  },
  {
   "cell_type": "code",
   "execution_count": 6,
   "id": "4bfd5162-af35-433a-97e6-866bf0b6526f",
   "metadata": {},
   "outputs": [
    {
     "data": {
      "text/plain": [
       "'y'"
      ]
     },
     "execution_count": 6,
     "metadata": {},
     "output_type": "execute_result"
    }
   ],
   "source": [
    "max(str1)"
   ]
  },
  {
   "cell_type": "code",
   "execution_count": 7,
   "id": "cb8b6b3e-f2f8-4305-9489-3a41a17f89de",
   "metadata": {},
   "outputs": [
    {
     "data": {
      "text/plain": [
       "'h'"
      ]
     },
     "execution_count": 7,
     "metadata": {},
     "output_type": "execute_result"
    }
   ],
   "source": [
    "min(str1)"
   ]
  },
  {
   "cell_type": "code",
   "execution_count": 8,
   "id": "da519c7b-9c2a-4409-a078-a4999945cddd",
   "metadata": {},
   "outputs": [
    {
     "data": {
      "text/plain": [
       "'pppy'"
      ]
     },
     "execution_count": 8,
     "metadata": {},
     "output_type": "execute_result"
    }
   ],
   "source": [
    "'p'*3+'y'"
   ]
  },
  {
   "cell_type": "code",
   "execution_count": 9,
   "id": "8cdb00ad-031d-4e91-8ccc-0d34b3ed1057",
   "metadata": {},
   "outputs": [
    {
     "data": {
      "text/plain": [
       "['h', 'n', 'o', 'p', 't', 'y']"
      ]
     },
     "execution_count": 9,
     "metadata": {},
     "output_type": "execute_result"
    }
   ],
   "source": [
    "sorted(str1)"
   ]
  },
  {
   "cell_type": "code",
   "execution_count": 10,
   "id": "a136f3a3-a9e6-4303-8a9a-0d328ddde8db",
   "metadata": {},
   "outputs": [
    {
     "data": {
      "text/plain": [
       "['y', 't', 'p', 'o', 'n', 'h']"
      ]
     },
     "execution_count": 10,
     "metadata": {},
     "output_type": "execute_result"
    }
   ],
   "source": [
    "sorted(str1,reverse=True)"
   ]
  },
  {
   "cell_type": "code",
   "execution_count": 11,
   "id": "3da1c164-657f-4582-82e6-de8523e523d0",
   "metadata": {},
   "outputs": [
    {
     "data": {
      "text/plain": [
       "0j"
      ]
     },
     "execution_count": 11,
     "metadata": {},
     "output_type": "execute_result"
    }
   ],
   "source": [
    "complex()"
   ]
  },
  {
   "cell_type": "code",
   "execution_count": 12,
   "id": "cf41efab-551b-4e8a-b3ea-de07739bfaa2",
   "metadata": {},
   "outputs": [
    {
     "data": {
      "text/plain": [
       "(10+20j)"
      ]
     },
     "execution_count": 12,
     "metadata": {},
     "output_type": "execute_result"
    }
   ],
   "source": [
    "complex(10,20)"
   ]
  },
  {
   "cell_type": "code",
   "execution_count": 13,
   "id": "d2c31130-7223-4b23-84f7-07147e9b8914",
   "metadata": {},
   "outputs": [
    {
     "data": {
      "text/plain": [
       "(10+11j)"
      ]
     },
     "execution_count": 13,
     "metadata": {},
     "output_type": "execute_result"
    }
   ],
   "source": [
    "complex(real=10,imag=11)"
   ]
  },
  {
   "cell_type": "code",
   "execution_count": 14,
   "id": "75551859-7c9b-44a9-a9ca-f627e92a779b",
   "metadata": {},
   "outputs": [],
   "source": [
    "b=reversed(str1)"
   ]
  },
  {
   "cell_type": "code",
   "execution_count": 15,
   "id": "3a5d76de-4b15-4abc-a976-f89631019412",
   "metadata": {},
   "outputs": [
    {
     "name": "stdout",
     "output_type": "stream",
     "text": [
      "n\n",
      "o\n",
      "h\n",
      "t\n",
      "y\n",
      "p\n"
     ]
    }
   ],
   "source": [
    "for i in b:\n",
    "    print(i)"
   ]
  },
  {
   "cell_type": "code",
   "execution_count": 16,
   "id": "6273e5f3-8ab5-479c-ab5d-1daab98efd38",
   "metadata": {},
   "outputs": [
    {
     "data": {
      "text/plain": [
       "['__add__',\n",
       " '__class__',\n",
       " '__contains__',\n",
       " '__delattr__',\n",
       " '__dir__',\n",
       " '__doc__',\n",
       " '__eq__',\n",
       " '__format__',\n",
       " '__ge__',\n",
       " '__getattribute__',\n",
       " '__getitem__',\n",
       " '__getnewargs__',\n",
       " '__getstate__',\n",
       " '__gt__',\n",
       " '__hash__',\n",
       " '__init__',\n",
       " '__init_subclass__',\n",
       " '__iter__',\n",
       " '__le__',\n",
       " '__len__',\n",
       " '__lt__',\n",
       " '__mod__',\n",
       " '__mul__',\n",
       " '__ne__',\n",
       " '__new__',\n",
       " '__reduce__',\n",
       " '__reduce_ex__',\n",
       " '__repr__',\n",
       " '__rmod__',\n",
       " '__rmul__',\n",
       " '__setattr__',\n",
       " '__sizeof__',\n",
       " '__str__',\n",
       " '__subclasshook__',\n",
       " 'capitalize',\n",
       " 'casefold',\n",
       " 'center',\n",
       " 'count',\n",
       " 'encode',\n",
       " 'endswith',\n",
       " 'expandtabs',\n",
       " 'find',\n",
       " 'format',\n",
       " 'format_map',\n",
       " 'index',\n",
       " 'isalnum',\n",
       " 'isalpha',\n",
       " 'isascii',\n",
       " 'isdecimal',\n",
       " 'isdigit',\n",
       " 'isidentifier',\n",
       " 'islower',\n",
       " 'isnumeric',\n",
       " 'isprintable',\n",
       " 'isspace',\n",
       " 'istitle',\n",
       " 'isupper',\n",
       " 'join',\n",
       " 'ljust',\n",
       " 'lower',\n",
       " 'lstrip',\n",
       " 'maketrans',\n",
       " 'partition',\n",
       " 'removeprefix',\n",
       " 'removesuffix',\n",
       " 'replace',\n",
       " 'rfind',\n",
       " 'rindex',\n",
       " 'rjust',\n",
       " 'rpartition',\n",
       " 'rsplit',\n",
       " 'rstrip',\n",
       " 'split',\n",
       " 'splitlines',\n",
       " 'startswith',\n",
       " 'strip',\n",
       " 'swapcase',\n",
       " 'title',\n",
       " 'translate',\n",
       " 'upper',\n",
       " 'zfill']"
      ]
     },
     "execution_count": 16,
     "metadata": {},
     "output_type": "execute_result"
    }
   ],
   "source": [
    "dir('')"
   ]
  },
  {
   "cell_type": "code",
   "execution_count": 1,
   "id": "6cdccd2b-fe7d-4c75-aee4-d7ba47c09938",
   "metadata": {},
   "outputs": [
    {
     "name": "stdout",
     "output_type": "stream",
     "text": [
      "Help on built-in function rfind:\n",
      "\n",
      "rfind(...) method of builtins.str instance\n",
      "    S.rfind(sub[, start[, end]]) -> int\n",
      "    \n",
      "    Return the highest index in S where substring sub is found,\n",
      "    such that sub is contained within S[start:end].  Optional\n",
      "    arguments start and end are interpreted as in slice notation.\n",
      "    \n",
      "    Return -1 on failure.\n",
      "\n"
     ]
    }
   ],
   "source": [
    "help(''.rfind)"
   ]
  },
  {
   "cell_type": "code",
   "execution_count": 18,
   "id": "36a4b7a3-b0db-41f4-88d5-00946a5df8a7",
   "metadata": {},
   "outputs": [],
   "source": [
    "a= 'hai how are you'"
   ]
  },
  {
   "cell_type": "code",
   "execution_count": 19,
   "id": "42503d64-290c-4e18-8841-97ebf96eb9dc",
   "metadata": {},
   "outputs": [
    {
     "data": {
      "text/plain": [
       "'HAI HOW ARE YOU'"
      ]
     },
     "execution_count": 19,
     "metadata": {},
     "output_type": "execute_result"
    }
   ],
   "source": [
    "a.upper()"
   ]
  },
  {
   "cell_type": "code",
   "execution_count": 20,
   "id": "78a2dd30-e789-49cb-b625-b40a19c74a73",
   "metadata": {},
   "outputs": [
    {
     "data": {
      "text/plain": [
       "'hai how are you'"
      ]
     },
     "execution_count": 20,
     "metadata": {},
     "output_type": "execute_result"
    }
   ],
   "source": [
    "a.lower()"
   ]
  },
  {
   "cell_type": "code",
   "execution_count": 21,
   "id": "d5789a90-18a5-4e9a-995c-3bd5ee1dc065",
   "metadata": {},
   "outputs": [
    {
     "data": {
      "text/plain": [
       "'Hai how are you'"
      ]
     },
     "execution_count": 21,
     "metadata": {},
     "output_type": "execute_result"
    }
   ],
   "source": [
    "a.capitalize()"
   ]
  },
  {
   "cell_type": "code",
   "execution_count": 22,
   "id": "b11c20f9-e929-4469-8706-9b77a5f89279",
   "metadata": {},
   "outputs": [
    {
     "data": {
      "text/plain": [
       "'hai how are you'"
      ]
     },
     "execution_count": 22,
     "metadata": {},
     "output_type": "execute_result"
    }
   ],
   "source": [
    "a.casefold()"
   ]
  },
  {
   "cell_type": "code",
   "execution_count": 23,
   "id": "f69688b9-bb76-4037-bee8-e2e00d6d6387",
   "metadata": {},
   "outputs": [
    {
     "data": {
      "text/plain": [
       "'Hai How Are You'"
      ]
     },
     "execution_count": 23,
     "metadata": {},
     "output_type": "execute_result"
    }
   ],
   "source": [
    "a.title()"
   ]
  },
  {
   "cell_type": "code",
   "execution_count": 24,
   "id": "3d279743-ba69-4429-bf83-926721191f88",
   "metadata": {},
   "outputs": [
    {
     "data": {
      "text/plain": [
       "'@@@@@@@hai how are you@@@@@@@@'"
      ]
     },
     "execution_count": 24,
     "metadata": {},
     "output_type": "execute_result"
    }
   ],
   "source": [
    "a.center(30,'@')"
   ]
  },
  {
   "cell_type": "code",
   "execution_count": 25,
   "id": "a10cfa0d-778d-4e2f-b09d-d2ad4fc476db",
   "metadata": {
    "scrolled": true
   },
   "outputs": [
    {
     "data": {
      "text/plain": [
       "1"
      ]
     },
     "execution_count": 25,
     "metadata": {},
     "output_type": "execute_result"
    }
   ],
   "source": [
    "a.count('e')"
   ]
  },
  {
   "cell_type": "code",
   "execution_count": 30,
   "id": "d3c3dd22-c29f-40ab-b593-8d5f13542b3a",
   "metadata": {},
   "outputs": [],
   "source": [
    "str5='welllcome'"
   ]
  },
  {
   "cell_type": "code",
   "execution_count": 34,
   "id": "2d588735-1a73-4b56-b525-75be5b54f279",
   "metadata": {},
   "outputs": [
    {
     "data": {
      "text/plain": [
       "'weLLLcome'"
      ]
     },
     "execution_count": 34,
     "metadata": {},
     "output_type": "execute_result"
    }
   ],
   "source": [
    "str5.replace('l','L')"
   ]
  },
  {
   "cell_type": "code",
   "execution_count": 35,
   "id": "8c56a8f2-cd76-435b-bc2d-f9d6fe63f8b3",
   "metadata": {},
   "outputs": [
    {
     "data": {
      "text/plain": [
       "'weLllcome'"
      ]
     },
     "execution_count": 35,
     "metadata": {},
     "output_type": "execute_result"
    }
   ],
   "source": [
    "str5.replace('l','L',1)"
   ]
  },
  {
   "cell_type": "code",
   "execution_count": 37,
   "id": "1ce6be7c-630e-4204-abb9-ad828cb77548",
   "metadata": {},
   "outputs": [
    {
     "data": {
      "text/plain": [
       "'weLLlcome'"
      ]
     },
     "execution_count": 37,
     "metadata": {},
     "output_type": "execute_result"
    }
   ],
   "source": [
    "str5.replace('l','L',2)"
   ]
  },
  {
   "cell_type": "code",
   "execution_count": 7,
   "id": "2231bf21-0bb1-446b-9cda-be67e955fc17",
   "metadata": {},
   "outputs": [
    {
     "name": "stdin",
     "output_type": "stream",
     "text": [
      "Enter the string :  hi mohit/\n"
     ]
    },
    {
     "data": {
      "text/plain": [
       "'hi mohit/'"
      ]
     },
     "execution_count": 7,
     "metadata": {},
     "output_type": "execute_result"
    }
   ],
   "source": [
    "a=input('Enter the string : ')\n",
    "a"
   ]
  },
  {
   "cell_type": "code",
   "execution_count": 5,
   "id": "fcdd900f-bbf8-4f93-ae67-5467de19ef8d",
   "metadata": {},
   "outputs": [
    {
     "name": "stdin",
     "output_type": "stream",
     "text": [
      "Enter the string :  hi mohit\\\n"
     ]
    },
    {
     "ename": "SyntaxError",
     "evalue": "unexpected character after line continuation character (<string>, line 1)",
     "output_type": "error",
     "traceback": [
      "Traceback \u001b[1;36m(most recent call last)\u001b[0m:\n",
      "\u001b[0m  File \u001b[0;32m~\\anaconda3\\Lib\\site-packages\\IPython\\core\\interactiveshell.py:3553\u001b[0m in \u001b[0;35mrun_code\u001b[0m\n    exec(code_obj, self.user_global_ns, self.user_ns)\u001b[0m\n",
      "\u001b[1;36m  Cell \u001b[1;32mIn[5], line 1\u001b[1;36m\n\u001b[1;33m    a=eval(input('Enter the string : '))\u001b[1;36m\n",
      "\u001b[1;36m  File \u001b[1;32m<string>:1\u001b[1;36m\u001b[0m\n\u001b[1;33m    hi mohit\\\u001b[0m\n\u001b[1;37m            ^\u001b[0m\n\u001b[1;31mSyntaxError\u001b[0m\u001b[1;31m:\u001b[0m unexpected character after line continuation character\n"
     ]
    }
   ],
   "source": [
    "a=eval(input('Enter the string : '))\n",
    "a"
   ]
  },
  {
   "cell_type": "code",
   "execution_count": 6,
   "id": "d36c6c67-47e4-4430-9f0d-4582ea4e32cf",
   "metadata": {},
   "outputs": [
    {
     "name": "stdin",
     "output_type": "stream",
     "text": [
      "Enter the string :  hi mohit\n"
     ]
    },
    {
     "ename": "SyntaxError",
     "evalue": "invalid syntax (<string>, line 1)",
     "output_type": "error",
     "traceback": [
      "Traceback \u001b[1;36m(most recent call last)\u001b[0m:\n",
      "\u001b[0m  File \u001b[0;32m~\\anaconda3\\Lib\\site-packages\\IPython\\core\\interactiveshell.py:3553\u001b[0m in \u001b[0;35mrun_code\u001b[0m\n    exec(code_obj, self.user_global_ns, self.user_ns)\u001b[0m\n",
      "\u001b[1;36m  Cell \u001b[1;32mIn[6], line 1\u001b[1;36m\n\u001b[1;33m    a=eval(input('Enter the string : '))\u001b[1;36m\n",
      "\u001b[1;36m  File \u001b[1;32m<string>:1\u001b[1;36m\u001b[0m\n\u001b[1;33m    hi mohit\u001b[0m\n\u001b[1;37m       ^\u001b[0m\n\u001b[1;31mSyntaxError\u001b[0m\u001b[1;31m:\u001b[0m invalid syntax\n"
     ]
    }
   ],
   "source": [
    "a=eval(input('Enter the string : '))\n",
    "a"
   ]
  },
  {
   "cell_type": "code",
   "execution_count": 8,
   "id": "024422cd-9376-497a-ac42-110f367a4761",
   "metadata": {},
   "outputs": [
    {
     "name": "stdin",
     "output_type": "stream",
     "text": [
      "Enter the string :  \"hi mohit\\\"\n"
     ]
    },
    {
     "ename": "SyntaxError",
     "evalue": "unterminated string literal (detected at line 1) (<string>, line 1)",
     "output_type": "error",
     "traceback": [
      "Traceback \u001b[1;36m(most recent call last)\u001b[0m:\n",
      "\u001b[0m  File \u001b[0;32m~\\anaconda3\\Lib\\site-packages\\IPython\\core\\interactiveshell.py:3553\u001b[0m in \u001b[0;35mrun_code\u001b[0m\n    exec(code_obj, self.user_global_ns, self.user_ns)\u001b[0m\n",
      "\u001b[1;36m  Cell \u001b[1;32mIn[8], line 1\u001b[1;36m\n\u001b[1;33m    a=eval(input('Enter the string : '))\u001b[1;36m\n",
      "\u001b[1;36m  File \u001b[1;32m<string>:1\u001b[1;36m\u001b[0m\n\u001b[1;33m    \"hi mohit\\\"\u001b[0m\n\u001b[1;37m    ^\u001b[0m\n\u001b[1;31mSyntaxError\u001b[0m\u001b[1;31m:\u001b[0m unterminated string literal (detected at line 1)\n"
     ]
    }
   ],
   "source": [
    "a=eval(input('Enter the string : '))\n",
    "a"
   ]
  },
  {
   "cell_type": "code",
   "execution_count": 3,
   "id": "3b9e8349-01a2-455e-aff9-9a51df89a1d9",
   "metadata": {},
   "outputs": [
    {
     "data": {
      "text/plain": [
       "str"
      ]
     },
     "execution_count": 3,
     "metadata": {},
     "output_type": "execute_result"
    }
   ],
   "source": [
    "type(a)"
   ]
  },
  {
   "cell_type": "code",
   "execution_count": 4,
   "id": "6c6bfba1-e16f-4180-8c06-89702c24db93",
   "metadata": {},
   "outputs": [
    {
     "name": "stdout",
     "output_type": "stream",
     "text": [
      "hi mohit\n"
     ]
    }
   ],
   "source": [
    "print(a)"
   ]
  },
  {
   "cell_type": "code",
   "execution_count": 3,
   "id": "c5ea611f-79e9-48e7-bfa9-4f1a12edc959",
   "metadata": {},
   "outputs": [
    {
     "name": "stdout",
     "output_type": "stream",
     "text": [
      "Help on method randint in module random:\n",
      "\n",
      "randint(a, b) method of random.Random instance\n",
      "    Return random integer in range [a, b], including both end points.\n",
      "\n"
     ]
    }
   ],
   "source": [
    "import random\n",
    "random.randint(5,5)\n",
    "help(random.randint)"
   ]
  },
  {
   "cell_type": "code",
   "execution_count": 4,
   "id": "ccccd57e-13f4-4339-b33f-9b75129b1f4f",
   "metadata": {},
   "outputs": [
    {
     "name": "stdout",
     "output_type": "stream",
     "text": [
      "Help on built-in function sorted in module builtins:\n",
      "\n",
      "sorted(iterable, /, *, key=None, reverse=False)\n",
      "    Return a new list containing all items from the iterable in ascending order.\n",
      "    \n",
      "    A custom key function can be supplied to customize the sort order, and the\n",
      "    reverse flag can be set to request the result in descending order.\n",
      "\n"
     ]
    }
   ],
   "source": [
    "help(sorted)"
   ]
  },
  {
   "cell_type": "code",
   "execution_count": null,
   "id": "19548919-8987-40b7-860c-7f0af8a8052a",
   "metadata": {},
   "outputs": [],
   "source": [
    "reversed()"
   ]
  },
  {
   "cell_type": "code",
   "execution_count": 1,
   "id": "d6855403-d49b-4c8d-b71b-92571c1bea6d",
   "metadata": {},
   "outputs": [
    {
     "name": "stdout",
     "output_type": "stream",
     "text": [
      "H\n",
      "e\n",
      "l\n",
      "l\n",
      "o\n",
      " \n",
      "M\n",
      "o\n",
      "h\n",
      "i\n",
      "t\n"
     ]
    }
   ],
   "source": [
    "s='Hello Mohit'\n",
    "for i in s:\n",
    "    print(i)"
   ]
  },
  {
   "cell_type": "code",
   "execution_count": 7,
   "id": "91035f26-37e6-42f9-bbc1-81a669d41b9d",
   "metadata": {},
   "outputs": [
    {
     "name": "stdout",
     "output_type": "stream",
     "text": [
      " On Positive index 0 string latter is \"H\" .\n",
      " On Positive index 1 string latter is \"i\" .\n",
      " On Positive index 2 string latter is \" \" .\n",
      " On Positive index 3 string latter is \"M\" .\n",
      " On Positive index 4 string latter is \"o\" .\n",
      " On Positive index 5 string latter is \"h\" .\n",
      " On Positive index 6 string latter is \"i\" .\n",
      " On Positive index 7 string latter is \"t\" .\n"
     ]
    }
   ],
   "source": [
    "s1 = 'Hi Mohit'\n",
    "for i in range(len(s1)):\n",
    "    print(f' On Positive index {i} string latter is \"{s1[i]}\" .')"
   ]
  },
  {
   "cell_type": "code",
   "execution_count": 8,
   "id": "f26cf213-54c1-4843-bad1-4777252a1176",
   "metadata": {},
   "outputs": [
    {
     "name": "stdout",
     "output_type": "stream",
     "text": [
      " On Positive index \"0\" and Negative index \"-9\" on String Latter is present \"W\" . \n",
      " On Positive index \"1\" and Negative index \"-8\" on String Latter is present \"o\" . \n",
      " On Positive index \"2\" and Negative index \"-7\" on String Latter is present \"w\" . \n",
      " On Positive index \"3\" and Negative index \"-6\" on String Latter is present \" \" . \n",
      " On Positive index \"4\" and Negative index \"-5\" on String Latter is present \"M\" . \n",
      " On Positive index \"5\" and Negative index \"-4\" on String Latter is present \"o\" . \n",
      " On Positive index \"6\" and Negative index \"-3\" on String Latter is present \"h\" . \n",
      " On Positive index \"7\" and Negative index \"-2\" on String Latter is present \"i\" . \n",
      " On Positive index \"8\" and Negative index \"-1\" on String Latter is present \"t\" . \n"
     ]
    }
   ],
   "source": [
    "s2 = 'Wow Mohit'\n",
    "for i in range(len(s2)):\n",
    "    print(f' On Positive index \"{i}\" and Negative index \"{i-len(s2)}\" on String Latter is present \"{s2[i]}\" . ')"
   ]
  },
  {
   "cell_type": "code",
   "execution_count": null,
   "id": "51947198-2314-47db-9c26-6bbf3beebf6b",
   "metadata": {},
   "outputs": [],
   "source": [
    "str3='Hi I Am Mohit'\n",
    "#  -13 -12 -11 -10 -9 -8 -7 -6 -5  -4 -3 -2 -1\n",
    "#   H   i       I      A   m    M   o  h  i  t\n",
    "#   0   1   2   3  4   5  6  7  8   9  10 11 12"
   ]
  },
  {
   "cell_type": "code",
   "execution_count": 9,
   "id": "8ac0d465-ee32-4ce8-ba44-cfc41ab83f62",
   "metadata": {},
   "outputs": [],
   "source": [
    "str3='Hi I Am Mohit'"
   ]
  },
  {
   "cell_type": "code",
   "execution_count": 25,
   "id": "353a749b-cfd4-4962-b3a1-4099d3345a1d",
   "metadata": {},
   "outputs": [
    {
     "data": {
      "text/plain": [
       "'m Mohit'"
      ]
     },
     "execution_count": 25,
     "metadata": {},
     "output_type": "execute_result"
    }
   ],
   "source": [
    "str3[6:]"
   ]
  },
  {
   "cell_type": "code",
   "execution_count": 17,
   "id": "a0107ece-0ec1-4ee3-be10-7203663de99a",
   "metadata": {},
   "outputs": [
    {
     "data": {
      "text/plain": [
       "'m Mo'"
      ]
     },
     "execution_count": 17,
     "metadata": {},
     "output_type": "execute_result"
    }
   ],
   "source": [
    "str3[6:10]"
   ]
  },
  {
   "cell_type": "code",
   "execution_count": 23,
   "id": "ea2fe60e-a7ca-4a5b-aba8-d48061779416",
   "metadata": {},
   "outputs": [
    {
     "data": {
      "text/plain": [
       "'thM'"
      ]
     },
     "execution_count": 23,
     "metadata": {},
     "output_type": "execute_result"
    }
   ],
   "source": [
    "str3[12:-6:-2]"
   ]
  },
  {
   "cell_type": "code",
   "execution_count": 26,
   "id": "a417c82b-aa1a-43b3-833d-46c9a7bad0a3",
   "metadata": {},
   "outputs": [
    {
     "data": {
      "text/plain": [
       "['__add__',\n",
       " '__class__',\n",
       " '__contains__',\n",
       " '__delattr__',\n",
       " '__dir__',\n",
       " '__doc__',\n",
       " '__eq__',\n",
       " '__format__',\n",
       " '__ge__',\n",
       " '__getattribute__',\n",
       " '__getitem__',\n",
       " '__getnewargs__',\n",
       " '__getstate__',\n",
       " '__gt__',\n",
       " '__hash__',\n",
       " '__init__',\n",
       " '__init_subclass__',\n",
       " '__iter__',\n",
       " '__le__',\n",
       " '__len__',\n",
       " '__lt__',\n",
       " '__mod__',\n",
       " '__mul__',\n",
       " '__ne__',\n",
       " '__new__',\n",
       " '__reduce__',\n",
       " '__reduce_ex__',\n",
       " '__repr__',\n",
       " '__rmod__',\n",
       " '__rmul__',\n",
       " '__setattr__',\n",
       " '__sizeof__',\n",
       " '__str__',\n",
       " '__subclasshook__',\n",
       " 'capitalize',\n",
       " 'casefold',\n",
       " 'center',\n",
       " 'count',\n",
       " 'encode',\n",
       " 'endswith',\n",
       " 'expandtabs',\n",
       " 'find',\n",
       " 'format',\n",
       " 'format_map',\n",
       " 'index',\n",
       " 'isalnum',\n",
       " 'isalpha',\n",
       " 'isascii',\n",
       " 'isdecimal',\n",
       " 'isdigit',\n",
       " 'isidentifier',\n",
       " 'islower',\n",
       " 'isnumeric',\n",
       " 'isprintable',\n",
       " 'isspace',\n",
       " 'istitle',\n",
       " 'isupper',\n",
       " 'join',\n",
       " 'ljust',\n",
       " 'lower',\n",
       " 'lstrip',\n",
       " 'maketrans',\n",
       " 'partition',\n",
       " 'removeprefix',\n",
       " 'removesuffix',\n",
       " 'replace',\n",
       " 'rfind',\n",
       " 'rindex',\n",
       " 'rjust',\n",
       " 'rpartition',\n",
       " 'rsplit',\n",
       " 'rstrip',\n",
       " 'split',\n",
       " 'splitlines',\n",
       " 'startswith',\n",
       " 'strip',\n",
       " 'swapcase',\n",
       " 'title',\n",
       " 'translate',\n",
       " 'upper',\n",
       " 'zfill']"
      ]
     },
     "execution_count": 26,
     "metadata": {},
     "output_type": "execute_result"
    }
   ],
   "source": [
    "dir('')"
   ]
  },
  {
   "cell_type": "code",
   "execution_count": 27,
   "id": "b12660f1-8f23-42fc-a5a9-11c046ca3115",
   "metadata": {},
   "outputs": [
    {
     "name": "stdout",
     "output_type": "stream",
     "text": [
      "Help on built-in function casefold:\n",
      "\n",
      "casefold() method of builtins.str instance\n",
      "    Return a version of the string suitable for caseless comparisons.\n",
      "\n"
     ]
    }
   ],
   "source": [
    "help(''.casefold)"
   ]
  },
  {
   "cell_type": "code",
   "execution_count": 3,
   "id": "b27e6ad5-d4b9-4ce1-8cc4-085b2a1a1eec",
   "metadata": {},
   "outputs": [
    {
     "data": {
      "text/plain": [
       "1"
      ]
     },
     "execution_count": 3,
     "metadata": {},
     "output_type": "execute_result"
    }
   ],
   "source": [
    "str1='ola ola ola'\n",
    "str1.count('ola ola ')"
   ]
  },
  {
   "cell_type": "code",
   "execution_count": 3,
   "id": "454f9c6c-32ce-4eec-a46f-a230a7054729",
   "metadata": {},
   "outputs": [
    {
     "data": {
      "text/plain": [
       "'weLcome'"
      ]
     },
     "execution_count": 3,
     "metadata": {},
     "output_type": "execute_result"
    }
   ],
   "source": [
    "str1='welcome'\n",
    "str1.replace('l','L')"
   ]
  },
  {
   "cell_type": "markdown",
   "id": "c1d5b98b-d680-40c1-be98-8dcfaafebb15",
   "metadata": {},
   "source": [
    "\n",
    "# mock  dreal"
   ]
  },
  {
   "cell_type": "code",
   "execution_count": 1,
   "id": "fce17190-74a7-45ad-a93e-cd7a3c7ff655",
   "metadata": {},
   "outputs": [],
   "source": [
    "# inti \n",
    "str='mohit'"
   ]
  },
  {
   "cell_type": "code",
   "execution_count": 2,
   "id": "ab73d9df-6487-4c5f-9117-50faf77a6503",
   "metadata": {},
   "outputs": [
    {
     "data": {
      "text/plain": [
       "'mohit'"
      ]
     },
     "execution_count": 2,
     "metadata": {},
     "output_type": "execute_result"
    }
   ],
   "source": [
    "str\n"
   ]
  },
  {
   "cell_type": "code",
   "execution_count": 3,
   "id": "9866f975-7a28-4e1d-8581-9c5f6644d1ff",
   "metadata": {},
   "outputs": [
    {
     "data": {
      "text/plain": [
       "str"
      ]
     },
     "execution_count": 3,
     "metadata": {},
     "output_type": "execute_result"
    }
   ],
   "source": [
    "type(str)"
   ]
  },
  {
   "cell_type": "code",
   "execution_count": 4,
   "id": "ca9ea9be-8f38-42f5-a87e-814b543de00f",
   "metadata": {},
   "outputs": [
    {
     "name": "stdout",
     "output_type": "stream",
     "text": [
      "<class 'str'>\n"
     ]
    }
   ],
   "source": [
    "print(type(str))"
   ]
  },
  {
   "cell_type": "code",
   "execution_count": 5,
   "id": "7c3223f4-2bc5-4dd8-8a81-cab22f5c2f82",
   "metadata": {},
   "outputs": [
    {
     "data": {
      "text/plain": [
       "5"
      ]
     },
     "execution_count": 5,
     "metadata": {},
     "output_type": "execute_result"
    }
   ],
   "source": [
    "# len()\n",
    "len(str)"
   ]
  },
  {
   "cell_type": "code",
   "execution_count": 6,
   "id": "8a9a8742-1a45-4580-91d3-9ce134b29f0f",
   "metadata": {},
   "outputs": [
    {
     "data": {
      "text/plain": [
       "'t'"
      ]
     },
     "execution_count": 6,
     "metadata": {},
     "output_type": "execute_result"
    }
   ],
   "source": [
    "#max()\n",
    "max(str)"
   ]
  },
  {
   "cell_type": "code",
   "execution_count": 7,
   "id": "5eab332b-5885-4f07-bf4b-5f641af08ab9",
   "metadata": {},
   "outputs": [
    {
     "data": {
      "text/plain": [
       "'h'"
      ]
     },
     "execution_count": 7,
     "metadata": {},
     "output_type": "execute_result"
    }
   ],
   "source": [
    "#min()\n",
    "min(str)"
   ]
  },
  {
   "cell_type": "code",
   "execution_count": 8,
   "id": "fd582e3f-4536-4f83-88ff-8c7fa8dec912",
   "metadata": {},
   "outputs": [
    {
     "data": {
      "text/plain": [
       "['h', 'i', 'm', 'o', 't']"
      ]
     },
     "execution_count": 8,
     "metadata": {},
     "output_type": "execute_result"
    }
   ],
   "source": [
    "# sorted()\n",
    "sorted(str)"
   ]
  },
  {
   "cell_type": "code",
   "execution_count": 9,
   "id": "1a1282aa-c5a6-4912-8407-233b1806d0ee",
   "metadata": {},
   "outputs": [
    {
     "data": {
      "text/plain": [
       "<reversed at 0x19c184c2f50>"
      ]
     },
     "execution_count": 9,
     "metadata": {},
     "output_type": "execute_result"
    }
   ],
   "source": [
    "reversed(str)"
   ]
  },
  {
   "cell_type": "code",
   "execution_count": 11,
   "id": "e22cfbd0-0673-4bb7-9a51-036ae25862bf",
   "metadata": {},
   "outputs": [
    {
     "name": "stdout",
     "output_type": "stream",
     "text": [
      "t\n",
      "i\n",
      "h\n",
      "o\n",
      "m\n"
     ]
    }
   ],
   "source": [
    "for  i in reversed(str):\n",
    "    print(i)\n"
   ]
  },
  {
   "cell_type": "code",
   "execution_count": 14,
   "id": "584d5e1f-e9b0-4a7a-b321-1e670ef2559d",
   "metadata": {},
   "outputs": [
    {
     "name": "stdout",
     "output_type": "stream",
     "text": [
      "m\n",
      "o\n",
      "h\n",
      "i\n",
      "t\n"
     ]
    }
   ],
   "source": [
    "# in operater\n",
    "for i in str:\n",
    "    print(i)"
   ]
  },
  {
   "cell_type": "code",
   "execution_count": 19,
   "id": "6db8f865-e857-4b8b-b95c-b5795e3401fd",
   "metadata": {},
   "outputs": [
    {
     "name": "stdout",
     "output_type": "stream",
     "text": [
      "mohit\n"
     ]
    }
   ],
   "source": [
    "#concadination \n",
    "str1='mohit'\n",
    "str2=''\n",
    "for i in str1:\n",
    "    str2=str2+i\n",
    "\n",
    "print(str2)"
   ]
  },
  {
   "cell_type": "code",
   "execution_count": 20,
   "id": "e0d1fbc9-1ffc-4f81-83d7-ffc658d19854",
   "metadata": {},
   "outputs": [
    {
     "data": {
      "text/plain": [
       "'m'"
      ]
     },
     "execution_count": 20,
     "metadata": {},
     "output_type": "execute_result"
    }
   ],
   "source": [
    "# index as A CONCEPT\n",
    "#str.index[4] WEONG WAY IT IS MOTHOD\n",
    "str[0]"
   ]
  },
  {
   "cell_type": "code",
   "execution_count": 22,
   "id": "201df660-593d-4b27-8502-195e9cbc1181",
   "metadata": {},
   "outputs": [
    {
     "data": {
      "text/plain": [
       "('m', 'o', 't', 'i', 'h')"
      ]
     },
     "execution_count": 22,
     "metadata": {},
     "output_type": "execute_result"
    }
   ],
   "source": [
    "str[0],str[1],str[4],str[3],str[2]"
   ]
  },
  {
   "cell_type": "code",
   "execution_count": 23,
   "id": "4b79d1d2-9319-4dcf-b925-fc38c4236299",
   "metadata": {},
   "outputs": [
    {
     "name": "stdout",
     "output_type": "stream",
     "text": [
      "m\n",
      "o\n",
      "h\n",
      "i\n",
      "t\n",
      "b\n",
      "e\n",
      "l\n",
      "e\n"
     ]
    }
   ],
   "source": [
    "a='mohitbele'\n",
    "for i in range(len(a)):\n",
    "    print(a[i])"
   ]
  },
  {
   "cell_type": "markdown",
   "id": "16fb5ab9-2b5a-4f00-9337-1ff70b6a21ac",
   "metadata": {},
   "source": [
    "# sclicing"
   ]
  },
  {
   "cell_type": "code",
   "execution_count": 24,
   "id": "224a25ee-2aaf-4fd2-a851-e57442b813ca",
   "metadata": {},
   "outputs": [
    {
     "data": {
      "text/plain": [
       "'mohit'"
      ]
     },
     "execution_count": 24,
     "metadata": {},
     "output_type": "execute_result"
    }
   ],
   "source": [
    "a[:5]"
   ]
  },
  {
   "cell_type": "code",
   "execution_count": 25,
   "id": "6c1e2fc9-1094-4670-91f3-3d42496cc642",
   "metadata": {},
   "outputs": [
    {
     "data": {
      "text/plain": [
       "'mohit'"
      ]
     },
     "execution_count": 25,
     "metadata": {},
     "output_type": "execute_result"
    }
   ],
   "source": [
    "a[0:5]"
   ]
  },
  {
   "cell_type": "code",
   "execution_count": 28,
   "id": "1159e8e7-3a8b-438e-b8a4-2a0fd5a52a84",
   "metadata": {},
   "outputs": [
    {
     "data": {
      "text/plain": [
       "'mohitbele'"
      ]
     },
     "execution_count": 28,
     "metadata": {},
     "output_type": "execute_result"
    }
   ],
   "source": [
    "a[:]"
   ]
  },
  {
   "cell_type": "code",
   "execution_count": 29,
   "id": "6ba8db78-9e5d-4e59-acbc-b1f006345b79",
   "metadata": {},
   "outputs": [
    {
     "data": {
      "text/plain": [
       "'mhtee'"
      ]
     },
     "execution_count": 29,
     "metadata": {},
     "output_type": "execute_result"
    }
   ],
   "source": [
    "a[0:9:2]"
   ]
  },
  {
   "cell_type": "code",
   "execution_count": 31,
   "id": "ac208c13-52bf-4230-b273-d1b262603e96",
   "metadata": {},
   "outputs": [
    {
     "data": {
      "text/plain": [
       "'mohitbele'"
      ]
     },
     "execution_count": 31,
     "metadata": {},
     "output_type": "execute_result"
    }
   ],
   "source": [
    "a[0:500]"
   ]
  },
  {
   "cell_type": "code",
   "execution_count": 33,
   "id": "ee3a2927-32a3-4a59-a0b0-2ec1b9e01eca",
   "metadata": {},
   "outputs": [
    {
     "data": {
      "text/plain": [
       "''"
      ]
     },
     "execution_count": 33,
     "metadata": {},
     "output_type": "execute_result"
    }
   ],
   "source": [
    "a[500:-1]"
   ]
  },
  {
   "cell_type": "code",
   "execution_count": 34,
   "id": "a47cae3b-8cee-48fe-a4b8-325d3ec99172",
   "metadata": {},
   "outputs": [
    {
     "data": {
      "text/plain": [
       "'ohit'"
      ]
     },
     "execution_count": 34,
     "metadata": {},
     "output_type": "execute_result"
    }
   ],
   "source": [
    "a[1:5]"
   ]
  },
  {
   "cell_type": "code",
   "execution_count": 35,
   "id": "4fcf29f1-7537-420d-9cdc-c49eca865700",
   "metadata": {},
   "outputs": [
    {
     "data": {
      "text/plain": [
       "['__add__',\n",
       " '__class__',\n",
       " '__contains__',\n",
       " '__delattr__',\n",
       " '__dir__',\n",
       " '__doc__',\n",
       " '__eq__',\n",
       " '__format__',\n",
       " '__ge__',\n",
       " '__getattribute__',\n",
       " '__getitem__',\n",
       " '__getnewargs__',\n",
       " '__getstate__',\n",
       " '__gt__',\n",
       " '__hash__',\n",
       " '__init__',\n",
       " '__init_subclass__',\n",
       " '__iter__',\n",
       " '__le__',\n",
       " '__len__',\n",
       " '__lt__',\n",
       " '__mod__',\n",
       " '__mul__',\n",
       " '__ne__',\n",
       " '__new__',\n",
       " '__reduce__',\n",
       " '__reduce_ex__',\n",
       " '__repr__',\n",
       " '__rmod__',\n",
       " '__rmul__',\n",
       " '__setattr__',\n",
       " '__sizeof__',\n",
       " '__str__',\n",
       " '__subclasshook__',\n",
       " 'capitalize',\n",
       " 'casefold',\n",
       " 'center',\n",
       " 'count',\n",
       " 'encode',\n",
       " 'endswith',\n",
       " 'expandtabs',\n",
       " 'find',\n",
       " 'format',\n",
       " 'format_map',\n",
       " 'index',\n",
       " 'isalnum',\n",
       " 'isalpha',\n",
       " 'isascii',\n",
       " 'isdecimal',\n",
       " 'isdigit',\n",
       " 'isidentifier',\n",
       " 'islower',\n",
       " 'isnumeric',\n",
       " 'isprintable',\n",
       " 'isspace',\n",
       " 'istitle',\n",
       " 'isupper',\n",
       " 'join',\n",
       " 'ljust',\n",
       " 'lower',\n",
       " 'lstrip',\n",
       " 'maketrans',\n",
       " 'partition',\n",
       " 'removeprefix',\n",
       " 'removesuffix',\n",
       " 'replace',\n",
       " 'rfind',\n",
       " 'rindex',\n",
       " 'rjust',\n",
       " 'rpartition',\n",
       " 'rsplit',\n",
       " 'rstrip',\n",
       " 'split',\n",
       " 'splitlines',\n",
       " 'startswith',\n",
       " 'strip',\n",
       " 'swapcase',\n",
       " 'title',\n",
       " 'translate',\n",
       " 'upper',\n",
       " 'zfill']"
      ]
     },
     "execution_count": 35,
     "metadata": {},
     "output_type": "execute_result"
    }
   ],
   "source": [
    "dir('')"
   ]
  },
  {
   "cell_type": "code",
   "execution_count": 37,
   "id": "44309916-10d3-4ce0-bdb0-588d91631959",
   "metadata": {},
   "outputs": [],
   "source": [
    "s='Mohit is Best'"
   ]
  },
  {
   "cell_type": "code",
   "execution_count": 38,
   "id": "d363f9fa-fe25-4757-8e91-f415dbf6a6fe",
   "metadata": {},
   "outputs": [
    {
     "data": {
      "text/plain": [
       "'Mohit is best'"
      ]
     },
     "execution_count": 38,
     "metadata": {},
     "output_type": "execute_result"
    }
   ],
   "source": [
    "s.capitalize()"
   ]
  },
  {
   "cell_type": "code",
   "execution_count": 39,
   "id": "40a5ad92-6119-458c-8304-3f94d5e71dde",
   "metadata": {},
   "outputs": [
    {
     "data": {
      "text/plain": [
       "'mohit is best'"
      ]
     },
     "execution_count": 39,
     "metadata": {},
     "output_type": "execute_result"
    }
   ],
   "source": [
    "s.casefold()"
   ]
  },
  {
   "cell_type": "code",
   "execution_count": 40,
   "id": "197975e4-f196-4970-9223-c444770d8ea9",
   "metadata": {},
   "outputs": [
    {
     "data": {
      "text/plain": [
       "'###Mohit is Best####'"
      ]
     },
     "execution_count": 40,
     "metadata": {},
     "output_type": "execute_result"
    }
   ],
   "source": [
    "s.center(20,'#')"
   ]
  },
  {
   "cell_type": "code",
   "execution_count": 41,
   "id": "0c3d8115-a12a-421b-bfad-79465804502a",
   "metadata": {},
   "outputs": [
    {
     "ename": "TypeError",
     "evalue": "count() takes at least 1 argument (0 given)",
     "output_type": "error",
     "traceback": [
      "\u001b[1;31m---------------------------------------------------------------------------\u001b[0m",
      "\u001b[1;31mTypeError\u001b[0m                                 Traceback (most recent call last)",
      "Cell \u001b[1;32mIn[41], line 1\u001b[0m\n\u001b[1;32m----> 1\u001b[0m s\u001b[38;5;241m.\u001b[39mcount()\n",
      "\u001b[1;31mTypeError\u001b[0m: count() takes at least 1 argument (0 given)"
     ]
    }
   ],
   "source": [
    "s.count()"
   ]
  },
  {
   "cell_type": "code",
   "execution_count": 42,
   "id": "8424413d-222f-42b0-bb9a-957f108ebd42",
   "metadata": {},
   "outputs": [
    {
     "data": {
      "text/plain": [
       "2"
      ]
     },
     "execution_count": 42,
     "metadata": {},
     "output_type": "execute_result"
    }
   ],
   "source": [
    "s.count('i')"
   ]
  },
  {
   "cell_type": "code",
   "execution_count": 47,
   "id": "6551c4c7-b2a9-4c2a-a014-a25413af84eb",
   "metadata": {},
   "outputs": [
    {
     "data": {
      "text/plain": [
       "b'Mohit is Best'"
      ]
     },
     "execution_count": 47,
     "metadata": {},
     "output_type": "execute_result"
    }
   ],
   "source": [
    "s.encode('utf-8')"
   ]
  },
  {
   "cell_type": "code",
   "execution_count": 43,
   "id": "2306e9a5-27b2-4445-858c-a511a722c909",
   "metadata": {},
   "outputs": [
    {
     "name": "stdout",
     "output_type": "stream",
     "text": [
      "Help on built-in function encode:\n",
      "\n",
      "encode(encoding='utf-8', errors='strict') method of builtins.str instance\n",
      "    Encode the string using the codec registered for encoding.\n",
      "    \n",
      "    encoding\n",
      "      The encoding in which to encode the string.\n",
      "    errors\n",
      "      The error handling scheme to use for encoding errors.\n",
      "      The default is 'strict' meaning that encoding errors raise a\n",
      "      UnicodeEncodeError.  Other possible values are 'ignore', 'replace' and\n",
      "      'xmlcharrefreplace' as well as any other name registered with\n",
      "      codecs.register_error that can handle UnicodeEncodeErrors.\n",
      "\n"
     ]
    }
   ],
   "source": [
    "help(''.encode)"
   ]
  },
  {
   "cell_type": "code",
   "execution_count": 48,
   "id": "8e5156cc-9647-4736-afaf-a6f3e06e09d0",
   "metadata": {},
   "outputs": [
    {
     "data": {
      "text/plain": [
       "b'Mohit is Best'"
      ]
     },
     "execution_count": 48,
     "metadata": {},
     "output_type": "execute_result"
    }
   ],
   "source": [
    "b'Mohit is Best'"
   ]
  },
  {
   "cell_type": "code",
   "execution_count": null,
   "id": "cebcab7d-d4a0-455b-a3c6-ea9355c5f13d",
   "metadata": {},
   "outputs": [],
   "source": []
  }
 ],
 "metadata": {
  "kernelspec": {
   "display_name": "Python 3 (ipykernel)",
   "language": "python",
   "name": "python3"
  },
  "language_info": {
   "codemirror_mode": {
    "name": "ipython",
    "version": 3
   },
   "file_extension": ".py",
   "mimetype": "text/x-python",
   "name": "python",
   "nbconvert_exporter": "python",
   "pygments_lexer": "ipython3",
   "version": "3.11.7"
  }
 },
 "nbformat": 4,
 "nbformat_minor": 5
}
