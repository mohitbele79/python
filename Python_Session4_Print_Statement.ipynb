{
 "cells": [
  {
   "cell_type": "markdown",
   "id": "1b7e109f-6f82-4e51-82c0-91dd64379b06",
   "metadata": {},
   "source": [
    "# Print Statement"
   ]
  },
  {
   "cell_type": "markdown",
   "id": "a06e642c-d24c-403a-b8e7-0dbb01c3c6ac",
   "metadata": {},
   "source": [
    "- in print statement having 3 types of print statment.\n",
    "  \n",
    "-     Basic method\n",
    "-     'format' string method\n",
    "-     'f' string method\n",
    "\n",
    "- \"sep\" is use the seperate the multipal lines of same print statement.\n",
    "- \"end\" is combine the multipal print statement  "
   ]
  },
  {
   "cell_type": "code",
   "execution_count": 2,
   "id": "15d9f616-7b16-4f57-b4e3-e848b1c68dcf",
   "metadata": {},
   "outputs": [
    {
     "name": "stdout",
     "output_type": "stream",
     "text": [
      "20\n"
     ]
    }
   ],
   "source": [
    "print(20)"
   ]
  },
  {
   "cell_type": "code",
   "execution_count": 3,
   "id": "887bf121-1fbb-4a1b-93fa-102507ab50fe",
   "metadata": {},
   "outputs": [
    {
     "name": "stdout",
     "output_type": "stream",
     "text": [
      "Python\n"
     ]
    }
   ],
   "source": [
    "print('Python')"
   ]
  },
  {
   "cell_type": "code",
   "execution_count": 11,
   "id": "9cd802e6-e4bc-4d6e-99f4-27f736b7485a",
   "metadata": {},
   "outputs": [
    {
     "name": "stdout",
     "output_type": "stream",
     "text": [
      "1\n",
      "None\n"
     ]
    }
   ],
   "source": [
    "a=print(1)\n",
    "print(a)"
   ]
  },
  {
   "cell_type": "code",
   "execution_count": 15,
   "id": "24821b00-9ee7-4ca2-968f-b7068c50364d",
   "metadata": {},
   "outputs": [
    {
     "name": "stdout",
     "output_type": "stream",
     "text": [
      "10 20 30 mohit bele True\n"
     ]
    }
   ],
   "source": [
    "print(10,20,30,'mohit bele', True)"
   ]
  },
  {
   "cell_type": "code",
   "execution_count": 16,
   "id": "fc3c0787-50a7-412f-b9f2-5c37346ee9ab",
   "metadata": {},
   "outputs": [
    {
     "name": "stdout",
     "output_type": "stream",
     "text": [
      "10\n",
      "30\n",
      "50\n"
     ]
    },
    {
     "data": {
      "text/plain": [
       "(None, None, None)"
      ]
     },
     "execution_count": 16,
     "metadata": {},
     "output_type": "execute_result"
    }
   ],
   "source": [
    "print(10),print(30),print(50)"
   ]
  },
  {
   "cell_type": "code",
   "execution_count": 17,
   "id": "36619f94-4932-48cc-a87f-bf2852a2fd82",
   "metadata": {},
   "outputs": [
    {
     "name": "stdout",
     "output_type": "stream",
     "text": [
      "10 20 30\n",
      "10\n",
      "20\n"
     ]
    },
    {
     "data": {
      "text/plain": [
       "(None, None)"
      ]
     },
     "execution_count": 17,
     "metadata": {},
     "output_type": "execute_result"
    }
   ],
   "source": [
    "print(10,20,30)\n",
    "print(10),print(20)"
   ]
  },
  {
   "cell_type": "markdown",
   "id": "fffab330-976c-497d-bec0-0653f6edace8",
   "metadata": {},
   "source": [
    "10,20"
   ]
  },
  {
   "cell_type": "code",
   "execution_count": 19,
   "id": "e4a36401-2027-4fa3-a3fb-282c98dcd708",
   "metadata": {},
   "outputs": [
    {
     "data": {
      "text/plain": [
       "(10, 20)"
      ]
     },
     "execution_count": 19,
     "metadata": {},
     "output_type": "execute_result"
    }
   ],
   "source": [
    "n1=10\n",
    "n2=20\n",
    "n1,n2"
   ]
  },
  {
   "cell_type": "code",
   "execution_count": 22,
   "id": "13740b2e-b586-41fd-b081-4df9bae062c7",
   "metadata": {},
   "outputs": [
    {
     "name": "stdout",
     "output_type": "stream",
     "text": [
      "the add  10 and 20 is 30\n",
      "the addition of 100 and 200 is 300\n"
     ]
    }
   ],
   "source": [
    "a=100\n",
    "b=200\n",
    "c=a+b\n",
    "print('the add  10 and 20 is 30')\n",
    "print(\"the addition of\",a,\"and\",b,\"is\",c)"
   ]
  },
  {
   "cell_type": "code",
   "execution_count": 26,
   "id": "315f985e-4563-422f-ad26-421cb312e2eb",
   "metadata": {},
   "outputs": [
    {
     "name": "stdout",
     "output_type": "stream",
     "text": [
      "The add 100 and 200 is 300\n"
     ]
    }
   ],
   "source": [
    "print('The add {} and {} is {}'.format(a,b,c))"
   ]
  },
  {
   "cell_type": "code",
   "execution_count": 28,
   "id": "4238af87-d15a-4713-9d52-81a706df5b87",
   "metadata": {},
   "outputs": [
    {
     "name": "stdout",
     "output_type": "stream",
     "text": [
      "the add 100 and 200 is 300\n"
     ]
    }
   ],
   "source": [
    "print(f'the add {a} and {b} is {c}')"
   ]
  },
  {
   "cell_type": "code",
   "execution_count": 29,
   "id": "630ba33a-990d-4a47-8066-7753a298006f",
   "metadata": {},
   "outputs": [
    {
     "name": "stdout",
     "output_type": "stream",
     "text": [
      "10\n",
      "20\n",
      "30\n"
     ]
    }
   ],
   "source": [
    "print(10,20,30,sep='\\n')"
   ]
  },
  {
   "cell_type": "code",
   "execution_count": 3,
   "id": "df9f5933-e485-4da5-880d-c26fbe187562",
   "metadata": {},
   "outputs": [
    {
     "name": "stdout",
     "output_type": "stream",
     "text": [
      "mohit is learn the Data Science\n",
      "mohit is learn the Data Science\n",
      "mohit is learn the Data Science\n"
     ]
    }
   ],
   "source": [
    "name='mohit'\n",
    "work='learn'\n",
    "what='Data Science'\n",
    "\n",
    "# basic method\n",
    "print(name,'is',work,'the',what)\n",
    "\n",
    "# format method\n",
    "print('{} is {} the {}'.format(name,work,what))\n",
    "\n",
    "# f string method\n",
    "print(f'{name} is {work} the {what}')"
   ]
  },
  {
   "cell_type": "markdown",
   "id": "6134563b-5c77-4f7c-b7e7-d8044063c678",
   "metadata": {},
   "source": [
    "**sep**"
   ]
  },
  {
   "cell_type": "code",
   "execution_count": 7,
   "id": "68f43bc5-565c-40ab-b166-376e09a2276a",
   "metadata": {},
   "outputs": [
    {
     "name": "stdout",
     "output_type": "stream",
     "text": [
      "10--------->20--------->30\n"
     ]
    }
   ],
   "source": [
    "print(10, 20 , 30,sep='--------->')"
   ]
  },
  {
   "cell_type": "markdown",
   "id": "42af8d6c-4eda-47e2-9b78-2062f60da4c9",
   "metadata": {},
   "source": [
    "**end**"
   ]
  },
  {
   "cell_type": "code",
   "execution_count": 8,
   "id": "d9666706-97ac-49d1-90c9-c417e757d7c1",
   "metadata": {},
   "outputs": [
    {
     "name": "stdout",
     "output_type": "stream",
     "text": [
      "10\n",
      "20\n",
      "30\n"
     ]
    }
   ],
   "source": [
    "print(10)\n",
    "print(20)\n",
    "print(30)"
   ]
  },
  {
   "cell_type": "code",
   "execution_count": 10,
   "id": "93fef999-49cc-44dc-afcb-e7fa4b7f5b9e",
   "metadata": {},
   "outputs": [
    {
     "name": "stdout",
     "output_type": "stream",
     "text": [
      "10-20-30\n"
     ]
    }
   ],
   "source": [
    "print(10,end='-')\n",
    "print(20,end='-')\n",
    "print(30,)"
   ]
  },
  {
   "cell_type": "code",
   "execution_count": null,
   "id": "c49e0b69-3ef5-4a54-a9b1-a64d6405f882",
   "metadata": {},
   "outputs": [],
   "source": []
  }
 ],
 "metadata": {
  "kernelspec": {
   "display_name": "Python 3 (ipykernel)",
   "language": "python",
   "name": "python3"
  },
  "language_info": {
   "codemirror_mode": {
    "name": "ipython",
    "version": 3
   },
   "file_extension": ".py",
   "mimetype": "text/x-python",
   "name": "python",
   "nbconvert_exporter": "python",
   "pygments_lexer": "ipython3",
   "version": "3.11.7"
  }
 },
 "nbformat": 4,
 "nbformat_minor": 5
}
