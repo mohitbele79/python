{
 "cells": [
  {
   "cell_type": "markdown",
   "id": "eeb45446-119d-464a-8adf-d3067ac69ad1",
   "metadata": {},
   "source": [
    "# Variables"
   ]
  },
  {
   "cell_type": "code",
   "execution_count": 5,
   "id": "1a23b654-ed7a-46e7-84ad-0c4c27eb619d",
   "metadata": {},
   "outputs": [
    {
     "data": {
      "text/plain": [
       "5"
      ]
     },
     "execution_count": 5,
     "metadata": {},
     "output_type": "execute_result"
    }
   ],
   "source": [
    "number=5\n",
    "num"
   ]
  },
  {
   "cell_type": "code",
   "execution_count": 6,
   "id": "aab7c580-b616-4c02-870d-1598da1a79de",
   "metadata": {},
   "outputs": [
    {
     "data": {
      "text/plain": [
       "200"
      ]
     },
     "execution_count": 6,
     "metadata": {},
     "output_type": "execute_result"
    }
   ],
   "source": [
    "NUMBER=200\n",
    "NUMBER"
   ]
  },
  {
   "cell_type": "code",
   "execution_count": 7,
   "id": "ebe42ca4-75e4-4734-9222-574fd2d6fa94",
   "metadata": {},
   "outputs": [
    {
     "data": {
      "text/plain": [
       "(5, 200)"
      ]
     },
     "execution_count": 7,
     "metadata": {},
     "output_type": "execute_result"
    }
   ],
   "source": [
    "number, NUMBER"
   ]
  },
  {
   "cell_type": "code",
   "execution_count": 8,
   "id": "860cbe49-a966-4003-b380-14cac32a6128",
   "metadata": {},
   "outputs": [
    {
     "data": {
      "text/plain": [
       "500"
      ]
     },
     "execution_count": 8,
     "metadata": {},
     "output_type": "execute_result"
    }
   ],
   "source": [
    "number=500\n",
    "number"
   ]
  },
  {
   "cell_type": "code",
   "execution_count": null,
   "id": "7b8f1687-ce21-4bab-8ed0-b59d115adf17",
   "metadata": {},
   "outputs": [],
   "source": [
    " number=200 # c\n",
    " NUMBER=300 # c\n",
    " NUMber=400 # c\n",
    " number123=500 # c\n",
    " 123number=600 # w\n",
    " Number one = 700 # w\n",
    " number_one = 800 # c\n",
    " num%er=900 # w\n",
    " _=1000 # c\n",
    " n1,n2=1100,1200 # c\n",
    " True = 1300 # w\n",
    " n1,n2=100 # W\n",
    " n1=100,200# c"
   ]
  },
  {
   "cell_type": "code",
   "execution_count": 3,
   "id": "778a8ee0-c0ba-4c71-81e0-548f199f5f90",
   "metadata": {},
   "outputs": [],
   "source": [
    "num_12=123"
   ]
  },
  {
   "cell_type": "code",
   "execution_count": 4,
   "id": "8a043499-5409-45b9-9145-0c5539f7774b",
   "metadata": {},
   "outputs": [],
   "source": [
    "NUMber=2555"
   ]
  },
  {
   "cell_type": "code",
   "execution_count": 5,
   "id": "70143ce6-b9a2-4829-a77d-415a34f7f1eb",
   "metadata": {},
   "outputs": [],
   "source": [
    "NUMBER_1234=213"
   ]
  },
  {
   "cell_type": "code",
   "execution_count": 6,
   "id": "027676e6-e3db-40ad-91cc-9be3d45844de",
   "metadata": {},
   "outputs": [],
   "source": [
    "_=254611"
   ]
  },
  {
   "cell_type": "code",
   "execution_count": 7,
   "id": "c37d4ef7-e5e2-461b-ab46-2e43ec62b8eb",
   "metadata": {},
   "outputs": [
    {
     "ename": "TypeError",
     "evalue": "cannot unpack non-iterable int object",
     "output_type": "error",
     "traceback": [
      "\u001b[1;31m---------------------------------------------------------------------------\u001b[0m",
      "\u001b[1;31mTypeError\u001b[0m                                 Traceback (most recent call last)",
      "Cell \u001b[1;32mIn[7], line 1\u001b[0m\n\u001b[1;32m----> 1\u001b[0m N1,N2\u001b[38;5;241m=\u001b[39m\u001b[38;5;241m1000\u001b[39m\n",
      "\u001b[1;31mTypeError\u001b[0m: cannot unpack non-iterable int object"
     ]
    }
   ],
   "source": [
    "N1,N2=1000"
   ]
  },
  {
   "cell_type": "code",
   "execution_count": 9,
   "id": "093d1a81-a6ee-43c7-93b2-7307ba56e5a6",
   "metadata": {},
   "outputs": [],
   "source": [
    "N1=100,200,2000"
   ]
  },
  {
   "cell_type": "code",
   "execution_count": 11,
   "id": "32c3c18b-77b0-406d-86c1-6f4823c0d82d",
   "metadata": {},
   "outputs": [
    {
     "ename": "SyntaxError",
     "evalue": "cannot assign to True (770560042.py, line 1)",
     "output_type": "error",
     "traceback": [
      "\u001b[1;36m  Cell \u001b[1;32mIn[11], line 1\u001b[1;36m\u001b[0m\n\u001b[1;33m    True=131\u001b[0m\n\u001b[1;37m    ^\u001b[0m\n\u001b[1;31mSyntaxError\u001b[0m\u001b[1;31m:\u001b[0m cannot assign to True\n"
     ]
    }
   ],
   "source": [
    "True=131\n"
   ]
  },
  {
   "cell_type": "code",
   "execution_count": 12,
   "id": "5b4ba4ba-481b-4852-8bb4-5ae1b4b0cabb",
   "metadata": {},
   "outputs": [],
   "source": [
    "true=120"
   ]
  },
  {
   "cell_type": "code",
   "execution_count": 13,
   "id": "32084b76-46c5-4d5b-b7fe-6d26df2c8cb0",
   "metadata": {},
   "outputs": [
    {
     "ename": "SyntaxError",
     "evalue": "invalid syntax (1673087283.py, line 1)",
     "output_type": "error",
     "traceback": [
      "\u001b[1;36m  Cell \u001b[1;32mIn[13], line 1\u001b[1;36m\u001b[0m\n\u001b[1;33m    num$=1245\u001b[0m\n\u001b[1;37m       ^\u001b[0m\n\u001b[1;31mSyntaxError\u001b[0m\u001b[1;31m:\u001b[0m invalid syntax\n"
     ]
    }
   ],
   "source": [
    "num$=1245"
   ]
  },
  {
   "cell_type": "code",
   "execution_count": 14,
   "id": "4b7e1fe5-37a8-43e9-b819-17333a8c8d08",
   "metadata": {},
   "outputs": [],
   "source": [
    "num_nvy=125"
   ]
  },
  {
   "cell_type": "code",
   "execution_count": 15,
   "id": "70071ea3-3404-4e85-823e-4f7bed7e04e1",
   "metadata": {},
   "outputs": [],
   "source": [
    "num_ber_one=1"
   ]
  },
  {
   "cell_type": "code",
   "execution_count": 17,
   "id": "7de4f34e-82f3-4373-8c69-4e72444f4dd2",
   "metadata": {},
   "outputs": [],
   "source": [
    "num_123_ber_hi452_1524633=12"
   ]
  },
  {
   "cell_type": "code",
   "execution_count": 18,
   "id": "adc21a43-8356-48a3-a806-1906d0ff7905",
   "metadata": {},
   "outputs": [],
   "source": [
    "num=(5)"
   ]
  },
  {
   "cell_type": "code",
   "execution_count": 19,
   "id": "daefda03-d9ba-4836-a686-137aad9ffc53",
   "metadata": {},
   "outputs": [
    {
     "data": {
      "text/plain": [
       "5"
      ]
     },
     "execution_count": 19,
     "metadata": {},
     "output_type": "execute_result"
    }
   ],
   "source": [
    "num"
   ]
  },
  {
   "cell_type": "code",
   "execution_count": 20,
   "id": "c87d4110-8118-4582-b396-e88a19a55519",
   "metadata": {},
   "outputs": [],
   "source": [
    "a=5^2"
   ]
  },
  {
   "cell_type": "code",
   "execution_count": 21,
   "id": "749b0a95-0da1-448f-928c-b8e791affacc",
   "metadata": {},
   "outputs": [
    {
     "data": {
      "text/plain": [
       "7"
      ]
     },
     "execution_count": 21,
     "metadata": {},
     "output_type": "execute_result"
    }
   ],
   "source": [
    "a"
   ]
  },
  {
   "cell_type": "code",
   "execution_count": 22,
   "id": "a8862627-9f00-4efc-97cf-c00cc0b1f8f0",
   "metadata": {},
   "outputs": [],
   "source": [
    "b=2^2"
   ]
  },
  {
   "cell_type": "code",
   "execution_count": 23,
   "id": "d8677196-d578-454f-bb67-9b4a5ca7886f",
   "metadata": {},
   "outputs": [
    {
     "data": {
      "text/plain": [
       "0"
      ]
     },
     "execution_count": 23,
     "metadata": {},
     "output_type": "execute_result"
    }
   ],
   "source": [
    "b"
   ]
  },
  {
   "cell_type": "code",
   "execution_count": 24,
   "id": "61f51e8f-09e1-4b5c-a8fc-9e5a461da445",
   "metadata": {},
   "outputs": [],
   "source": [
    "num=2&5"
   ]
  },
  {
   "cell_type": "code",
   "execution_count": 25,
   "id": "b88442ea-360c-47c1-8d21-fa9a02a29f63",
   "metadata": {},
   "outputs": [
    {
     "data": {
      "text/plain": [
       "0"
      ]
     },
     "execution_count": 25,
     "metadata": {},
     "output_type": "execute_result"
    }
   ],
   "source": [
    "num"
   ]
  },
  {
   "cell_type": "code",
   "execution_count": 28,
   "id": "722bf41b-434b-439b-808d-721fdab5e3c6",
   "metadata": {},
   "outputs": [],
   "source": [
    "num=10&2"
   ]
  },
  {
   "cell_type": "code",
   "execution_count": 29,
   "id": "b9309ae8-7178-4adc-8778-2aa6c73eaa37",
   "metadata": {},
   "outputs": [
    {
     "data": {
      "text/plain": [
       "2"
      ]
     },
     "execution_count": 29,
     "metadata": {},
     "output_type": "execute_result"
    }
   ],
   "source": [
    "num"
   ]
  },
  {
   "cell_type": "code",
   "execution_count": null,
   "id": "abdbd74b-31d5-4926-949c-60696a4c2b5a",
   "metadata": {},
   "outputs": [],
   "source": []
  }
 ],
 "metadata": {
  "kernelspec": {
   "display_name": "Python 3 (ipykernel)",
   "language": "python",
   "name": "python3"
  },
  "language_info": {
   "codemirror_mode": {
    "name": "ipython",
    "version": 3
   },
   "file_extension": ".py",
   "mimetype": "text/x-python",
   "name": "python",
   "nbconvert_exporter": "python",
   "pygments_lexer": "ipython3",
   "version": "3.11.7"
  }
 },
 "nbformat": 4,
 "nbformat_minor": 5
}
