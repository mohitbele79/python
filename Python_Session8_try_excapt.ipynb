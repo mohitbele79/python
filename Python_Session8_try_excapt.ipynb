{
 "cells": [
  {
   "cell_type": "code",
   "execution_count": 1,
   "id": "4fd19ce5-8c37-4563-bdc3-7a8b18a8867d",
   "metadata": {},
   "outputs": [
    {
     "name": "stdout",
     "output_type": "stream",
     "text": [
      "hello mohit\n"
     ]
    }
   ],
   "source": [
    "try:\n",
    "    a=0\n",
    "    a=b+c\n",
    "    c=0\n",
    "    print('hi mohit')\n",
    "except:\n",
    "    print('hello mohit')"
   ]
  },
  {
   "cell_type": "code",
   "execution_count": 8,
   "id": "fecbb079-94bc-48b8-afff-a2f4f232f263",
   "metadata": {},
   "outputs": [
    {
     "name": "stdin",
     "output_type": "stream",
     "text": [
      "Enter the value of a : ten\n"
     ]
    },
    {
     "name": "stdout",
     "output_type": "stream",
     "text": [
      "you enter the wrong input!, plase enter the currect input\n"
     ]
    }
   ],
   "source": [
    "\n",
    "try:\n",
    "    a=eval(input('Enter the value of a :'))\n",
    "    b=eval(input('Enter the value of b :'))\n",
    "    if a<b:\n",
    "        print(f'{b} is greater then {a} ')\n",
    "    else:\n",
    "        print(f'{b} is lesser then {a} ')\n",
    "\n",
    "except:\n",
    "    print('you enter the wrong input!, plase enter the currect input')"
   ]
  },
  {
   "cell_type": "code",
   "execution_count": null,
   "id": "7b6eb404-6944-4d4c-92d1-b76ed8433167",
   "metadata": {},
   "outputs": [],
   "source": []
  },
  {
   "cell_type": "code",
   "execution_count": null,
   "id": "0ec5a98e-f3f2-4770-bd72-9fea086dd3a8",
   "metadata": {},
   "outputs": [],
   "source": []
  }
 ],
 "metadata": {
  "kernelspec": {
   "display_name": "Python 3 (ipykernel)",
   "language": "python",
   "name": "python3"
  },
  "language_info": {
   "codemirror_mode": {
    "name": "ipython",
    "version": 3
   },
   "file_extension": ".py",
   "mimetype": "text/x-python",
   "name": "python",
   "nbconvert_exporter": "python",
   "pygments_lexer": "ipython3",
   "version": "3.11.7"
  }
 },
 "nbformat": 4,
 "nbformat_minor": 5
}
