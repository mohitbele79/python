{
 "cells": [
  {
   "cell_type": "markdown",
   "id": "d284a280-e9ea-4245-862a-7aac259c3eb5",
   "metadata": {},
   "source": [
    "## For Loop"
   ]
  },
  {
   "cell_type": "markdown",
   "id": "b5e16e4c-98ab-4b92-99c9-3209199107b0",
   "metadata": {},
   "source": [
    "- for loop\n",
    "- pattern-1\n",
    "- pattern-2\n",
    "- pattern-3\n",
    "- summation wrapper\n",
    "- counter wrapper\n",
    "- in operater\n",
    "- deferance between in and range.\n",
    "- ord-chr"
   ]
  },
  {
   "cell_type": "markdown",
   "id": "04bd4089-1b74-47ed-b626-8a4a179300d0",
   "metadata": {},
   "source": [
    "## pattern - 1"
   ]
  },
  {
   "cell_type": "code",
   "execution_count": 2,
   "id": "eb2db96f-3f30-4be4-8fa8-b1cf6ab07b14",
   "metadata": {},
   "outputs": [
    {
     "name": "stdout",
     "output_type": "stream",
     "text": [
      "0\n",
      "1\n",
      "2\n",
      "3\n",
      "4\n"
     ]
    }
   ],
   "source": [
    "for i in range(5):\n",
    "    print(i)"
   ]
  },
  {
   "cell_type": "code",
   "execution_count": 3,
   "id": "22140250-7e2f-422b-8f3b-48708eae051d",
   "metadata": {},
   "outputs": [
    {
     "name": "stdout",
     "output_type": "stream",
     "text": [
      "Mohit\n",
      "Mohit\n",
      "Mohit\n",
      "Mohit\n",
      "Mohit\n",
      "Mohit\n",
      "Mohit\n",
      "Mohit\n",
      "Mohit\n",
      "Mohit\n"
     ]
    }
   ],
   "source": [
    "for i in range(10):\n",
    "    print('Mohit')"
   ]
  },
  {
   "cell_type": "code",
   "execution_count": 6,
   "id": "ce420736-92c8-4814-8e91-54fde036ebab",
   "metadata": {},
   "outputs": [
    {
     "name": "stdin",
     "output_type": "stream",
     "text": [
      "Enter the Number :  5\n"
     ]
    },
    {
     "name": "stdout",
     "output_type": "stream",
     "text": [
      "5 * 0 = 0\n",
      "5 * 1 = 5\n",
      "5 * 2 = 10\n",
      "5 * 3 = 15\n",
      "5 * 4 = 20\n",
      "5 * 5 = 25\n",
      "5 * 6 = 30\n",
      "5 * 7 = 35\n",
      "5 * 8 = 40\n",
      "5 * 9 = 45\n"
     ]
    }
   ],
   "source": [
    "a = eval(input('Enter the Number : '))\n",
    "for i in range(10):\n",
    "    print(f'{a} * {i} = {a*i}')"
   ]
  },
  {
   "cell_type": "markdown",
   "id": "411b4d16-9bca-4b13-8664-1e3fef8d4015",
   "metadata": {},
   "source": [
    "## Pattern - 2"
   ]
  },
  {
   "cell_type": "code",
   "execution_count": 3,
   "id": "f1b07109-4563-47cf-860b-cac8c699f9c1",
   "metadata": {},
   "outputs": [
    {
     "name": "stdin",
     "output_type": "stream",
     "text": [
      "Enter the Number :  8\n"
     ]
    },
    {
     "name": "stdout",
     "output_type": "stream",
     "text": [
      " 8 * 1 = 8\n",
      " 8 * 2 = 16\n",
      " 8 * 3 = 24\n",
      " 8 * 4 = 32\n",
      " 8 * 5 = 40\n",
      " 8 * 6 = 48\n",
      " 8 * 7 = 56\n",
      " 8 * 8 = 64\n",
      " 8 * 9 = 72\n",
      " 8 * 10 = 80\n",
      " 8 * 11 = 88\n",
      " 8 * 12 = 96\n",
      " 8 * 13 = 104\n",
      " 8 * 14 = 112\n",
      " 8 * 15 = 120\n",
      " 8 * 16 = 128\n",
      " 8 * 17 = 136\n",
      " 8 * 18 = 144\n",
      " 8 * 19 = 152\n",
      " 8 * 20 = 160\n"
     ]
    }
   ],
   "source": [
    "b=eval(input('Enter the Number : '))\n",
    "for i in range(1,21):\n",
    "    print(f' {b} * {i} = {b*i}')\n",
    "    "
   ]
  },
  {
   "cell_type": "code",
   "execution_count": 11,
   "id": "5db82c07-c539-4237-be98-5bec62940ffc",
   "metadata": {},
   "outputs": [
    {
     "name": "stdout",
     "output_type": "stream",
     "text": [
      "Square Of 9 is 81\n",
      "Square Of 2 is 4\n",
      "Square Of 8 is 64\n",
      "Square Of 10 is 100\n",
      "Square Of 2 is 4\n"
     ]
    }
   ],
   "source": [
    "import random \n",
    "a=random.randint(1,100)\n",
    "for i in range(1,5):\n",
    "    a=random.randint(1,10)\n",
    "    print(f'Square Of {a} is {a*a}')"
   ]
  },
  {
   "cell_type": "code",
   "execution_count": 14,
   "id": "a91f7efe-3a26-404b-86c6-6fc0d9ef48de",
   "metadata": {},
   "outputs": [
    {
     "name": "stdin",
     "output_type": "stream",
     "text": [
      "1)Enter the Number :  5\n"
     ]
    },
    {
     "name": "stdout",
     "output_type": "stream",
     "text": [
      "You lose\n"
     ]
    },
    {
     "name": "stdin",
     "output_type": "stream",
     "text": [
      "2)Enter the Number :  4\n"
     ]
    },
    {
     "name": "stdout",
     "output_type": "stream",
     "text": [
      "You lose\n"
     ]
    },
    {
     "name": "stdin",
     "output_type": "stream",
     "text": [
      "3)Enter the Number :  3\n"
     ]
    },
    {
     "name": "stdout",
     "output_type": "stream",
     "text": [
      "You lose\n"
     ]
    },
    {
     "name": "stdin",
     "output_type": "stream",
     "text": [
      "4)Enter the Number :  8\n"
     ]
    },
    {
     "name": "stdout",
     "output_type": "stream",
     "text": [
      "You lose\n"
     ]
    },
    {
     "name": "stdin",
     "output_type": "stream",
     "text": [
      "5)Enter the Number :  5\n"
     ]
    },
    {
     "name": "stdout",
     "output_type": "stream",
     "text": [
      "You lose\n"
     ]
    },
    {
     "name": "stdin",
     "output_type": "stream",
     "text": [
      "6)Enter the Number :  4\n"
     ]
    },
    {
     "name": "stdout",
     "output_type": "stream",
     "text": [
      "You lose\n"
     ]
    },
    {
     "name": "stdin",
     "output_type": "stream",
     "text": [
      "7)Enter the Number :  6\n"
     ]
    },
    {
     "name": "stdout",
     "output_type": "stream",
     "text": [
      "You lose\n"
     ]
    },
    {
     "name": "stdin",
     "output_type": "stream",
     "text": [
      "8)Enter the Number :  7\n"
     ]
    },
    {
     "name": "stdout",
     "output_type": "stream",
     "text": [
      "You lose\n"
     ]
    },
    {
     "name": "stdin",
     "output_type": "stream",
     "text": [
      "9)Enter the Number :  2\n"
     ]
    },
    {
     "name": "stdout",
     "output_type": "stream",
     "text": [
      "You lose\n"
     ]
    },
    {
     "name": "stdin",
     "output_type": "stream",
     "text": [
      "10)Enter the Number :  3\n"
     ]
    },
    {
     "name": "stdout",
     "output_type": "stream",
     "text": [
      "You lose\n"
     ]
    }
   ],
   "source": [
    "import random \n",
    "for i in range(1,11):\n",
    "    l=int(input(f'{i})Enter the Number : '))\n",
    "    a=random.randint(1,10)\n",
    "    if a==l:\n",
    "        print('You win ')\n",
    "    else:\n",
    "        print('You lose')\n",
    "\n"
   ]
  },
  {
   "cell_type": "markdown",
   "id": "b879a6e1-2bf2-4b11-a2cb-c4ea5ae99255",
   "metadata": {},
   "source": [
    "## pattern - 3"
   ]
  },
  {
   "cell_type": "code",
   "execution_count": 20,
   "id": "87e6380c-4227-497f-8955-8dbcf5db4372",
   "metadata": {},
   "outputs": [
    {
     "name": "stdout",
     "output_type": "stream",
     "text": [
      "1\n",
      "2\n",
      "3\n",
      "4\n",
      "5\n",
      "6\n",
      "7\n",
      "8\n",
      "9\n",
      "10\n"
     ]
    }
   ],
   "source": [
    "for i in range(1,11,1):\n",
    "    print(i)"
   ]
  },
  {
   "cell_type": "code",
   "execution_count": 2,
   "id": "9c7c57c2-7114-4069-9f28-0313c1470e93",
   "metadata": {},
   "outputs": [],
   "source": [
    "for i in range(1,11,-1):\n",
    "    print(i)"
   ]
  },
  {
   "cell_type": "code",
   "execution_count": 3,
   "id": "75e4b9af-df74-4495-8b7b-fd68e1678113",
   "metadata": {},
   "outputs": [
    {
     "name": "stdout",
     "output_type": "stream",
     "text": [
      "11\n",
      "10\n",
      "9\n",
      "8\n",
      "7\n",
      "6\n",
      "5\n",
      "4\n",
      "3\n",
      "2\n"
     ]
    }
   ],
   "source": [
    "for i in range(11,1,-1):\n",
    "    print(i)"
   ]
  },
  {
   "cell_type": "code",
   "execution_count": 5,
   "id": "f28b9407-d396-49c8-9db6-9ce27aa1954e",
   "metadata": {},
   "outputs": [
    {
     "name": "stdout",
     "output_type": "stream",
     "text": [
      "-11\n",
      "-10\n",
      "-9\n",
      "-8\n",
      "-7\n",
      "-6\n",
      "-5\n",
      "-4\n",
      "-3\n",
      "-2\n",
      "-1\n",
      "0\n"
     ]
    }
   ],
   "source": [
    "for i in range(-11,1,1):\n",
    "    print(i)"
   ]
  },
  {
   "cell_type": "code",
   "execution_count": 6,
   "id": "96e42932-be0e-419b-b89c-0fd2e8598cf4",
   "metadata": {},
   "outputs": [],
   "source": [
    "for i in range(-11,1,-1):\n",
    "    print(i)"
   ]
  },
  {
   "cell_type": "code",
   "execution_count": 8,
   "id": "cda6170e-bf9e-48e4-ad9d-9b69dbb6cb6f",
   "metadata": {},
   "outputs": [],
   "source": [
    "for i in range(1,-15,1):\n",
    "    print(i)"
   ]
  },
  {
   "cell_type": "code",
   "execution_count": 11,
   "id": "c9e4739b-8e12-4f0c-bd69-cccbc983fc26",
   "metadata": {},
   "outputs": [
    {
     "name": "stdout",
     "output_type": "stream",
     "text": [
      "1\n",
      "0\n",
      "-1\n",
      "-2\n",
      "-3\n",
      "-4\n",
      "-5\n",
      "-6\n",
      "-7\n",
      "-8\n",
      "-9\n",
      "-10\n",
      "-11\n",
      "-12\n",
      "-13\n",
      "-14\n"
     ]
    }
   ],
   "source": [
    "for i in range(1,-15,-1):\n",
    "    print(i)"
   ]
  },
  {
   "cell_type": "code",
   "execution_count": 14,
   "id": "f300a538-ea3e-4646-9955-d7d563067fd3",
   "metadata": {},
   "outputs": [
    {
     "name": "stdout",
     "output_type": "stream",
     "text": [
      "-1\n",
      "-2\n",
      "-3\n",
      "-4\n",
      "-5\n",
      "-6\n",
      "-7\n",
      "-8\n",
      "-9\n",
      "-10\n",
      "-11\n",
      "-12\n",
      "-13\n",
      "-14\n"
     ]
    }
   ],
   "source": [
    "for i in range(-1,-15,-1):\n",
    "    print(i)"
   ]
  },
  {
   "cell_type": "code",
   "execution_count": 16,
   "id": "9f64d674-991e-4bf5-8641-211818ede8d1",
   "metadata": {},
   "outputs": [],
   "source": [
    "for i in range(-1,-15,1):\n",
    "    print(i)"
   ]
  },
  {
   "cell_type": "markdown",
   "id": "0d8c66a5-227f-43d2-9c4c-7480afc0b17e",
   "metadata": {},
   "source": [
    "## sumation wrapper"
   ]
  },
  {
   "cell_type": "code",
   "execution_count": 23,
   "id": "f8f1a8d7-200f-463a-8737-d0c3165fc63b",
   "metadata": {},
   "outputs": [
    {
     "name": "stdin",
     "output_type": "stream",
     "text": [
      "Enter the Number :  55\n"
     ]
    },
    {
     "name": "stdout",
     "output_type": "stream",
     "text": [
      "1\n",
      "3\n",
      "6\n",
      "10\n",
      "15\n",
      "21\n",
      "28\n",
      "36\n",
      "45\n",
      "55\n",
      "66\n",
      "78\n",
      "91\n",
      "105\n",
      "120\n",
      "136\n",
      "153\n",
      "171\n",
      "190\n",
      "210\n",
      "231\n",
      "253\n",
      "276\n",
      "300\n",
      "325\n",
      "351\n",
      "378\n",
      "406\n",
      "435\n",
      "465\n",
      "496\n",
      "528\n",
      "561\n",
      "595\n",
      "630\n",
      "666\n",
      "703\n",
      "741\n",
      "780\n",
      "820\n",
      "861\n",
      "903\n",
      "946\n",
      "990\n",
      "1035\n",
      "1081\n",
      "1128\n",
      "1176\n",
      "1225\n",
      "1275\n",
      "1326\n",
      "1378\n",
      "1431\n",
      "1485\n"
     ]
    }
   ],
   "source": [
    "n=eval(input('Enter the Number : '))\n",
    "summ=0\n",
    "\n",
    "for i in range(1,n):\n",
    "    summ=summ+i\n",
    "    print(summ)\n",
    "        "
   ]
  },
  {
   "cell_type": "markdown",
   "id": "bd531f6f-f617-4fc1-b4bc-6ba355d680c3",
   "metadata": {},
   "source": [
    "## counter wrapper"
   ]
  },
  {
   "cell_type": "code",
   "execution_count": 1,
   "id": "01bf6526-549c-4b42-9902-963c8fb2ac89",
   "metadata": {},
   "outputs": [
    {
     "name": "stdin",
     "output_type": "stream",
     "text": [
      "Enter the Number :  5\n"
     ]
    },
    {
     "name": "stdout",
     "output_type": "stream",
     "text": [
      "1\n",
      "2\n",
      "3\n",
      "4\n",
      "5\n"
     ]
    }
   ],
   "source": [
    "a=eval(input('Enter the Number : '))\n",
    "count=0\n",
    "for i in range(a):\n",
    "    count+=1\n",
    "    print(count)"
   ]
  },
  {
   "cell_type": "code",
   "execution_count": 30,
   "id": "1e9ae4b1-f462-48a4-91fc-9ce0b996cb0b",
   "metadata": {},
   "outputs": [
    {
     "name": "stdin",
     "output_type": "stream",
     "text": [
      "Enter the Number :  10\n"
     ]
    },
    {
     "name": "stdout",
     "output_type": "stream",
     "text": [
      "0\n",
      "1\n",
      "2\n",
      "3\n",
      "4\n",
      "5\n",
      "6\n",
      "7\n",
      "8\n",
      "9\n"
     ]
    }
   ],
   "source": [
    "a=eval(input('Enter the Number : '))\n",
    "for i in range(a):\n",
    "    print(i)"
   ]
  },
  {
   "cell_type": "code",
   "execution_count": 32,
   "id": "8a20fc68-8a16-4eb7-9f4b-43cd8bd0517b",
   "metadata": {},
   "outputs": [
    {
     "name": "stdout",
     "output_type": "stream",
     "text": [
      "1\n",
      "2\n",
      "3\n",
      "4\n",
      "5\n",
      "6\n",
      "7\n",
      "8\n",
      "9\n",
      "10\n"
     ]
    }
   ],
   "source": [
    "c = 1\n",
    "while c <= 10:\n",
    "    print(c)\n",
    "    c += 1"
   ]
  },
  {
   "cell_type": "code",
   "execution_count": 6,
   "id": "71184bbb-33bc-4bd2-86c6-2aed4dde3293",
   "metadata": {},
   "outputs": [
    {
     "data": {
      "text/plain": [
       "'7'"
      ]
     },
     "execution_count": 6,
     "metadata": {},
     "output_type": "execute_result"
    }
   ],
   "source": [
    "ord('A')\n",
    "chr(55)\n"
   ]
  },
  {
   "cell_type": "code",
   "execution_count": 1,
   "id": "5c02f9dc-f452-429a-9e61-9a2cf6d402d0",
   "metadata": {},
   "outputs": [
    {
     "name": "stdin",
     "output_type": "stream",
     "text": [
      "Enter the Number : 50000\n",
      "Enter the Number :  60000\n"
     ]
    }
   ],
   "source": [
    "a=eval(input('Enter the Number :'))\n",
    "]=-\n",
    "    print(i,' : ',chr(i),end=' ')"
   ]
  },
  {
   "cell_type": "code",
   "execution_count": 1,
   "id": "b5315003-e925-4e01-be98-004dc0df72c2",
   "metadata": {},
   "outputs": [
    {
     "ename": "SyntaxError",
     "evalue": "unmatched ')' (1236508304.py, line 4)",
     "output_type": "error",
     "traceback": [
      "\u001b[1;36m  Cell \u001b[1;32mIn[1], line 4\u001b[1;36m\u001b[0m\n\u001b[1;33m    print(i,j)j)\u001b[0m\n\u001b[1;37m               ^\u001b[0m\n\u001b[1;31mSyntaxError\u001b[0m\u001b[1;31m:\u001b[0m unmatched ')'\n"
     ]
    }
   ],
   "source": [
    "d=['hi','hello','bye']\n",
    "for i in range(1, 4):\r\n",
    "    for j in range(1, 4):\r\n",
    "      print(i,j)j)"
   ]
  },
  {
   "cell_type": "code",
   "execution_count": null,
   "id": "b68fdbc8-0162-4749-98f7-0648171ebc90",
   "metadata": {},
   "outputs": [],
   "source": []
  },
  {
   "cell_type": "code",
   "execution_count": null,
   "id": "bdc7c2d5-5d78-437f-a490-d267f789ad6d",
   "metadata": {},
   "outputs": [],
   "source": []
  },
  {
   "cell_type": "code",
   "execution_count": null,
   "id": "c5cd6ec6-190b-42a3-b15c-7db01fbaa431",
   "metadata": {},
   "outputs": [],
   "source": []
  }
 ],
 "metadata": {
  "kernelspec": {
   "display_name": "Python 3 (ipykernel)",
   "language": "python",
   "name": "python3"
  },
  "language_info": {
   "codemirror_mode": {
    "name": "ipython",
    "version": 3
   },
   "file_extension": ".py",
   "mimetype": "text/x-python",
   "name": "python",
   "nbconvert_exporter": "python",
   "pygments_lexer": "ipython3",
   "version": "3.11.7"
  }
 },
 "nbformat": 4,
 "nbformat_minor": 5
}
